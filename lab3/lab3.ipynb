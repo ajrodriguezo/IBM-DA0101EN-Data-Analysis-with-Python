{
  "cells": [
    {
      "cell_type": "markdown",
      "metadata": {},
      "source": [
        "<center>\n",
        "    <img src=\"https://cf-courses-data.s3.us.cloud-object-storage.appdomain.cloud/IBMDeveloperSkillsNetwork-DA0101EN-SkillsNetwork/labs/Module%203/images/IDSNlogo.png\" width=\"300\" alt=\"cognitiveclass.ai logo\">\n",
        "</center>\n",
        "\n",
        "# Data Analysis with Python\n",
        "\n",
        "Estimated time needed: **30** minutes\n",
        "\n",
        "## Objectives\n",
        "\n",
        "After completing this lab you will be able to:\n",
        "\n",
        "*   Explore features or charecteristics to predict price of car\n"
      ]
    },
    {
      "cell_type": "markdown",
      "metadata": {},
      "source": [
        "<h2>Table of Contents</h2>\n",
        "\n",
        "<div class=\"alert alert-block alert-info\" style=\"margin-top: 20px\">\n",
        "<ol>\n",
        "    <li><a href=\"https://#import_data\">Import Data from Module</a></li>\n",
        "    <li><a href=\"https://#pattern_visualization\">Analyzing Individual Feature Patterns using Visualization</a></li>\n",
        "    <li><a href=\"https://#discriptive_statistics\">Descriptive Statistical Analysis</a></li>\n",
        "    <li><a href=\"https://#basic_grouping\">Basics of Grouping</a></li>\n",
        "    <li><a href=\"https://#correlation_causation\">Correlation and Causation</a></li>\n",
        "    <li><a href=\"https://#anova\">ANOVA</a></li>\n",
        "</ol>\n",
        "\n",
        "</div>\n",
        "\n",
        "<hr>\n"
      ]
    },
    {
      "cell_type": "markdown",
      "metadata": {},
      "source": [
        "<h3>What are the main characteristics that have the most impact on the car price?</h3>\n"
      ]
    },
    {
      "cell_type": "markdown",
      "metadata": {},
      "source": [
        "<h2 id=\"import_data\">1. Import Data from Module 2</h2>\n"
      ]
    },
    {
      "cell_type": "markdown",
      "metadata": {},
      "source": [
        "<h4>Setup</h4>\n"
      ]
    },
    {
      "cell_type": "markdown",
      "metadata": {},
      "source": [
        "you are running the lab in your  browser, so we will install the libraries using `piplite`\n"
      ]
    },
    {
      "cell_type": "code",
      "execution_count": 2,
      "metadata": {},
      "outputs": [
        {
          "ename": "ModuleNotFoundError",
          "evalue": "No module named 'piplite'",
          "output_type": "error",
          "traceback": [
            "\u001b[1;31m---------------------------------------------------------------------------\u001b[0m",
            "\u001b[1;31mModuleNotFoundError\u001b[0m                       Traceback (most recent call last)",
            "Cell \u001b[1;32mIn[2], line 2\u001b[0m\n\u001b[0;32m      1\u001b[0m \u001b[39m#you are running the lab in your  browser, so we will install the libraries using ``piplite``\u001b[39;00m\n\u001b[1;32m----> 2\u001b[0m \u001b[39mimport\u001b[39;00m \u001b[39mpiplite\u001b[39;00m\n\u001b[0;32m      3\u001b[0m \u001b[39mawait\u001b[39;00m piplite\u001b[39m.\u001b[39minstall([\u001b[39m'\u001b[39m\u001b[39mpandas\u001b[39m\u001b[39m'\u001b[39m])\n\u001b[0;32m      4\u001b[0m \u001b[39mawait\u001b[39;00m piplite\u001b[39m.\u001b[39minstall([\u001b[39m'\u001b[39m\u001b[39mmatplotlib\u001b[39m\u001b[39m'\u001b[39m])\n",
            "\u001b[1;31mModuleNotFoundError\u001b[0m: No module named 'piplite'"
          ]
        }
      ],
      "source": [
        "#you are running the lab in your  browser, so we will install the libraries using ``piplite``\n",
        "import piplite\n",
        "await piplite.install(['pandas'])\n",
        "await piplite.install(['matplotlib'])\n",
        "await piplite.install(['scipy'])\n",
        "await piplite.install(['skillsnetwork'])\n",
        "await piplite.install(['seaborn'])"
      ]
    },
    {
      "cell_type": "markdown",
      "metadata": {},
      "source": [
        "Import libraries:\n"
      ]
    },
    {
      "cell_type": "markdown",
      "metadata": {},
      "source": [
        "If you run the lab locally using Anaconda, you can load the correct library and versions by uncommenting the following:\n"
      ]
    },
    {
      "cell_type": "code",
      "execution_count": null,
      "metadata": {},
      "outputs": [],
      "source": [
        "# #If you run the lab locally using Anaconda, you can load the correct library and versions by uncommenting the following:\n",
        "# install specific version of libraries used in lab\n",
        "# ! mamba install pandas==1.3.3\n",
        "# ! mamba install numpy=1.21.2\n",
        "# ! mamba install scipy=1.7.1-y\n",
        "# !  mamba install seaborn=0.9.0-y"
      ]
    },
    {
      "cell_type": "code",
      "execution_count": 3,
      "metadata": {},
      "outputs": [],
      "source": [
        "import pandas as pd\n",
        "import numpy as np\n",
        "\n",
        "import skillsnetwork"
      ]
    },
    {
      "cell_type": "markdown",
      "metadata": {},
      "source": [
        "This function will download the dataset into your browser\n"
      ]
    },
    {
      "cell_type": "code",
      "execution_count": 4,
      "metadata": {},
      "outputs": [],
      "source": [
        "#This function will download the dataset into your browser \n",
        "\n",
        "from pyodide.http import pyfetch\n",
        "\n",
        "async def download(url, filename):\n",
        "    response = await pyfetch(url)\n",
        "    if response.status == 200:\n",
        "        with open(filename, \"wb\") as f:\n",
        "            f.write(await response.bytes())\n"
      ]
    },
    {
      "cell_type": "markdown",
      "metadata": {},
      "source": [
        "Load the data and store it in dataframe `df`:\n"
      ]
    },
    {
      "cell_type": "markdown",
      "metadata": {},
      "source": [
        "This dataset was hosted on IBM Cloud object. Click <a href=\"https://cocl.us/DA101EN_object_storage?utm_medium=Exinfluencer&utm_source=Exinfluencer&utm_content=000026UJ&utm_term=10006555&utm_id=NA-SkillsNetwork-Channel-SkillsNetworkCoursesIBMDeveloperSkillsNetworkDA0101ENSkillsNetwork20235326-2021-01-01\">HERE</a> for free storage.\n"
      ]
    },
    {
      "cell_type": "code",
      "execution_count": 5,
      "metadata": {},
      "outputs": [],
      "source": [
        "filename = \"https://cf-courses-data.s3.us.cloud-object-storage.appdomain.cloud/IBMDeveloperSkillsNetwork-DA0101EN-SkillsNetwork/labs/Data%20files/automobileEDA.csv\""
      ]
    },
    {
      "cell_type": "code",
      "execution_count": 6,
      "metadata": {},
      "outputs": [
        {
          "ename": "NameError",
          "evalue": "name '_jsfetch' is not defined",
          "output_type": "error",
          "traceback": [
            "\u001b[1;31m---------------------------------------------------------------------------\u001b[0m",
            "\u001b[1;31mNameError\u001b[0m                                 Traceback (most recent call last)",
            "Cell \u001b[1;32mIn[6], line 1\u001b[0m\n\u001b[1;32m----> 1\u001b[0m \u001b[39mawait\u001b[39;00m download(filename, \u001b[39m\"\u001b[39m\u001b[39mautomobileEDA.csv\u001b[39m\u001b[39m\"\u001b[39m)\n\u001b[0;32m      2\u001b[0m filename\u001b[39m=\u001b[39m\u001b[39m\"\u001b[39m\u001b[39mautomobileEDA.csv\u001b[39m\u001b[39m\"\u001b[39m\n",
            "Cell \u001b[1;32mIn[4], line 6\u001b[0m, in \u001b[0;36mdownload\u001b[1;34m(url, filename)\u001b[0m\n\u001b[0;32m      5\u001b[0m \u001b[39masync\u001b[39;00m \u001b[39mdef\u001b[39;00m \u001b[39mdownload\u001b[39m(url, filename):\n\u001b[1;32m----> 6\u001b[0m     response \u001b[39m=\u001b[39m \u001b[39mawait\u001b[39;00m pyfetch(url)\n\u001b[0;32m      7\u001b[0m     \u001b[39mif\u001b[39;00m response\u001b[39m.\u001b[39mstatus \u001b[39m==\u001b[39m \u001b[39m200\u001b[39m:\n\u001b[0;32m      8\u001b[0m         \u001b[39mwith\u001b[39;00m \u001b[39mopen\u001b[39m(filename, \u001b[39m\"\u001b[39m\u001b[39mwb\u001b[39m\u001b[39m\"\u001b[39m) \u001b[39mas\u001b[39;00m f:\n",
            "File \u001b[1;32mc:\\Users\\Andres\\AppData\\Local\\Programs\\Python\\Python311\\Lib\\site-packages\\pyodide\\http.py:251\u001b[0m, in \u001b[0;36mpyfetch\u001b[1;34m(url, **kwargs)\u001b[0m\n\u001b[0;32m    233\u001b[0m \u001b[39m\u001b[39m\u001b[39mr\u001b[39m\u001b[39m\"\"\"Fetch the url and return the response.\u001b[39;00m\n\u001b[0;32m    234\u001b[0m \n\u001b[0;32m    235\u001b[0m \u001b[39mThis functions provides a similar API to :js:func:`fetch` however it is\u001b[39;00m\n\u001b[1;32m   (...)\u001b[0m\n\u001b[0;32m    247\u001b[0m \u001b[39m    <https://developer.mozilla.org/en-US/docs/Web/API/fetch#options>`_.\u001b[39;00m\n\u001b[0;32m    248\u001b[0m \u001b[39m\"\"\"\u001b[39;00m\n\u001b[0;32m    249\u001b[0m \u001b[39mtry\u001b[39;00m:\n\u001b[0;32m    250\u001b[0m     \u001b[39mreturn\u001b[39;00m FetchResponse(\n\u001b[1;32m--> 251\u001b[0m         url, \u001b[39mawait\u001b[39;00m _jsfetch(url, to_js(kwargs, dict_converter\u001b[39m=\u001b[39mObject\u001b[39m.\u001b[39mfromEntries))\n\u001b[0;32m    252\u001b[0m     )\n\u001b[0;32m    253\u001b[0m \u001b[39mexcept\u001b[39;00m JsException \u001b[39mas\u001b[39;00m e:\n\u001b[0;32m    254\u001b[0m     \u001b[39mraise\u001b[39;00m \u001b[39mOSError\u001b[39;00m(e\u001b[39m.\u001b[39mmessage) \u001b[39mfrom\u001b[39;00m \u001b[39mNone\u001b[39;00m\n",
            "\u001b[1;31mNameError\u001b[0m: name '_jsfetch' is not defined"
          ]
        }
      ],
      "source": [
        "await download(filename, \"automobileEDA.csv\")\n",
        "filename=\"automobileEDA.csv\""
      ]
    },
    {
      "cell_type": "markdown",
      "metadata": {},
      "source": [
        "you will need to download the dataset; if you are running locally, please comment out the following\n"
      ]
    },
    {
      "cell_type": "markdown",
      "metadata": {},
      "source": [
        "\\#you will need to download the dataset; if you are running locally, please comment out the following\n",
        "await download(path, \"auto.csv\")\n",
        "path=\"auto.csv\"\n"
      ]
    },
    {
      "cell_type": "code",
      "execution_count": 7,
      "metadata": {},
      "outputs": [],
      "source": [
        "df = pd.read_csv(filename, header=0)"
      ]
    },
    {
      "cell_type": "code",
      "execution_count": 8,
      "metadata": {},
      "outputs": [
        {
          "data": {
            "text/html": [
              "<div>\n",
              "<style scoped>\n",
              "    .dataframe tbody tr th:only-of-type {\n",
              "        vertical-align: middle;\n",
              "    }\n",
              "\n",
              "    .dataframe tbody tr th {\n",
              "        vertical-align: top;\n",
              "    }\n",
              "\n",
              "    .dataframe thead th {\n",
              "        text-align: right;\n",
              "    }\n",
              "</style>\n",
              "<table border=\"1\" class=\"dataframe\">\n",
              "  <thead>\n",
              "    <tr style=\"text-align: right;\">\n",
              "      <th></th>\n",
              "      <th>symboling</th>\n",
              "      <th>normalized-losses</th>\n",
              "      <th>make</th>\n",
              "      <th>aspiration</th>\n",
              "      <th>num-of-doors</th>\n",
              "      <th>body-style</th>\n",
              "      <th>drive-wheels</th>\n",
              "      <th>engine-location</th>\n",
              "      <th>wheel-base</th>\n",
              "      <th>length</th>\n",
              "      <th>...</th>\n",
              "      <th>compression-ratio</th>\n",
              "      <th>horsepower</th>\n",
              "      <th>peak-rpm</th>\n",
              "      <th>city-mpg</th>\n",
              "      <th>highway-mpg</th>\n",
              "      <th>price</th>\n",
              "      <th>city-L/100km</th>\n",
              "      <th>horsepower-binned</th>\n",
              "      <th>diesel</th>\n",
              "      <th>gas</th>\n",
              "    </tr>\n",
              "  </thead>\n",
              "  <tbody>\n",
              "    <tr>\n",
              "      <th>0</th>\n",
              "      <td>3</td>\n",
              "      <td>122</td>\n",
              "      <td>alfa-romero</td>\n",
              "      <td>std</td>\n",
              "      <td>two</td>\n",
              "      <td>convertible</td>\n",
              "      <td>rwd</td>\n",
              "      <td>front</td>\n",
              "      <td>88.6</td>\n",
              "      <td>0.811148</td>\n",
              "      <td>...</td>\n",
              "      <td>9.0</td>\n",
              "      <td>111.0</td>\n",
              "      <td>5000.0</td>\n",
              "      <td>21</td>\n",
              "      <td>27</td>\n",
              "      <td>13495.0</td>\n",
              "      <td>11.190476</td>\n",
              "      <td>Medium</td>\n",
              "      <td>0</td>\n",
              "      <td>1</td>\n",
              "    </tr>\n",
              "    <tr>\n",
              "      <th>1</th>\n",
              "      <td>3</td>\n",
              "      <td>122</td>\n",
              "      <td>alfa-romero</td>\n",
              "      <td>std</td>\n",
              "      <td>two</td>\n",
              "      <td>convertible</td>\n",
              "      <td>rwd</td>\n",
              "      <td>front</td>\n",
              "      <td>88.6</td>\n",
              "      <td>0.811148</td>\n",
              "      <td>...</td>\n",
              "      <td>9.0</td>\n",
              "      <td>111.0</td>\n",
              "      <td>5000.0</td>\n",
              "      <td>21</td>\n",
              "      <td>27</td>\n",
              "      <td>16500.0</td>\n",
              "      <td>11.190476</td>\n",
              "      <td>Medium</td>\n",
              "      <td>0</td>\n",
              "      <td>1</td>\n",
              "    </tr>\n",
              "    <tr>\n",
              "      <th>2</th>\n",
              "      <td>1</td>\n",
              "      <td>122</td>\n",
              "      <td>alfa-romero</td>\n",
              "      <td>std</td>\n",
              "      <td>two</td>\n",
              "      <td>hatchback</td>\n",
              "      <td>rwd</td>\n",
              "      <td>front</td>\n",
              "      <td>94.5</td>\n",
              "      <td>0.822681</td>\n",
              "      <td>...</td>\n",
              "      <td>9.0</td>\n",
              "      <td>154.0</td>\n",
              "      <td>5000.0</td>\n",
              "      <td>19</td>\n",
              "      <td>26</td>\n",
              "      <td>16500.0</td>\n",
              "      <td>12.368421</td>\n",
              "      <td>Medium</td>\n",
              "      <td>0</td>\n",
              "      <td>1</td>\n",
              "    </tr>\n",
              "    <tr>\n",
              "      <th>3</th>\n",
              "      <td>2</td>\n",
              "      <td>164</td>\n",
              "      <td>audi</td>\n",
              "      <td>std</td>\n",
              "      <td>four</td>\n",
              "      <td>sedan</td>\n",
              "      <td>fwd</td>\n",
              "      <td>front</td>\n",
              "      <td>99.8</td>\n",
              "      <td>0.848630</td>\n",
              "      <td>...</td>\n",
              "      <td>10.0</td>\n",
              "      <td>102.0</td>\n",
              "      <td>5500.0</td>\n",
              "      <td>24</td>\n",
              "      <td>30</td>\n",
              "      <td>13950.0</td>\n",
              "      <td>9.791667</td>\n",
              "      <td>Medium</td>\n",
              "      <td>0</td>\n",
              "      <td>1</td>\n",
              "    </tr>\n",
              "    <tr>\n",
              "      <th>4</th>\n",
              "      <td>2</td>\n",
              "      <td>164</td>\n",
              "      <td>audi</td>\n",
              "      <td>std</td>\n",
              "      <td>four</td>\n",
              "      <td>sedan</td>\n",
              "      <td>4wd</td>\n",
              "      <td>front</td>\n",
              "      <td>99.4</td>\n",
              "      <td>0.848630</td>\n",
              "      <td>...</td>\n",
              "      <td>8.0</td>\n",
              "      <td>115.0</td>\n",
              "      <td>5500.0</td>\n",
              "      <td>18</td>\n",
              "      <td>22</td>\n",
              "      <td>17450.0</td>\n",
              "      <td>13.055556</td>\n",
              "      <td>Medium</td>\n",
              "      <td>0</td>\n",
              "      <td>1</td>\n",
              "    </tr>\n",
              "  </tbody>\n",
              "</table>\n",
              "<p>5 rows × 29 columns</p>\n",
              "</div>"
            ],
            "text/plain": [
              "   symboling  normalized-losses         make aspiration num-of-doors  \\\n",
              "0          3                122  alfa-romero        std          two   \n",
              "1          3                122  alfa-romero        std          two   \n",
              "2          1                122  alfa-romero        std          two   \n",
              "3          2                164         audi        std         four   \n",
              "4          2                164         audi        std         four   \n",
              "\n",
              "    body-style drive-wheels engine-location  wheel-base    length  ...  \\\n",
              "0  convertible          rwd           front        88.6  0.811148  ...   \n",
              "1  convertible          rwd           front        88.6  0.811148  ...   \n",
              "2    hatchback          rwd           front        94.5  0.822681  ...   \n",
              "3        sedan          fwd           front        99.8  0.848630  ...   \n",
              "4        sedan          4wd           front        99.4  0.848630  ...   \n",
              "\n",
              "   compression-ratio  horsepower  peak-rpm city-mpg highway-mpg    price  \\\n",
              "0                9.0       111.0    5000.0       21          27  13495.0   \n",
              "1                9.0       111.0    5000.0       21          27  16500.0   \n",
              "2                9.0       154.0    5000.0       19          26  16500.0   \n",
              "3               10.0       102.0    5500.0       24          30  13950.0   \n",
              "4                8.0       115.0    5500.0       18          22  17450.0   \n",
              "\n",
              "  city-L/100km  horsepower-binned  diesel  gas  \n",
              "0    11.190476             Medium       0    1  \n",
              "1    11.190476             Medium       0    1  \n",
              "2    12.368421             Medium       0    1  \n",
              "3     9.791667             Medium       0    1  \n",
              "4    13.055556             Medium       0    1  \n",
              "\n",
              "[5 rows x 29 columns]"
            ]
          },
          "execution_count": 8,
          "metadata": {},
          "output_type": "execute_result"
        }
      ],
      "source": [
        "df.head()"
      ]
    },
    {
      "cell_type": "markdown",
      "metadata": {},
      "source": [
        "<h2 id=\"pattern_visualization\">2. Analyzing Individual Feature Patterns Using Visualization</h2>\n"
      ]
    },
    {
      "cell_type": "markdown",
      "metadata": {},
      "source": [
        "To install Seaborn we use pip, the Python package manager.\n"
      ]
    },
    {
      "cell_type": "markdown",
      "metadata": {},
      "source": [
        "Import visualization packages \"Matplotlib\" and \"Seaborn\". Don't forget about \"%matplotlib inline\" to plot in a Jupyter notebook.\n"
      ]
    },
    {
      "cell_type": "code",
      "execution_count": 9,
      "metadata": {},
      "outputs": [
        {
          "name": "stdout",
          "output_type": "stream",
          "text": [
            "Requirement already satisfied: seaborn in c:\\users\\andres\\appdata\\local\\programs\\python\\python311\\lib\\site-packages (0.12.2)\n",
            "Requirement already satisfied: numpy!=1.24.0,>=1.17 in c:\\users\\andres\\appdata\\local\\programs\\python\\python311\\lib\\site-packages (from seaborn) (1.25.2)\n",
            "Requirement already satisfied: pandas>=0.25 in c:\\users\\andres\\appdata\\local\\programs\\python\\python311\\lib\\site-packages (from seaborn) (2.0.3)\n",
            "Requirement already satisfied: matplotlib!=3.6.1,>=3.1 in c:\\users\\andres\\appdata\\local\\programs\\python\\python311\\lib\\site-packages (from seaborn) (3.7.2)\n",
            "Requirement already satisfied: contourpy>=1.0.1 in c:\\users\\andres\\appdata\\local\\programs\\python\\python311\\lib\\site-packages (from matplotlib!=3.6.1,>=3.1->seaborn) (1.1.0)\n",
            "Requirement already satisfied: cycler>=0.10 in c:\\users\\andres\\appdata\\local\\programs\\python\\python311\\lib\\site-packages (from matplotlib!=3.6.1,>=3.1->seaborn) (0.11.0)\n",
            "Requirement already satisfied: fonttools>=4.22.0 in c:\\users\\andres\\appdata\\local\\programs\\python\\python311\\lib\\site-packages (from matplotlib!=3.6.1,>=3.1->seaborn) (4.42.0)\n",
            "Requirement already satisfied: kiwisolver>=1.0.1 in c:\\users\\andres\\appdata\\local\\programs\\python\\python311\\lib\\site-packages (from matplotlib!=3.6.1,>=3.1->seaborn) (1.4.4)\n",
            "Requirement already satisfied: packaging>=20.0 in c:\\users\\andres\\appdata\\roaming\\python\\python311\\site-packages (from matplotlib!=3.6.1,>=3.1->seaborn) (23.1)\n",
            "Requirement already satisfied: pillow>=6.2.0 in c:\\users\\andres\\appdata\\local\\programs\\python\\python311\\lib\\site-packages (from matplotlib!=3.6.1,>=3.1->seaborn) (10.0.0)\n",
            "Requirement already satisfied: pyparsing<3.1,>=2.3.1 in c:\\users\\andres\\appdata\\local\\programs\\python\\python311\\lib\\site-packages (from matplotlib!=3.6.1,>=3.1->seaborn) (3.0.9)\n",
            "Requirement already satisfied: python-dateutil>=2.7 in c:\\users\\andres\\appdata\\roaming\\python\\python311\\site-packages (from matplotlib!=3.6.1,>=3.1->seaborn) (2.8.2)\n",
            "Requirement already satisfied: pytz>=2020.1 in c:\\users\\andres\\appdata\\local\\programs\\python\\python311\\lib\\site-packages (from pandas>=0.25->seaborn) (2023.3)\n",
            "Requirement already satisfied: tzdata>=2022.1 in c:\\users\\andres\\appdata\\local\\programs\\python\\python311\\lib\\site-packages (from pandas>=0.25->seaborn) (2023.3)\n",
            "Requirement already satisfied: six>=1.5 in c:\\users\\andres\\appdata\\roaming\\python\\python311\\site-packages (from python-dateutil>=2.7->matplotlib!=3.6.1,>=3.1->seaborn) (1.16.0)\n"
          ]
        }
      ],
      "source": [
        "!pip install seaborn"
      ]
    },
    {
      "cell_type": "code",
      "execution_count": 10,
      "metadata": {},
      "outputs": [],
      "source": [
        "import matplotlib.pyplot as plt\n",
        "import seaborn as sns\n",
        "%matplotlib inline "
      ]
    },
    {
      "cell_type": "markdown",
      "metadata": {},
      "source": [
        "<h4>How to choose the right visualization method?</h4>\n",
        "<p>When visualizing individual variables, it is important to first understand what type of variable you are dealing with. This will help us find the right visualization method for that variable.</p>\n"
      ]
    },
    {
      "cell_type": "code",
      "execution_count": 11,
      "metadata": {},
      "outputs": [
        {
          "name": "stdout",
          "output_type": "stream",
          "text": [
            "symboling              int64\n",
            "normalized-losses      int64\n",
            "make                  object\n",
            "aspiration            object\n",
            "num-of-doors          object\n",
            "body-style            object\n",
            "drive-wheels          object\n",
            "engine-location       object\n",
            "wheel-base           float64\n",
            "length               float64\n",
            "width                float64\n",
            "height               float64\n",
            "curb-weight            int64\n",
            "engine-type           object\n",
            "num-of-cylinders      object\n",
            "engine-size            int64\n",
            "fuel-system           object\n",
            "bore                 float64\n",
            "stroke               float64\n",
            "compression-ratio    float64\n",
            "horsepower           float64\n",
            "peak-rpm             float64\n",
            "city-mpg               int64\n",
            "highway-mpg            int64\n",
            "price                float64\n",
            "city-L/100km         float64\n",
            "horsepower-binned     object\n",
            "diesel                 int64\n",
            "gas                    int64\n",
            "dtype: object\n"
          ]
        }
      ],
      "source": [
        "# list the data types for each column\n",
        "print(df.dtypes)"
      ]
    },
    {
      "cell_type": "markdown",
      "metadata": {},
      "source": [
        "<div class=\"alert alert-danger alertdanger\" style=\"margin-top: 20px\">\n",
        "<h3>Question  #1:</h3>\n",
        "\n",
        "<b>What is the data type of the column \"peak-rpm\"? </b>\n",
        "\n",
        "</div>\n"
      ]
    },
    {
      "cell_type": "code",
      "execution_count": 12,
      "metadata": {},
      "outputs": [
        {
          "name": "stdout",
          "output_type": "stream",
          "text": [
            "float64\n"
          ]
        }
      ],
      "source": [
        "# Write your code below and press Shift+Enter to execute \n",
        "print(df['peak-rpm'].dtypes)"
      ]
    },
    {
      "cell_type": "markdown",
      "metadata": {},
      "source": [
        "<details><summary>Click here for the solution</summary>\n",
        "\n",
        "```python\n",
        "df['peak-rpm'].dtypes\n",
        "```\n",
        "\n",
        "</details>\n"
      ]
    },
    {
      "cell_type": "markdown",
      "metadata": {},
      "source": [
        "For example, we can calculate the correlation between variables  of type \"int64\" or \"float64\" using the method \"corr\":\n"
      ]
    },
    {
      "cell_type": "code",
      "execution_count": null,
      "metadata": {},
      "outputs": [],
      "source": [
        "df.corr()"
      ]
    },
    {
      "cell_type": "markdown",
      "metadata": {},
      "source": [
        "The diagonal elements are always one; we will study correlation more precisely Pearson correlation in-depth at the end of the notebook.\n"
      ]
    },
    {
      "cell_type": "markdown",
      "metadata": {},
      "source": [
        "<div class=\"alert alert-danger alertdanger\" style=\"margin-top: 20px\">\n",
        "<h3> Question  #2: </h3>\n",
        "\n",
        "<p>Find the correlation between the following columns: bore, stroke, compression-ratio, and horsepower.</p>\n",
        "<p>Hint: if you would like to select those columns, use the following syntax: df[['bore','stroke','compression-ratio','horsepower']]</p>\n",
        "</div>\n"
      ]
    },
    {
      "cell_type": "code",
      "execution_count": 13,
      "metadata": {},
      "outputs": [
        {
          "data": {
            "text/html": [
              "<div>\n",
              "<style scoped>\n",
              "    .dataframe tbody tr th:only-of-type {\n",
              "        vertical-align: middle;\n",
              "    }\n",
              "\n",
              "    .dataframe tbody tr th {\n",
              "        vertical-align: top;\n",
              "    }\n",
              "\n",
              "    .dataframe thead th {\n",
              "        text-align: right;\n",
              "    }\n",
              "</style>\n",
              "<table border=\"1\" class=\"dataframe\">\n",
              "  <thead>\n",
              "    <tr style=\"text-align: right;\">\n",
              "      <th></th>\n",
              "      <th>bore</th>\n",
              "      <th>stroke</th>\n",
              "      <th>compression-ratio</th>\n",
              "      <th>horsepower</th>\n",
              "    </tr>\n",
              "  </thead>\n",
              "  <tbody>\n",
              "    <tr>\n",
              "      <th>bore</th>\n",
              "      <td>1.000000</td>\n",
              "      <td>-0.055390</td>\n",
              "      <td>0.001263</td>\n",
              "      <td>0.566936</td>\n",
              "    </tr>\n",
              "    <tr>\n",
              "      <th>stroke</th>\n",
              "      <td>-0.055390</td>\n",
              "      <td>1.000000</td>\n",
              "      <td>0.187923</td>\n",
              "      <td>0.098462</td>\n",
              "    </tr>\n",
              "    <tr>\n",
              "      <th>compression-ratio</th>\n",
              "      <td>0.001263</td>\n",
              "      <td>0.187923</td>\n",
              "      <td>1.000000</td>\n",
              "      <td>-0.214514</td>\n",
              "    </tr>\n",
              "    <tr>\n",
              "      <th>horsepower</th>\n",
              "      <td>0.566936</td>\n",
              "      <td>0.098462</td>\n",
              "      <td>-0.214514</td>\n",
              "      <td>1.000000</td>\n",
              "    </tr>\n",
              "  </tbody>\n",
              "</table>\n",
              "</div>"
            ],
            "text/plain": [
              "                       bore    stroke  compression-ratio  horsepower\n",
              "bore               1.000000 -0.055390           0.001263    0.566936\n",
              "stroke            -0.055390  1.000000           0.187923    0.098462\n",
              "compression-ratio  0.001263  0.187923           1.000000   -0.214514\n",
              "horsepower         0.566936  0.098462          -0.214514    1.000000"
            ]
          },
          "execution_count": 13,
          "metadata": {},
          "output_type": "execute_result"
        }
      ],
      "source": [
        "# Write your code below and press Shift+Enter to execute \n",
        "df[['bore','stroke','compression-ratio','horsepower']].corr()"
      ]
    },
    {
      "cell_type": "markdown",
      "metadata": {},
      "source": [
        "<details><summary>Click here for the solution</summary>\n",
        "\n",
        "```python\n",
        "df[['bore', 'stroke', 'compression-ratio', 'horsepower']].corr()\n",
        "```\n",
        "\n",
        "</details>\n"
      ]
    },
    {
      "cell_type": "markdown",
      "metadata": {},
      "source": [
        "<h2>Continuous Numerical Variables:</h2> \n",
        "\n",
        "<p>Continuous numerical variables are variables that may contain any value within some range. They can be of type \"int64\" or \"float64\". A great way to visualize these variables is by using scatterplots with fitted lines.</p>\n",
        "\n",
        "<p>In order to start understanding the (linear) relationship between an individual variable and the price, we can use \"regplot\" which plots the scatterplot plus the fitted regression line for the data.</p>\n"
      ]
    },
    {
      "cell_type": "markdown",
      "metadata": {},
      "source": [
        "Let's see several examples of different linear relationships:\n"
      ]
    },
    {
      "cell_type": "markdown",
      "metadata": {},
      "source": [
        "<h3>Positive Linear Relationship</h4>\n"
      ]
    },
    {
      "cell_type": "code",
      "execution_count": null,
      "metadata": {},
      "outputs": [],
      "source": []
    },
    {
      "cell_type": "markdown",
      "metadata": {},
      "source": [
        "Let's find the scatterplot of \"engine-size\" and \"price\".\n"
      ]
    },
    {
      "cell_type": "code",
      "execution_count": 14,
      "metadata": {},
      "outputs": [
        {
          "data": {
            "text/plain": [
              "(0.0, 52815.20322589512)"
            ]
          },
          "execution_count": 14,
          "metadata": {},
          "output_type": "execute_result"
        },
        {
          "data": {
            "image/png": "[encoded data removed]",
            "text/plain": [
              "<Figure size 640x480 with 1 Axes>"
            ]
          },
          "metadata": {},
          "output_type": "display_data"
        }
      ],
      "source": [
        "# Engine size as potential predictor variable of price\n",
        "sns.regplot(x=\"engine-size\", y=\"price\", data=df)\n",
        "plt.ylim(0,)"
      ]
    },
    {
      "cell_type": "markdown",
      "metadata": {},
      "source": [
        "<p>As the engine-size goes up, the price goes up: this indicates a positive direct correlation between these two variables. Engine size seems like a pretty good predictor of price since the regression line is almost a perfect diagonal line.</p>\n"
      ]
    },
    {
      "cell_type": "markdown",
      "metadata": {},
      "source": [
        "We can examine the correlation between 'engine-size' and 'price' and see that it's approximately 0.87.\n"
      ]
    },
    {
      "cell_type": "code",
      "execution_count": 15,
      "metadata": {},
      "outputs": [
        {
          "data": {
            "text/html": [
              "<div>\n",
              "<style scoped>\n",
              "    .dataframe tbody tr th:only-of-type {\n",
              "        vertical-align: middle;\n",
              "    }\n",
              "\n",
              "    .dataframe tbody tr th {\n",
              "        vertical-align: top;\n",
              "    }\n",
              "\n",
              "    .dataframe thead th {\n",
              "        text-align: right;\n",
              "    }\n",
              "</style>\n",
              "<table border=\"1\" class=\"dataframe\">\n",
              "  <thead>\n",
              "    <tr style=\"text-align: right;\">\n",
              "      <th></th>\n",
              "      <th>engine-size</th>\n",
              "      <th>price</th>\n",
              "    </tr>\n",
              "  </thead>\n",
              "  <tbody>\n",
              "    <tr>\n",
              "      <th>engine-size</th>\n",
              "      <td>1.000000</td>\n",
              "      <td>0.872335</td>\n",
              "    </tr>\n",
              "    <tr>\n",
              "      <th>price</th>\n",
              "      <td>0.872335</td>\n",
              "      <td>1.000000</td>\n",
              "    </tr>\n",
              "  </tbody>\n",
              "</table>\n",
              "</div>"
            ],
            "text/plain": [
              "             engine-size     price\n",
              "engine-size     1.000000  0.872335\n",
              "price           0.872335  1.000000"
            ]
          },
          "execution_count": 15,
          "metadata": {},
          "output_type": "execute_result"
        }
      ],
      "source": [
        "df[[\"engine-size\", \"price\"]].corr()"
      ]
    },
    {
      "cell_type": "markdown",
      "metadata": {},
      "source": [
        "Highway mpg is a potential predictor variable of price. Let's find the scatterplot of \"highway-mpg\" and \"price\".\n"
      ]
    },
    {
      "cell_type": "code",
      "execution_count": 16,
      "metadata": {},
      "outputs": [
        {
          "data": {
            "text/plain": [
              "<Axes: xlabel='highway-mpg', ylabel='price'>"
            ]
          },
          "execution_count": 16,
          "metadata": {},
          "output_type": "execute_result"
        },
        {
          "data": {
            "image/png": "[encoded data removed]",
            "text/plain": [
              "<Figure size 640x480 with 1 Axes>"
            ]
          },
          "metadata": {},
          "output_type": "display_data"
        }
      ],
      "source": [
        "sns.regplot(x=\"highway-mpg\", y=\"price\", data=df)"
      ]
    },
    {
      "cell_type": "markdown",
      "metadata": {},
      "source": [
        "<p>As highway-mpg goes up, the price goes down: this indicates an inverse/negative relationship between these two variables. Highway mpg could potentially be a predictor of price.</p>\n"
      ]
    },
    {
      "cell_type": "markdown",
      "metadata": {},
      "source": [
        "We can examine the correlation between 'highway-mpg' and 'price' and see it's approximately -0.704.\n"
      ]
    },
    {
      "cell_type": "code",
      "execution_count": 17,
      "metadata": {},
      "outputs": [
        {
          "data": {
            "text/html": [
              "<div>\n",
              "<style scoped>\n",
              "    .dataframe tbody tr th:only-of-type {\n",
              "        vertical-align: middle;\n",
              "    }\n",
              "\n",
              "    .dataframe tbody tr th {\n",
              "        vertical-align: top;\n",
              "    }\n",
              "\n",
              "    .dataframe thead th {\n",
              "        text-align: right;\n",
              "    }\n",
              "</style>\n",
              "<table border=\"1\" class=\"dataframe\">\n",
              "  <thead>\n",
              "    <tr style=\"text-align: right;\">\n",
              "      <th></th>\n",
              "      <th>highway-mpg</th>\n",
              "      <th>price</th>\n",
              "    </tr>\n",
              "  </thead>\n",
              "  <tbody>\n",
              "    <tr>\n",
              "      <th>highway-mpg</th>\n",
              "      <td>1.000000</td>\n",
              "      <td>-0.704692</td>\n",
              "    </tr>\n",
              "    <tr>\n",
              "      <th>price</th>\n",
              "      <td>-0.704692</td>\n",
              "      <td>1.000000</td>\n",
              "    </tr>\n",
              "  </tbody>\n",
              "</table>\n",
              "</div>"
            ],
            "text/plain": [
              "             highway-mpg     price\n",
              "highway-mpg     1.000000 -0.704692\n",
              "price          -0.704692  1.000000"
            ]
          },
          "execution_count": 17,
          "metadata": {},
          "output_type": "execute_result"
        }
      ],
      "source": [
        "df[['highway-mpg', 'price']].corr()"
      ]
    },
    {
      "cell_type": "markdown",
      "metadata": {},
      "source": [
        "<h3>Weak Linear Relationship</h3>\n"
      ]
    },
    {
      "cell_type": "markdown",
      "metadata": {},
      "source": [
        "Let's see if \"peak-rpm\" is a predictor variable of \"price\".\n"
      ]
    },
    {
      "cell_type": "code",
      "execution_count": 18,
      "metadata": {},
      "outputs": [
        {
          "data": {
            "text/plain": [
              "<Axes: xlabel='peak-rpm', ylabel='price'>"
            ]
          },
          "execution_count": 18,
          "metadata": {},
          "output_type": "execute_result"
        },
        {
          "data": {
            "image/png": "[encoded data removed]",
            "text/plain": [
              "<Figure size 640x480 with 1 Axes>"
            ]
          },
          "metadata": {},
          "output_type": "display_data"
        }
      ],
      "source": [
        "sns.regplot(x=\"peak-rpm\", y=\"price\", data=df)"
      ]
    },
    {
      "cell_type": "markdown",
      "metadata": {},
      "source": [
        "<p>Peak rpm does not seem like a good predictor of the price at all since the regression line is close to horizontal. Also, the data points are very scattered and far from the fitted line, showing lots of variability. Therefore, it's not a reliable variable.</p>\n"
      ]
    },
    {
      "cell_type": "markdown",
      "metadata": {},
      "source": [
        "We can examine the correlation between 'peak-rpm' and 'price' and see it's approximately -0.101616.\n"
      ]
    },
    {
      "cell_type": "code",
      "execution_count": 19,
      "metadata": {},
      "outputs": [
        {
          "data": {
            "text/html": [
              "<div>\n",
              "<style scoped>\n",
              "    .dataframe tbody tr th:only-of-type {\n",
              "        vertical-align: middle;\n",
              "    }\n",
              "\n",
              "    .dataframe tbody tr th {\n",
              "        vertical-align: top;\n",
              "    }\n",
              "\n",
              "    .dataframe thead th {\n",
              "        text-align: right;\n",
              "    }\n",
              "</style>\n",
              "<table border=\"1\" class=\"dataframe\">\n",
              "  <thead>\n",
              "    <tr style=\"text-align: right;\">\n",
              "      <th></th>\n",
              "      <th>peak-rpm</th>\n",
              "      <th>price</th>\n",
              "    </tr>\n",
              "  </thead>\n",
              "  <tbody>\n",
              "    <tr>\n",
              "      <th>peak-rpm</th>\n",
              "      <td>1.000000</td>\n",
              "      <td>-0.101616</td>\n",
              "    </tr>\n",
              "    <tr>\n",
              "      <th>price</th>\n",
              "      <td>-0.101616</td>\n",
              "      <td>1.000000</td>\n",
              "    </tr>\n",
              "  </tbody>\n",
              "</table>\n",
              "</div>"
            ],
            "text/plain": [
              "          peak-rpm     price\n",
              "peak-rpm  1.000000 -0.101616\n",
              "price    -0.101616  1.000000"
            ]
          },
          "execution_count": 19,
          "metadata": {},
          "output_type": "execute_result"
        }
      ],
      "source": [
        "df[['peak-rpm','price']].corr()"
      ]
    },
    {
      "cell_type": "markdown",
      "metadata": {},
      "source": [
        " <div class=\"alert alert-danger alertdanger\" style=\"margin-top: 20px\">\n",
        "<h1> Question  3 a): </h1>\n",
        "\n",
        "<p>Find the correlation  between x=\"stroke\" and y=\"price\".</p>\n",
        "<p>Hint: if you would like to select those columns, use the following syntax: df[[\"stroke\",\"price\"]].  </p>\n",
        "</div>\n"
      ]
    },
    {
      "cell_type": "code",
      "execution_count": 20,
      "metadata": {},
      "outputs": [
        {
          "data": {
            "text/html": [
              "<div>\n",
              "<style scoped>\n",
              "    .dataframe tbody tr th:only-of-type {\n",
              "        vertical-align: middle;\n",
              "    }\n",
              "\n",
              "    .dataframe tbody tr th {\n",
              "        vertical-align: top;\n",
              "    }\n",
              "\n",
              "    .dataframe thead th {\n",
              "        text-align: right;\n",
              "    }\n",
              "</style>\n",
              "<table border=\"1\" class=\"dataframe\">\n",
              "  <thead>\n",
              "    <tr style=\"text-align: right;\">\n",
              "      <th></th>\n",
              "      <th>stroke</th>\n",
              "      <th>price</th>\n",
              "    </tr>\n",
              "  </thead>\n",
              "  <tbody>\n",
              "    <tr>\n",
              "      <th>stroke</th>\n",
              "      <td>1.00000</td>\n",
              "      <td>0.08231</td>\n",
              "    </tr>\n",
              "    <tr>\n",
              "      <th>price</th>\n",
              "      <td>0.08231</td>\n",
              "      <td>1.00000</td>\n",
              "    </tr>\n",
              "  </tbody>\n",
              "</table>\n",
              "</div>"
            ],
            "text/plain": [
              "         stroke    price\n",
              "stroke  1.00000  0.08231\n",
              "price   0.08231  1.00000"
            ]
          },
          "execution_count": 20,
          "metadata": {},
          "output_type": "execute_result"
        }
      ],
      "source": [
        "# Write your code below and press Shift+Enter to execute\n",
        "df[['stroke','price']].corr()"
      ]
    },
    {
      "cell_type": "markdown",
      "metadata": {},
      "source": [
        "<details><summary>Click here for the solution</summary>\n",
        "\n",
        "```python\n",
        "\n",
        "#The correlation is 0.0823, the non-diagonal elements of the table.\n",
        "\n",
        "df[[\"stroke\",\"price\"]].corr()\n",
        "\n",
        "```\n",
        "\n",
        "</details>\n"
      ]
    },
    {
      "cell_type": "markdown",
      "metadata": {},
      "source": [
        "<div class=\"alert alert-danger alertdanger\" style=\"margin-top: 20px\">\n",
        "<h1>Question  3 b):</h1>\n",
        "\n",
        "<p>Given the correlation results between \"price\" and \"stroke\", do you expect a linear relationship?</p> \n",
        "<p>Verify your results using the function \"regplot()\".</p>\n",
        "</div>\n"
      ]
    },
    {
      "cell_type": "code",
      "execution_count": 21,
      "metadata": {},
      "outputs": [
        {
          "data": {
            "text/plain": [
              "<Axes: xlabel='stroke', ylabel='price'>"
            ]
          },
          "execution_count": 21,
          "metadata": {},
          "output_type": "execute_result"
        },
        {
          "data": {
            "image/png": "[encoded data removed]",
            "text/plain": [
              "<Figure size 640x480 with 1 Axes>"
            ]
          },
          "metadata": {},
          "output_type": "display_data"
        }
      ],
      "source": [
        "# Write your code below and press Shift+Enter to execute \n",
        "sns.regplot(x=\"stroke\", y=\"price\", data=df)"
      ]
    },
    {
      "cell_type": "markdown",
      "metadata": {},
      "source": [
        "<details><summary>Click here for the solution</summary>\n",
        "\n",
        "```python\n",
        "\n",
        "#There is a weak correlation between the variable 'stroke' and 'price.' as such regression will not work well. We can see this using \"regplot\" to demonstrate this.\n",
        "\n",
        "#Code: \n",
        "sns.regplot(x=\"stroke\", y=\"price\", data=df)\n",
        "\n",
        "```\n",
        "\n",
        "</details>\n"
      ]
    },
    {
      "cell_type": "markdown",
      "metadata": {},
      "source": [
        "<h3>Categorical Variables</h3>\n",
        "\n",
        "<p>These are variables that describe a 'characteristic' of a data unit, and are selected from a small group of categories. The categorical variables can have the type \"object\" or \"int64\". A good way to visualize categorical variables is by using boxplots.</p>\n"
      ]
    },
    {
      "cell_type": "markdown",
      "metadata": {},
      "source": [
        "Let's look at the relationship between \"body-style\" and \"price\".\n"
      ]
    },
    {
      "cell_type": "code",
      "execution_count": 22,
      "metadata": {},
      "outputs": [
        {
          "data": {
            "text/plain": [
              "<Axes: xlabel='body-style', ylabel='price'>"
            ]
          },
          "execution_count": 22,
          "metadata": {},
          "output_type": "execute_result"
        },
        {
          "data": {
            "image/png": "[encoded data removed]",
            "text/plain": [
              "<Figure size 640x480 with 1 Axes>"
            ]
          },
          "metadata": {},
          "output_type": "display_data"
        }
      ],
      "source": [
        "sns.boxplot(x=\"body-style\", y=\"price\", data=df)"
      ]
    },
    {
      "cell_type": "markdown",
      "metadata": {},
      "source": [
        "<p>We see that the distributions of price between the different body-style categories have a significant overlap, so body-style would not be a good predictor of price. Let's examine engine \"engine-location\" and \"price\":</p>\n"
      ]
    },
    {
      "cell_type": "code",
      "execution_count": 23,
      "metadata": {},
      "outputs": [
        {
          "data": {
            "text/plain": [
              "<Axes: xlabel='engine-location', ylabel='price'>"
            ]
          },
          "execution_count": 23,
          "metadata": {},
          "output_type": "execute_result"
        },
        {
          "data": {
            "image/png": "[encoded data removed]",
            "text/plain": [
              "<Figure size 640x480 with 1 Axes>"
            ]
          },
          "metadata": {},
          "output_type": "display_data"
        }
      ],
      "source": [
        "sns.boxplot(x=\"engine-location\", y=\"price\", data=df)"
      ]
    },
    {
      "cell_type": "markdown",
      "metadata": {},
      "source": [
        "<p>Here we see that the distribution of price between these two engine-location categories, front and rear, are distinct enough to take engine-location as a potential good predictor of price.</p>\n"
      ]
    },
    {
      "cell_type": "markdown",
      "metadata": {},
      "source": [
        "Let's examine \"drive-wheels\" and \"price\".\n"
      ]
    },
    {
      "cell_type": "code",
      "execution_count": 24,
      "metadata": {},
      "outputs": [
        {
          "data": {
            "text/plain": [
              "<Axes: xlabel='drive-wheels', ylabel='price'>"
            ]
          },
          "execution_count": 24,
          "metadata": {},
          "output_type": "execute_result"
        },
        {
          "data": {
            "image/png": "[encoded data removed]",
            "text/plain": [
              "<Figure size 640x480 with 1 Axes>"
            ]
          },
          "metadata": {},
          "output_type": "display_data"
        }
      ],
      "source": [
        "# drive-wheels\n",
        "sns.boxplot(x=\"drive-wheels\", y=\"price\", data=df)"
      ]
    },
    {
      "cell_type": "markdown",
      "metadata": {},
      "source": [
        "<p>Here we see that the distribution of price between the different drive-wheels categories differs. As such, drive-wheels could potentially be a predictor of price.</p>\n"
      ]
    },
    {
      "cell_type": "markdown",
      "metadata": {},
      "source": [
        "<h2 id=\"discriptive_statistics\">3. Descriptive Statistical Analysis</h2>\n"
      ]
    },
    {
      "cell_type": "markdown",
      "metadata": {},
      "source": [
        "<p>Let's first take a look at the variables by utilizing a description method.</p>\n",
        "\n",
        "<p>The <b>describe</b> function automatically computes basic statistics for all continuous variables. Any NaN values are automatically skipped in these statistics.</p>\n",
        "\n",
        "This will show:\n",
        "\n",
        "<ul>\n",
        "    <li>the count of that variable</li>\n",
        "    <li>the mean</li>\n",
        "    <li>the standard deviation (std)</li> \n",
        "    <li>the minimum value</li>\n",
        "    <li>the IQR (Interquartile Range: 25%, 50% and 75%)</li>\n",
        "    <li>the maximum value</li>\n",
        "<ul>\n"
      ]
    },
    {
      "cell_type": "markdown",
      "metadata": {},
      "source": [
        "We can apply the method \"describe\" as follows:\n"
      ]
    },
    {
      "cell_type": "code",
      "execution_count": 25,
      "metadata": {},
      "outputs": [
        {
          "data": {
            "text/html": [
              "<div>\n",
              "<style scoped>\n",
              "    .dataframe tbody tr th:only-of-type {\n",
              "        vertical-align: middle;\n",
              "    }\n",
              "\n",
              "    .dataframe tbody tr th {\n",
              "        vertical-align: top;\n",
              "    }\n",
              "\n",
              "    .dataframe thead th {\n",
              "        text-align: right;\n",
              "    }\n",
              "</style>\n",
              "<table border=\"1\" class=\"dataframe\">\n",
              "  <thead>\n",
              "    <tr style=\"text-align: right;\">\n",
              "      <th></th>\n",
              "      <th>symboling</th>\n",
              "      <th>normalized-losses</th>\n",
              "      <th>wheel-base</th>\n",
              "      <th>length</th>\n",
              "      <th>width</th>\n",
              "      <th>height</th>\n",
              "      <th>curb-weight</th>\n",
              "      <th>engine-size</th>\n",
              "      <th>bore</th>\n",
              "      <th>stroke</th>\n",
              "      <th>compression-ratio</th>\n",
              "      <th>horsepower</th>\n",
              "      <th>peak-rpm</th>\n",
              "      <th>city-mpg</th>\n",
              "      <th>highway-mpg</th>\n",
              "      <th>price</th>\n",
              "      <th>city-L/100km</th>\n",
              "      <th>diesel</th>\n",
              "      <th>gas</th>\n",
              "    </tr>\n",
              "  </thead>\n",
              "  <tbody>\n",
              "    <tr>\n",
              "      <th>count</th>\n",
              "      <td>201.000000</td>\n",
              "      <td>201.00000</td>\n",
              "      <td>201.000000</td>\n",
              "      <td>201.000000</td>\n",
              "      <td>201.000000</td>\n",
              "      <td>201.000000</td>\n",
              "      <td>201.000000</td>\n",
              "      <td>201.000000</td>\n",
              "      <td>201.000000</td>\n",
              "      <td>197.000000</td>\n",
              "      <td>201.000000</td>\n",
              "      <td>201.000000</td>\n",
              "      <td>201.000000</td>\n",
              "      <td>201.000000</td>\n",
              "      <td>201.000000</td>\n",
              "      <td>201.000000</td>\n",
              "      <td>201.000000</td>\n",
              "      <td>201.000000</td>\n",
              "      <td>201.000000</td>\n",
              "    </tr>\n",
              "    <tr>\n",
              "      <th>mean</th>\n",
              "      <td>0.840796</td>\n",
              "      <td>122.00000</td>\n",
              "      <td>98.797015</td>\n",
              "      <td>0.837102</td>\n",
              "      <td>0.915126</td>\n",
              "      <td>53.766667</td>\n",
              "      <td>2555.666667</td>\n",
              "      <td>126.875622</td>\n",
              "      <td>3.330692</td>\n",
              "      <td>3.256904</td>\n",
              "      <td>10.164279</td>\n",
              "      <td>103.405534</td>\n",
              "      <td>5117.665368</td>\n",
              "      <td>25.179104</td>\n",
              "      <td>30.686567</td>\n",
              "      <td>13207.129353</td>\n",
              "      <td>9.944145</td>\n",
              "      <td>0.099502</td>\n",
              "      <td>0.900498</td>\n",
              "    </tr>\n",
              "    <tr>\n",
              "      <th>std</th>\n",
              "      <td>1.254802</td>\n",
              "      <td>31.99625</td>\n",
              "      <td>6.066366</td>\n",
              "      <td>0.059213</td>\n",
              "      <td>0.029187</td>\n",
              "      <td>2.447822</td>\n",
              "      <td>517.296727</td>\n",
              "      <td>41.546834</td>\n",
              "      <td>0.268072</td>\n",
              "      <td>0.319256</td>\n",
              "      <td>4.004965</td>\n",
              "      <td>37.365700</td>\n",
              "      <td>478.113805</td>\n",
              "      <td>6.423220</td>\n",
              "      <td>6.815150</td>\n",
              "      <td>7947.066342</td>\n",
              "      <td>2.534599</td>\n",
              "      <td>0.300083</td>\n",
              "      <td>0.300083</td>\n",
              "    </tr>\n",
              "    <tr>\n",
              "      <th>min</th>\n",
              "      <td>-2.000000</td>\n",
              "      <td>65.00000</td>\n",
              "      <td>86.600000</td>\n",
              "      <td>0.678039</td>\n",
              "      <td>0.837500</td>\n",
              "      <td>47.800000</td>\n",
              "      <td>1488.000000</td>\n",
              "      <td>61.000000</td>\n",
              "      <td>2.540000</td>\n",
              "      <td>2.070000</td>\n",
              "      <td>7.000000</td>\n",
              "      <td>48.000000</td>\n",
              "      <td>4150.000000</td>\n",
              "      <td>13.000000</td>\n",
              "      <td>16.000000</td>\n",
              "      <td>5118.000000</td>\n",
              "      <td>4.795918</td>\n",
              "      <td>0.000000</td>\n",
              "      <td>0.000000</td>\n",
              "    </tr>\n",
              "    <tr>\n",
              "      <th>25%</th>\n",
              "      <td>0.000000</td>\n",
              "      <td>101.00000</td>\n",
              "      <td>94.500000</td>\n",
              "      <td>0.801538</td>\n",
              "      <td>0.890278</td>\n",
              "      <td>52.000000</td>\n",
              "      <td>2169.000000</td>\n",
              "      <td>98.000000</td>\n",
              "      <td>3.150000</td>\n",
              "      <td>3.110000</td>\n",
              "      <td>8.600000</td>\n",
              "      <td>70.000000</td>\n",
              "      <td>4800.000000</td>\n",
              "      <td>19.000000</td>\n",
              "      <td>25.000000</td>\n",
              "      <td>7775.000000</td>\n",
              "      <td>7.833333</td>\n",
              "      <td>0.000000</td>\n",
              "      <td>1.000000</td>\n",
              "    </tr>\n",
              "    <tr>\n",
              "      <th>50%</th>\n",
              "      <td>1.000000</td>\n",
              "      <td>122.00000</td>\n",
              "      <td>97.000000</td>\n",
              "      <td>0.832292</td>\n",
              "      <td>0.909722</td>\n",
              "      <td>54.100000</td>\n",
              "      <td>2414.000000</td>\n",
              "      <td>120.000000</td>\n",
              "      <td>3.310000</td>\n",
              "      <td>3.290000</td>\n",
              "      <td>9.000000</td>\n",
              "      <td>95.000000</td>\n",
              "      <td>5125.369458</td>\n",
              "      <td>24.000000</td>\n",
              "      <td>30.000000</td>\n",
              "      <td>10295.000000</td>\n",
              "      <td>9.791667</td>\n",
              "      <td>0.000000</td>\n",
              "      <td>1.000000</td>\n",
              "    </tr>\n",
              "    <tr>\n",
              "      <th>75%</th>\n",
              "      <td>2.000000</td>\n",
              "      <td>137.00000</td>\n",
              "      <td>102.400000</td>\n",
              "      <td>0.881788</td>\n",
              "      <td>0.925000</td>\n",
              "      <td>55.500000</td>\n",
              "      <td>2926.000000</td>\n",
              "      <td>141.000000</td>\n",
              "      <td>3.580000</td>\n",
              "      <td>3.410000</td>\n",
              "      <td>9.400000</td>\n",
              "      <td>116.000000</td>\n",
              "      <td>5500.000000</td>\n",
              "      <td>30.000000</td>\n",
              "      <td>34.000000</td>\n",
              "      <td>16500.000000</td>\n",
              "      <td>12.368421</td>\n",
              "      <td>0.000000</td>\n",
              "      <td>1.000000</td>\n",
              "    </tr>\n",
              "    <tr>\n",
              "      <th>max</th>\n",
              "      <td>3.000000</td>\n",
              "      <td>256.00000</td>\n",
              "      <td>120.900000</td>\n",
              "      <td>1.000000</td>\n",
              "      <td>1.000000</td>\n",
              "      <td>59.800000</td>\n",
              "      <td>4066.000000</td>\n",
              "      <td>326.000000</td>\n",
              "      <td>3.940000</td>\n",
              "      <td>4.170000</td>\n",
              "      <td>23.000000</td>\n",
              "      <td>262.000000</td>\n",
              "      <td>6600.000000</td>\n",
              "      <td>49.000000</td>\n",
              "      <td>54.000000</td>\n",
              "      <td>45400.000000</td>\n",
              "      <td>18.076923</td>\n",
              "      <td>1.000000</td>\n",
              "      <td>1.000000</td>\n",
              "    </tr>\n",
              "  </tbody>\n",
              "</table>\n",
              "</div>"
            ],
            "text/plain": [
              "        symboling  normalized-losses  wheel-base      length       width  \\\n",
              "count  201.000000          201.00000  201.000000  201.000000  201.000000   \n",
              "mean     0.840796          122.00000   98.797015    0.837102    0.915126   \n",
              "std      1.254802           31.99625    6.066366    0.059213    0.029187   \n",
              "min     -2.000000           65.00000   86.600000    0.678039    0.837500   \n",
              "25%      0.000000          101.00000   94.500000    0.801538    0.890278   \n",
              "50%      1.000000          122.00000   97.000000    0.832292    0.909722   \n",
              "75%      2.000000          137.00000  102.400000    0.881788    0.925000   \n",
              "max      3.000000          256.00000  120.900000    1.000000    1.000000   \n",
              "\n",
              "           height  curb-weight  engine-size        bore      stroke  \\\n",
              "count  201.000000   201.000000   201.000000  201.000000  197.000000   \n",
              "mean    53.766667  2555.666667   126.875622    3.330692    3.256904   \n",
              "std      2.447822   517.296727    41.546834    0.268072    0.319256   \n",
              "min     47.800000  1488.000000    61.000000    2.540000    2.070000   \n",
              "25%     52.000000  2169.000000    98.000000    3.150000    3.110000   \n",
              "50%     54.100000  2414.000000   120.000000    3.310000    3.290000   \n",
              "75%     55.500000  2926.000000   141.000000    3.580000    3.410000   \n",
              "max     59.800000  4066.000000   326.000000    3.940000    4.170000   \n",
              "\n",
              "       compression-ratio  horsepower     peak-rpm    city-mpg  highway-mpg  \\\n",
              "count         201.000000  201.000000   201.000000  201.000000   201.000000   \n",
              "mean           10.164279  103.405534  5117.665368   25.179104    30.686567   \n",
              "std             4.004965   37.365700   478.113805    6.423220     6.815150   \n",
              "min             7.000000   48.000000  4150.000000   13.000000    16.000000   \n",
              "25%             8.600000   70.000000  4800.000000   19.000000    25.000000   \n",
              "50%             9.000000   95.000000  5125.369458   24.000000    30.000000   \n",
              "75%             9.400000  116.000000  5500.000000   30.000000    34.000000   \n",
              "max            23.000000  262.000000  6600.000000   49.000000    54.000000   \n",
              "\n",
              "              price  city-L/100km      diesel         gas  \n",
              "count    201.000000    201.000000  201.000000  201.000000  \n",
              "mean   13207.129353      9.944145    0.099502    0.900498  \n",
              "std     7947.066342      2.534599    0.300083    0.300083  \n",
              "min     5118.000000      4.795918    0.000000    0.000000  \n",
              "25%     7775.000000      7.833333    0.000000    1.000000  \n",
              "50%    10295.000000      9.791667    0.000000    1.000000  \n",
              "75%    16500.000000     12.368421    0.000000    1.000000  \n",
              "max    45400.000000     18.076923    1.000000    1.000000  "
            ]
          },
          "execution_count": 25,
          "metadata": {},
          "output_type": "execute_result"
        }
      ],
      "source": [
        "df.describe()"
      ]
    },
    {
      "cell_type": "markdown",
      "metadata": {},
      "source": [
        "The default setting of \"describe\" skips variables of type object. We can apply the method \"describe\" on the variables of type 'object' as follows:\n"
      ]
    },
    {
      "cell_type": "code",
      "execution_count": 26,
      "metadata": {},
      "outputs": [
        {
          "data": {
            "text/html": [
              "<div>\n",
              "<style scoped>\n",
              "    .dataframe tbody tr th:only-of-type {\n",
              "        vertical-align: middle;\n",
              "    }\n",
              "\n",
              "    .dataframe tbody tr th {\n",
              "        vertical-align: top;\n",
              "    }\n",
              "\n",
              "    .dataframe thead th {\n",
              "        text-align: right;\n",
              "    }\n",
              "</style>\n",
              "<table border=\"1\" class=\"dataframe\">\n",
              "  <thead>\n",
              "    <tr style=\"text-align: right;\">\n",
              "      <th></th>\n",
              "      <th>make</th>\n",
              "      <th>aspiration</th>\n",
              "      <th>num-of-doors</th>\n",
              "      <th>body-style</th>\n",
              "      <th>drive-wheels</th>\n",
              "      <th>engine-location</th>\n",
              "      <th>engine-type</th>\n",
              "      <th>num-of-cylinders</th>\n",
              "      <th>fuel-system</th>\n",
              "      <th>horsepower-binned</th>\n",
              "    </tr>\n",
              "  </thead>\n",
              "  <tbody>\n",
              "    <tr>\n",
              "      <th>count</th>\n",
              "      <td>201</td>\n",
              "      <td>201</td>\n",
              "      <td>201</td>\n",
              "      <td>201</td>\n",
              "      <td>201</td>\n",
              "      <td>201</td>\n",
              "      <td>201</td>\n",
              "      <td>201</td>\n",
              "      <td>201</td>\n",
              "      <td>200</td>\n",
              "    </tr>\n",
              "    <tr>\n",
              "      <th>unique</th>\n",
              "      <td>22</td>\n",
              "      <td>2</td>\n",
              "      <td>2</td>\n",
              "      <td>5</td>\n",
              "      <td>3</td>\n",
              "      <td>2</td>\n",
              "      <td>6</td>\n",
              "      <td>7</td>\n",
              "      <td>8</td>\n",
              "      <td>3</td>\n",
              "    </tr>\n",
              "    <tr>\n",
              "      <th>top</th>\n",
              "      <td>toyota</td>\n",
              "      <td>std</td>\n",
              "      <td>four</td>\n",
              "      <td>sedan</td>\n",
              "      <td>fwd</td>\n",
              "      <td>front</td>\n",
              "      <td>ohc</td>\n",
              "      <td>four</td>\n",
              "      <td>mpfi</td>\n",
              "      <td>Low</td>\n",
              "    </tr>\n",
              "    <tr>\n",
              "      <th>freq</th>\n",
              "      <td>32</td>\n",
              "      <td>165</td>\n",
              "      <td>115</td>\n",
              "      <td>94</td>\n",
              "      <td>118</td>\n",
              "      <td>198</td>\n",
              "      <td>145</td>\n",
              "      <td>157</td>\n",
              "      <td>92</td>\n",
              "      <td>115</td>\n",
              "    </tr>\n",
              "  </tbody>\n",
              "</table>\n",
              "</div>"
            ],
            "text/plain": [
              "          make aspiration num-of-doors body-style drive-wheels  \\\n",
              "count      201        201          201        201          201   \n",
              "unique      22          2            2          5            3   \n",
              "top     toyota        std         four      sedan          fwd   \n",
              "freq        32        165          115         94          118   \n",
              "\n",
              "       engine-location engine-type num-of-cylinders fuel-system  \\\n",
              "count              201         201              201         201   \n",
              "unique               2           6                7           8   \n",
              "top              front         ohc             four        mpfi   \n",
              "freq               198         145              157          92   \n",
              "\n",
              "       horsepower-binned  \n",
              "count                200  \n",
              "unique                 3  \n",
              "top                  Low  \n",
              "freq                 115  "
            ]
          },
          "execution_count": 26,
          "metadata": {},
          "output_type": "execute_result"
        }
      ],
      "source": [
        "df.describe(include=['object'])"
      ]
    },
    {
      "cell_type": "markdown",
      "metadata": {},
      "source": [
        "<h3>Value Counts</h3>\n"
      ]
    },
    {
      "cell_type": "markdown",
      "metadata": {},
      "source": [
        "<p>Value counts is a good way of understanding how many units of each characteristic/variable we have. We can apply the \"value_counts\" method on the column \"drive-wheels\". Don’t forget the method \"value_counts\" only works on pandas series, not pandas dataframes. As a result, we only include one bracket <code>df['drive-wheels']</code>, not two brackets <code>df[['drive-wheels']]</code>.</p>\n"
      ]
    },
    {
      "cell_type": "code",
      "execution_count": 27,
      "metadata": {},
      "outputs": [
        {
          "data": {
            "text/plain": [
              "drive-wheels\n",
              "fwd    118\n",
              "rwd     75\n",
              "4wd      8\n",
              "Name: count, dtype: int64"
            ]
          },
          "execution_count": 27,
          "metadata": {},
          "output_type": "execute_result"
        }
      ],
      "source": [
        "df['drive-wheels'].value_counts()"
      ]
    },
    {
      "cell_type": "markdown",
      "metadata": {},
      "source": [
        "We can convert the series to a dataframe as follows:\n"
      ]
    },
    {
      "cell_type": "code",
      "execution_count": 28,
      "metadata": {},
      "outputs": [
        {
          "data": {
            "text/html": [
              "<div>\n",
              "<style scoped>\n",
              "    .dataframe tbody tr th:only-of-type {\n",
              "        vertical-align: middle;\n",
              "    }\n",
              "\n",
              "    .dataframe tbody tr th {\n",
              "        vertical-align: top;\n",
              "    }\n",
              "\n",
              "    .dataframe thead th {\n",
              "        text-align: right;\n",
              "    }\n",
              "</style>\n",
              "<table border=\"1\" class=\"dataframe\">\n",
              "  <thead>\n",
              "    <tr style=\"text-align: right;\">\n",
              "      <th></th>\n",
              "      <th>count</th>\n",
              "    </tr>\n",
              "    <tr>\n",
              "      <th>drive-wheels</th>\n",
              "      <th></th>\n",
              "    </tr>\n",
              "  </thead>\n",
              "  <tbody>\n",
              "    <tr>\n",
              "      <th>fwd</th>\n",
              "      <td>118</td>\n",
              "    </tr>\n",
              "    <tr>\n",
              "      <th>rwd</th>\n",
              "      <td>75</td>\n",
              "    </tr>\n",
              "    <tr>\n",
              "      <th>4wd</th>\n",
              "      <td>8</td>\n",
              "    </tr>\n",
              "  </tbody>\n",
              "</table>\n",
              "</div>"
            ],
            "text/plain": [
              "              count\n",
              "drive-wheels       \n",
              "fwd             118\n",
              "rwd              75\n",
              "4wd               8"
            ]
          },
          "execution_count": 28,
          "metadata": {},
          "output_type": "execute_result"
        }
      ],
      "source": [
        "df['drive-wheels'].value_counts().to_frame()"
      ]
    },
    {
      "cell_type": "markdown",
      "metadata": {},
      "source": [
        "Let's repeat the above steps but save the results to the dataframe \"drive_wheels_counts\" and rename the column  'drive-wheels' to 'value_counts'.\n"
      ]
    },
    {
      "cell_type": "code",
      "execution_count": 29,
      "metadata": {},
      "outputs": [
        {
          "data": {
            "text/html": [
              "<div>\n",
              "<style scoped>\n",
              "    .dataframe tbody tr th:only-of-type {\n",
              "        vertical-align: middle;\n",
              "    }\n",
              "\n",
              "    .dataframe tbody tr th {\n",
              "        vertical-align: top;\n",
              "    }\n",
              "\n",
              "    .dataframe thead th {\n",
              "        text-align: right;\n",
              "    }\n",
              "</style>\n",
              "<table border=\"1\" class=\"dataframe\">\n",
              "  <thead>\n",
              "    <tr style=\"text-align: right;\">\n",
              "      <th></th>\n",
              "      <th>count</th>\n",
              "    </tr>\n",
              "    <tr>\n",
              "      <th>drive-wheels</th>\n",
              "      <th></th>\n",
              "    </tr>\n",
              "  </thead>\n",
              "  <tbody>\n",
              "    <tr>\n",
              "      <th>fwd</th>\n",
              "      <td>118</td>\n",
              "    </tr>\n",
              "    <tr>\n",
              "      <th>rwd</th>\n",
              "      <td>75</td>\n",
              "    </tr>\n",
              "    <tr>\n",
              "      <th>4wd</th>\n",
              "      <td>8</td>\n",
              "    </tr>\n",
              "  </tbody>\n",
              "</table>\n",
              "</div>"
            ],
            "text/plain": [
              "              count\n",
              "drive-wheels       \n",
              "fwd             118\n",
              "rwd              75\n",
              "4wd               8"
            ]
          },
          "execution_count": 29,
          "metadata": {},
          "output_type": "execute_result"
        }
      ],
      "source": [
        "drive_wheels_counts = df['drive-wheels'].value_counts().to_frame()\n",
        "drive_wheels_counts.rename(columns={'drive-wheels': 'value_counts'}, inplace=True)\n",
        "drive_wheels_counts"
      ]
    },
    {
      "cell_type": "markdown",
      "metadata": {},
      "source": [
        "Now let's rename the index to 'drive-wheels':\n"
      ]
    },
    {
      "cell_type": "code",
      "execution_count": 32,
      "metadata": {},
      "outputs": [
        {
          "data": {
            "text/html": [
              "<div>\n",
              "<style scoped>\n",
              "    .dataframe tbody tr th:only-of-type {\n",
              "        vertical-align: middle;\n",
              "    }\n",
              "\n",
              "    .dataframe tbody tr th {\n",
              "        vertical-align: top;\n",
              "    }\n",
              "\n",
              "    .dataframe thead th {\n",
              "        text-align: right;\n",
              "    }\n",
              "</style>\n",
              "<table border=\"1\" class=\"dataframe\">\n",
              "  <thead>\n",
              "    <tr style=\"text-align: right;\">\n",
              "      <th></th>\n",
              "      <th>count</th>\n",
              "    </tr>\n",
              "    <tr>\n",
              "      <th>drive-wheels</th>\n",
              "      <th></th>\n",
              "    </tr>\n",
              "  </thead>\n",
              "  <tbody>\n",
              "    <tr>\n",
              "      <th>fwd</th>\n",
              "      <td>118</td>\n",
              "    </tr>\n",
              "    <tr>\n",
              "      <th>rwd</th>\n",
              "      <td>75</td>\n",
              "    </tr>\n",
              "    <tr>\n",
              "      <th>4wd</th>\n",
              "      <td>8</td>\n",
              "    </tr>\n",
              "  </tbody>\n",
              "</table>\n",
              "</div>"
            ],
            "text/plain": [
              "              count\n",
              "drive-wheels       \n",
              "fwd             118\n",
              "rwd              75\n",
              "4wd               8"
            ]
          },
          "execution_count": 32,
          "metadata": {},
          "output_type": "execute_result"
        }
      ],
      "source": [
        "drive_wheels_counts.index.name = 'drive-wheels'\n",
        "drive_wheels_counts"
      ]
    },
    {
      "cell_type": "markdown",
      "metadata": {},
      "source": [
        "We can repeat the above process for the variable 'engine-location'.\n"
      ]
    },
    {
      "cell_type": "code",
      "execution_count": 30,
      "metadata": {},
      "outputs": [
        {
          "data": {
            "text/html": [
              "<div>\n",
              "<style scoped>\n",
              "    .dataframe tbody tr th:only-of-type {\n",
              "        vertical-align: middle;\n",
              "    }\n",
              "\n",
              "    .dataframe tbody tr th {\n",
              "        vertical-align: top;\n",
              "    }\n",
              "\n",
              "    .dataframe thead th {\n",
              "        text-align: right;\n",
              "    }\n",
              "</style>\n",
              "<table border=\"1\" class=\"dataframe\">\n",
              "  <thead>\n",
              "    <tr style=\"text-align: right;\">\n",
              "      <th></th>\n",
              "      <th>count</th>\n",
              "    </tr>\n",
              "    <tr>\n",
              "      <th>engine-location</th>\n",
              "      <th></th>\n",
              "    </tr>\n",
              "  </thead>\n",
              "  <tbody>\n",
              "    <tr>\n",
              "      <th>front</th>\n",
              "      <td>198</td>\n",
              "    </tr>\n",
              "    <tr>\n",
              "      <th>rear</th>\n",
              "      <td>3</td>\n",
              "    </tr>\n",
              "  </tbody>\n",
              "</table>\n",
              "</div>"
            ],
            "text/plain": [
              "                 count\n",
              "engine-location       \n",
              "front              198\n",
              "rear                 3"
            ]
          },
          "execution_count": 30,
          "metadata": {},
          "output_type": "execute_result"
        }
      ],
      "source": [
        "# engine-location as variable\n",
        "engine_loc_counts = df['engine-location'].value_counts().to_frame()\n",
        "engine_loc_counts.rename(columns={'engine-location': 'value_counts'}, inplace=True)\n",
        "engine_loc_counts.index.name = 'engine-location'\n",
        "engine_loc_counts.head(10)"
      ]
    },
    {
      "cell_type": "markdown",
      "metadata": {},
      "source": [
        "<p>After examining the value counts of the engine location, we see that engine location would not be a good predictor variable for the price. This is because we only have three cars with a rear engine and 198 with an engine in the front, so this result is skewed. Thus, we are not able to draw any conclusions about the engine location.</p>\n"
      ]
    },
    {
      "cell_type": "markdown",
      "metadata": {},
      "source": [
        "<h2 id=\"basic_grouping\">4. Basics of Grouping</h2>\n"
      ]
    },
    {
      "cell_type": "markdown",
      "metadata": {},
      "source": [
        "<p>The \"groupby\" method groups data by different categories. The data is grouped based on one or several variables, and analysis is performed on the individual groups.</p>\n",
        "\n",
        "<p>For example, let's group by the variable \"drive-wheels\". We see that there are 3 different categories of drive wheels.</p>\n"
      ]
    },
    {
      "cell_type": "code",
      "execution_count": 31,
      "metadata": {},
      "outputs": [
        {
          "data": {
            "text/plain": [
              "array(['rwd', 'fwd', '4wd'], dtype=object)"
            ]
          },
          "execution_count": 31,
          "metadata": {},
          "output_type": "execute_result"
        }
      ],
      "source": [
        "df['drive-wheels'].unique()"
      ]
    },
    {
      "cell_type": "markdown",
      "metadata": {},
      "source": [
        "<p>If we want to know, on average, which type of drive wheel is most valuable, we can group \"drive-wheels\" and then average them.</p>\n",
        "\n",
        "<p>We can select the columns 'drive-wheels', 'body-style' and 'price', then assign it to the variable \"df_group_one\".</p>\n"
      ]
    },
    {
      "cell_type": "code",
      "execution_count": 32,
      "metadata": {},
      "outputs": [],
      "source": [
        "df_group_one = df[['drive-wheels','body-style','price']]"
      ]
    },
    {
      "cell_type": "markdown",
      "metadata": {},
      "source": [
        "We can then calculate the average price for each of the different categories of data.\n"
      ]
    },
    {
      "cell_type": "code",
      "execution_count": 33,
      "metadata": {},
      "outputs": [
        {
          "ename": "TypeError",
          "evalue": "Could not convert sedanhatchbacksedansedanwagonwagonwagonwagon to numeric",
          "output_type": "error",
          "traceback": [
            "\u001b[1;31m---------------------------------------------------------------------------\u001b[0m",
            "\u001b[1;31mNotImplementedError\u001b[0m                       Traceback (most recent call last)",
            "File \u001b[1;32mc:\\Users\\Andres\\AppData\\Local\\Programs\\Python\\Python311\\Lib\\site-packages\\pandas\\core\\groupby\\groupby.py:1490\u001b[0m, in \u001b[0;36mGroupBy._cython_agg_general.<locals>.array_func\u001b[1;34m(values)\u001b[0m\n\u001b[0;32m   1489\u001b[0m \u001b[39mtry\u001b[39;00m:\n\u001b[1;32m-> 1490\u001b[0m     result \u001b[39m=\u001b[39m \u001b[39mself\u001b[39;49m\u001b[39m.\u001b[39;49mgrouper\u001b[39m.\u001b[39;49m_cython_operation(\n\u001b[0;32m   1491\u001b[0m         \u001b[39m\"\u001b[39;49m\u001b[39maggregate\u001b[39;49m\u001b[39m\"\u001b[39;49m,\n\u001b[0;32m   1492\u001b[0m         values,\n\u001b[0;32m   1493\u001b[0m         how,\n\u001b[0;32m   1494\u001b[0m         axis\u001b[39m=\u001b[39;49mdata\u001b[39m.\u001b[39;49mndim \u001b[39m-\u001b[39;49m \u001b[39m1\u001b[39;49m,\n\u001b[0;32m   1495\u001b[0m         min_count\u001b[39m=\u001b[39;49mmin_count,\n\u001b[0;32m   1496\u001b[0m         \u001b[39m*\u001b[39;49m\u001b[39m*\u001b[39;49mkwargs,\n\u001b[0;32m   1497\u001b[0m     )\n\u001b[0;32m   1498\u001b[0m \u001b[39mexcept\u001b[39;00m \u001b[39mNotImplementedError\u001b[39;00m:\n\u001b[0;32m   1499\u001b[0m     \u001b[39m# generally if we have numeric_only=False\u001b[39;00m\n\u001b[0;32m   1500\u001b[0m     \u001b[39m# and non-applicable functions\u001b[39;00m\n\u001b[0;32m   1501\u001b[0m     \u001b[39m# try to python agg\u001b[39;00m\n\u001b[0;32m   1502\u001b[0m     \u001b[39m# TODO: shouldn't min_count matter?\u001b[39;00m\n",
            "File \u001b[1;32mc:\\Users\\Andres\\AppData\\Local\\Programs\\Python\\Python311\\Lib\\site-packages\\pandas\\core\\groupby\\ops.py:959\u001b[0m, in \u001b[0;36mBaseGrouper._cython_operation\u001b[1;34m(self, kind, values, how, axis, min_count, **kwargs)\u001b[0m\n\u001b[0;32m    958\u001b[0m ngroups \u001b[39m=\u001b[39m \u001b[39mself\u001b[39m\u001b[39m.\u001b[39mngroups\n\u001b[1;32m--> 959\u001b[0m \u001b[39mreturn\u001b[39;00m cy_op\u001b[39m.\u001b[39;49mcython_operation(\n\u001b[0;32m    960\u001b[0m     values\u001b[39m=\u001b[39;49mvalues,\n\u001b[0;32m    961\u001b[0m     axis\u001b[39m=\u001b[39;49maxis,\n\u001b[0;32m    962\u001b[0m     min_count\u001b[39m=\u001b[39;49mmin_count,\n\u001b[0;32m    963\u001b[0m     comp_ids\u001b[39m=\u001b[39;49mids,\n\u001b[0;32m    964\u001b[0m     ngroups\u001b[39m=\u001b[39;49mngroups,\n\u001b[0;32m    965\u001b[0m     \u001b[39m*\u001b[39;49m\u001b[39m*\u001b[39;49mkwargs,\n\u001b[0;32m    966\u001b[0m )\n",
            "File \u001b[1;32mc:\\Users\\Andres\\AppData\\Local\\Programs\\Python\\Python311\\Lib\\site-packages\\pandas\\core\\groupby\\ops.py:657\u001b[0m, in \u001b[0;36mWrappedCythonOp.cython_operation\u001b[1;34m(self, values, axis, min_count, comp_ids, ngroups, **kwargs)\u001b[0m\n\u001b[0;32m    649\u001b[0m     \u001b[39mreturn\u001b[39;00m \u001b[39mself\u001b[39m\u001b[39m.\u001b[39m_ea_wrap_cython_operation(\n\u001b[0;32m    650\u001b[0m         values,\n\u001b[0;32m    651\u001b[0m         min_count\u001b[39m=\u001b[39mmin_count,\n\u001b[1;32m   (...)\u001b[0m\n\u001b[0;32m    654\u001b[0m         \u001b[39m*\u001b[39m\u001b[39m*\u001b[39mkwargs,\n\u001b[0;32m    655\u001b[0m     )\n\u001b[1;32m--> 657\u001b[0m \u001b[39mreturn\u001b[39;00m \u001b[39mself\u001b[39;49m\u001b[39m.\u001b[39;49m_cython_op_ndim_compat(\n\u001b[0;32m    658\u001b[0m     values,\n\u001b[0;32m    659\u001b[0m     min_count\u001b[39m=\u001b[39;49mmin_count,\n\u001b[0;32m    660\u001b[0m     ngroups\u001b[39m=\u001b[39;49mngroups,\n\u001b[0;32m    661\u001b[0m     comp_ids\u001b[39m=\u001b[39;49mcomp_ids,\n\u001b[0;32m    662\u001b[0m     mask\u001b[39m=\u001b[39;49m\u001b[39mNone\u001b[39;49;00m,\n\u001b[0;32m    663\u001b[0m     \u001b[39m*\u001b[39;49m\u001b[39m*\u001b[39;49mkwargs,\n\u001b[0;32m    664\u001b[0m )\n",
            "File \u001b[1;32mc:\\Users\\Andres\\AppData\\Local\\Programs\\Python\\Python311\\Lib\\site-packages\\pandas\\core\\groupby\\ops.py:497\u001b[0m, in \u001b[0;36mWrappedCythonOp._cython_op_ndim_compat\u001b[1;34m(self, values, min_count, ngroups, comp_ids, mask, result_mask, **kwargs)\u001b[0m\n\u001b[0;32m    495\u001b[0m     \u001b[39mreturn\u001b[39;00m res\u001b[39m.\u001b[39mT\n\u001b[1;32m--> 497\u001b[0m \u001b[39mreturn\u001b[39;00m \u001b[39mself\u001b[39;49m\u001b[39m.\u001b[39;49m_call_cython_op(\n\u001b[0;32m    498\u001b[0m     values,\n\u001b[0;32m    499\u001b[0m     min_count\u001b[39m=\u001b[39;49mmin_count,\n\u001b[0;32m    500\u001b[0m     ngroups\u001b[39m=\u001b[39;49mngroups,\n\u001b[0;32m    501\u001b[0m     comp_ids\u001b[39m=\u001b[39;49mcomp_ids,\n\u001b[0;32m    502\u001b[0m     mask\u001b[39m=\u001b[39;49mmask,\n\u001b[0;32m    503\u001b[0m     result_mask\u001b[39m=\u001b[39;49mresult_mask,\n\u001b[0;32m    504\u001b[0m     \u001b[39m*\u001b[39;49m\u001b[39m*\u001b[39;49mkwargs,\n\u001b[0;32m    505\u001b[0m )\n",
            "File \u001b[1;32mc:\\Users\\Andres\\AppData\\Local\\Programs\\Python\\Python311\\Lib\\site-packages\\pandas\\core\\groupby\\ops.py:541\u001b[0m, in \u001b[0;36mWrappedCythonOp._call_cython_op\u001b[1;34m(self, values, min_count, ngroups, comp_ids, mask, result_mask, **kwargs)\u001b[0m\n\u001b[0;32m    540\u001b[0m out_shape \u001b[39m=\u001b[39m \u001b[39mself\u001b[39m\u001b[39m.\u001b[39m_get_output_shape(ngroups, values)\n\u001b[1;32m--> 541\u001b[0m func \u001b[39m=\u001b[39m \u001b[39mself\u001b[39;49m\u001b[39m.\u001b[39;49m_get_cython_function(\u001b[39mself\u001b[39;49m\u001b[39m.\u001b[39;49mkind, \u001b[39mself\u001b[39;49m\u001b[39m.\u001b[39;49mhow, values\u001b[39m.\u001b[39;49mdtype, is_numeric)\n\u001b[0;32m    542\u001b[0m values \u001b[39m=\u001b[39m \u001b[39mself\u001b[39m\u001b[39m.\u001b[39m_get_cython_vals(values)\n",
            "File \u001b[1;32mc:\\Users\\Andres\\AppData\\Local\\Programs\\Python\\Python311\\Lib\\site-packages\\pandas\\core\\groupby\\ops.py:173\u001b[0m, in \u001b[0;36mWrappedCythonOp._get_cython_function\u001b[1;34m(cls, kind, how, dtype, is_numeric)\u001b[0m\n\u001b[0;32m    171\u001b[0m \u001b[39mif\u001b[39;00m \u001b[39m\"\u001b[39m\u001b[39mobject\u001b[39m\u001b[39m\"\u001b[39m \u001b[39mnot\u001b[39;00m \u001b[39min\u001b[39;00m f\u001b[39m.\u001b[39m__signatures__:\n\u001b[0;32m    172\u001b[0m     \u001b[39m# raise NotImplementedError here rather than TypeError later\u001b[39;00m\n\u001b[1;32m--> 173\u001b[0m     \u001b[39mraise\u001b[39;00m \u001b[39mNotImplementedError\u001b[39;00m(\n\u001b[0;32m    174\u001b[0m         \u001b[39mf\u001b[39m\u001b[39m\"\u001b[39m\u001b[39mfunction is not implemented for this dtype: \u001b[39m\u001b[39m\"\u001b[39m\n\u001b[0;32m    175\u001b[0m         \u001b[39mf\u001b[39m\u001b[39m\"\u001b[39m\u001b[39m[how->\u001b[39m\u001b[39m{\u001b[39;00mhow\u001b[39m}\u001b[39;00m\u001b[39m,dtype->\u001b[39m\u001b[39m{\u001b[39;00mdtype_str\u001b[39m}\u001b[39;00m\u001b[39m]\u001b[39m\u001b[39m\"\u001b[39m\n\u001b[0;32m    176\u001b[0m     )\n\u001b[0;32m    177\u001b[0m \u001b[39mreturn\u001b[39;00m f\n",
            "\u001b[1;31mNotImplementedError\u001b[0m: function is not implemented for this dtype: [how->mean,dtype->object]",
            "\nDuring handling of the above exception, another exception occurred:\n",
            "\u001b[1;31mValueError\u001b[0m                                Traceback (most recent call last)",
            "File \u001b[1;32mc:\\Users\\Andres\\AppData\\Local\\Programs\\Python\\Python311\\Lib\\site-packages\\pandas\\core\\nanops.py:1692\u001b[0m, in \u001b[0;36m_ensure_numeric\u001b[1;34m(x)\u001b[0m\n\u001b[0;32m   1691\u001b[0m \u001b[39mtry\u001b[39;00m:\n\u001b[1;32m-> 1692\u001b[0m     x \u001b[39m=\u001b[39m \u001b[39mfloat\u001b[39m(x)\n\u001b[0;32m   1693\u001b[0m \u001b[39mexcept\u001b[39;00m (\u001b[39mTypeError\u001b[39;00m, \u001b[39mValueError\u001b[39;00m):\n\u001b[0;32m   1694\u001b[0m     \u001b[39m# e.g. \"1+1j\" or \"foo\"\u001b[39;00m\n",
            "\u001b[1;31mValueError\u001b[0m: could not convert string to float: 'sedanhatchbacksedansedanwagonwagonwagonwagon'",
            "\nDuring handling of the above exception, another exception occurred:\n",
            "\u001b[1;31mValueError\u001b[0m                                Traceback (most recent call last)",
            "File \u001b[1;32mc:\\Users\\Andres\\AppData\\Local\\Programs\\Python\\Python311\\Lib\\site-packages\\pandas\\core\\nanops.py:1696\u001b[0m, in \u001b[0;36m_ensure_numeric\u001b[1;34m(x)\u001b[0m\n\u001b[0;32m   1695\u001b[0m \u001b[39mtry\u001b[39;00m:\n\u001b[1;32m-> 1696\u001b[0m     x \u001b[39m=\u001b[39m \u001b[39mcomplex\u001b[39;49m(x)\n\u001b[0;32m   1697\u001b[0m \u001b[39mexcept\u001b[39;00m \u001b[39mValueError\u001b[39;00m \u001b[39mas\u001b[39;00m err:\n\u001b[0;32m   1698\u001b[0m     \u001b[39m# e.g. \"foo\"\u001b[39;00m\n",
            "\u001b[1;31mValueError\u001b[0m: complex() arg is a malformed string",
            "\nThe above exception was the direct cause of the following exception:\n",
            "\u001b[1;31mTypeError\u001b[0m                                 Traceback (most recent call last)",
            "Cell \u001b[1;32mIn[33], line 2\u001b[0m\n\u001b[0;32m      1\u001b[0m \u001b[39m# grouping results\u001b[39;00m\n\u001b[1;32m----> 2\u001b[0m df_group_one \u001b[39m=\u001b[39m df_group_one\u001b[39m.\u001b[39;49mgroupby([\u001b[39m'\u001b[39;49m\u001b[39mdrive-wheels\u001b[39;49m\u001b[39m'\u001b[39;49m],as_index\u001b[39m=\u001b[39;49m\u001b[39mFalse\u001b[39;49;00m)\u001b[39m.\u001b[39;49mmean()\n\u001b[0;32m      3\u001b[0m df_group_one\n",
            "File \u001b[1;32mc:\\Users\\Andres\\AppData\\Local\\Programs\\Python\\Python311\\Lib\\site-packages\\pandas\\core\\groupby\\groupby.py:1855\u001b[0m, in \u001b[0;36mGroupBy.mean\u001b[1;34m(self, numeric_only, engine, engine_kwargs)\u001b[0m\n\u001b[0;32m   1853\u001b[0m     \u001b[39mreturn\u001b[39;00m \u001b[39mself\u001b[39m\u001b[39m.\u001b[39m_numba_agg_general(sliding_mean, engine_kwargs)\n\u001b[0;32m   1854\u001b[0m \u001b[39melse\u001b[39;00m:\n\u001b[1;32m-> 1855\u001b[0m     result \u001b[39m=\u001b[39m \u001b[39mself\u001b[39;49m\u001b[39m.\u001b[39;49m_cython_agg_general(\n\u001b[0;32m   1856\u001b[0m         \u001b[39m\"\u001b[39;49m\u001b[39mmean\u001b[39;49m\u001b[39m\"\u001b[39;49m,\n\u001b[0;32m   1857\u001b[0m         alt\u001b[39m=\u001b[39;49m\u001b[39mlambda\u001b[39;49;00m x: Series(x)\u001b[39m.\u001b[39;49mmean(numeric_only\u001b[39m=\u001b[39;49mnumeric_only),\n\u001b[0;32m   1858\u001b[0m         numeric_only\u001b[39m=\u001b[39;49mnumeric_only,\n\u001b[0;32m   1859\u001b[0m     )\n\u001b[0;32m   1860\u001b[0m     \u001b[39mreturn\u001b[39;00m result\u001b[39m.\u001b[39m__finalize__(\u001b[39mself\u001b[39m\u001b[39m.\u001b[39mobj, method\u001b[39m=\u001b[39m\u001b[39m\"\u001b[39m\u001b[39mgroupby\u001b[39m\u001b[39m\"\u001b[39m)\n",
            "File \u001b[1;32mc:\\Users\\Andres\\AppData\\Local\\Programs\\Python\\Python311\\Lib\\site-packages\\pandas\\core\\groupby\\groupby.py:1507\u001b[0m, in \u001b[0;36mGroupBy._cython_agg_general\u001b[1;34m(self, how, alt, numeric_only, min_count, **kwargs)\u001b[0m\n\u001b[0;32m   1503\u001b[0m         result \u001b[39m=\u001b[39m \u001b[39mself\u001b[39m\u001b[39m.\u001b[39m_agg_py_fallback(values, ndim\u001b[39m=\u001b[39mdata\u001b[39m.\u001b[39mndim, alt\u001b[39m=\u001b[39malt)\n\u001b[0;32m   1505\u001b[0m     \u001b[39mreturn\u001b[39;00m result\n\u001b[1;32m-> 1507\u001b[0m new_mgr \u001b[39m=\u001b[39m data\u001b[39m.\u001b[39;49mgrouped_reduce(array_func)\n\u001b[0;32m   1508\u001b[0m res \u001b[39m=\u001b[39m \u001b[39mself\u001b[39m\u001b[39m.\u001b[39m_wrap_agged_manager(new_mgr)\n\u001b[0;32m   1509\u001b[0m out \u001b[39m=\u001b[39m \u001b[39mself\u001b[39m\u001b[39m.\u001b[39m_wrap_aggregated_output(res)\n",
            "File \u001b[1;32mc:\\Users\\Andres\\AppData\\Local\\Programs\\Python\\Python311\\Lib\\site-packages\\pandas\\core\\internals\\managers.py:1503\u001b[0m, in \u001b[0;36mBlockManager.grouped_reduce\u001b[1;34m(self, func)\u001b[0m\n\u001b[0;32m   1499\u001b[0m \u001b[39mif\u001b[39;00m blk\u001b[39m.\u001b[39mis_object:\n\u001b[0;32m   1500\u001b[0m     \u001b[39m# split on object-dtype blocks bc some columns may raise\u001b[39;00m\n\u001b[0;32m   1501\u001b[0m     \u001b[39m#  while others do not.\u001b[39;00m\n\u001b[0;32m   1502\u001b[0m     \u001b[39mfor\u001b[39;00m sb \u001b[39min\u001b[39;00m blk\u001b[39m.\u001b[39m_split():\n\u001b[1;32m-> 1503\u001b[0m         applied \u001b[39m=\u001b[39m sb\u001b[39m.\u001b[39;49mapply(func)\n\u001b[0;32m   1504\u001b[0m         result_blocks \u001b[39m=\u001b[39m extend_blocks(applied, result_blocks)\n\u001b[0;32m   1505\u001b[0m \u001b[39melse\u001b[39;00m:\n",
            "File \u001b[1;32mc:\\Users\\Andres\\AppData\\Local\\Programs\\Python\\Python311\\Lib\\site-packages\\pandas\\core\\internals\\blocks.py:329\u001b[0m, in \u001b[0;36mBlock.apply\u001b[1;34m(self, func, **kwargs)\u001b[0m\n\u001b[0;32m    323\u001b[0m \u001b[39m@final\u001b[39m\n\u001b[0;32m    324\u001b[0m \u001b[39mdef\u001b[39;00m \u001b[39mapply\u001b[39m(\u001b[39mself\u001b[39m, func, \u001b[39m*\u001b[39m\u001b[39m*\u001b[39mkwargs) \u001b[39m-\u001b[39m\u001b[39m>\u001b[39m \u001b[39mlist\u001b[39m[Block]:\n\u001b[0;32m    325\u001b[0m \u001b[39m    \u001b[39m\u001b[39m\"\"\"\u001b[39;00m\n\u001b[0;32m    326\u001b[0m \u001b[39m    apply the function to my values; return a block if we are not\u001b[39;00m\n\u001b[0;32m    327\u001b[0m \u001b[39m    one\u001b[39;00m\n\u001b[0;32m    328\u001b[0m \u001b[39m    \"\"\"\u001b[39;00m\n\u001b[1;32m--> 329\u001b[0m     result \u001b[39m=\u001b[39m func(\u001b[39mself\u001b[39;49m\u001b[39m.\u001b[39;49mvalues, \u001b[39m*\u001b[39;49m\u001b[39m*\u001b[39;49mkwargs)\n\u001b[0;32m    331\u001b[0m     \u001b[39mreturn\u001b[39;00m \u001b[39mself\u001b[39m\u001b[39m.\u001b[39m_split_op_result(result)\n",
            "File \u001b[1;32mc:\\Users\\Andres\\AppData\\Local\\Programs\\Python\\Python311\\Lib\\site-packages\\pandas\\core\\groupby\\groupby.py:1503\u001b[0m, in \u001b[0;36mGroupBy._cython_agg_general.<locals>.array_func\u001b[1;34m(values)\u001b[0m\n\u001b[0;32m   1490\u001b[0m     result \u001b[39m=\u001b[39m \u001b[39mself\u001b[39m\u001b[39m.\u001b[39mgrouper\u001b[39m.\u001b[39m_cython_operation(\n\u001b[0;32m   1491\u001b[0m         \u001b[39m\"\u001b[39m\u001b[39maggregate\u001b[39m\u001b[39m\"\u001b[39m,\n\u001b[0;32m   1492\u001b[0m         values,\n\u001b[1;32m   (...)\u001b[0m\n\u001b[0;32m   1496\u001b[0m         \u001b[39m*\u001b[39m\u001b[39m*\u001b[39mkwargs,\n\u001b[0;32m   1497\u001b[0m     )\n\u001b[0;32m   1498\u001b[0m \u001b[39mexcept\u001b[39;00m \u001b[39mNotImplementedError\u001b[39;00m:\n\u001b[0;32m   1499\u001b[0m     \u001b[39m# generally if we have numeric_only=False\u001b[39;00m\n\u001b[0;32m   1500\u001b[0m     \u001b[39m# and non-applicable functions\u001b[39;00m\n\u001b[0;32m   1501\u001b[0m     \u001b[39m# try to python agg\u001b[39;00m\n\u001b[0;32m   1502\u001b[0m     \u001b[39m# TODO: shouldn't min_count matter?\u001b[39;00m\n\u001b[1;32m-> 1503\u001b[0m     result \u001b[39m=\u001b[39m \u001b[39mself\u001b[39;49m\u001b[39m.\u001b[39;49m_agg_py_fallback(values, ndim\u001b[39m=\u001b[39;49mdata\u001b[39m.\u001b[39;49mndim, alt\u001b[39m=\u001b[39;49malt)\n\u001b[0;32m   1505\u001b[0m \u001b[39mreturn\u001b[39;00m result\n",
            "File \u001b[1;32mc:\\Users\\Andres\\AppData\\Local\\Programs\\Python\\Python311\\Lib\\site-packages\\pandas\\core\\groupby\\groupby.py:1457\u001b[0m, in \u001b[0;36mGroupBy._agg_py_fallback\u001b[1;34m(self, values, ndim, alt)\u001b[0m\n\u001b[0;32m   1452\u001b[0m     ser \u001b[39m=\u001b[39m df\u001b[39m.\u001b[39miloc[:, \u001b[39m0\u001b[39m]\n\u001b[0;32m   1454\u001b[0m \u001b[39m# We do not get here with UDFs, so we know that our dtype\u001b[39;00m\n\u001b[0;32m   1455\u001b[0m \u001b[39m#  should always be preserved by the implemented aggregations\u001b[39;00m\n\u001b[0;32m   1456\u001b[0m \u001b[39m# TODO: Is this exactly right; see WrappedCythonOp get_result_dtype?\u001b[39;00m\n\u001b[1;32m-> 1457\u001b[0m res_values \u001b[39m=\u001b[39m \u001b[39mself\u001b[39;49m\u001b[39m.\u001b[39;49mgrouper\u001b[39m.\u001b[39;49magg_series(ser, alt, preserve_dtype\u001b[39m=\u001b[39;49m\u001b[39mTrue\u001b[39;49;00m)\n\u001b[0;32m   1459\u001b[0m \u001b[39mif\u001b[39;00m \u001b[39misinstance\u001b[39m(values, Categorical):\n\u001b[0;32m   1460\u001b[0m     \u001b[39m# Because we only get here with known dtype-preserving\u001b[39;00m\n\u001b[0;32m   1461\u001b[0m     \u001b[39m#  reductions, we cast back to Categorical.\u001b[39;00m\n\u001b[0;32m   1462\u001b[0m     \u001b[39m# TODO: if we ever get \"rank\" working, exclude it here.\u001b[39;00m\n\u001b[0;32m   1463\u001b[0m     res_values \u001b[39m=\u001b[39m \u001b[39mtype\u001b[39m(values)\u001b[39m.\u001b[39m_from_sequence(res_values, dtype\u001b[39m=\u001b[39mvalues\u001b[39m.\u001b[39mdtype)\n",
            "File \u001b[1;32mc:\\Users\\Andres\\AppData\\Local\\Programs\\Python\\Python311\\Lib\\site-packages\\pandas\\core\\groupby\\ops.py:994\u001b[0m, in \u001b[0;36mBaseGrouper.agg_series\u001b[1;34m(self, obj, func, preserve_dtype)\u001b[0m\n\u001b[0;32m    987\u001b[0m \u001b[39mif\u001b[39;00m \u001b[39mlen\u001b[39m(obj) \u001b[39m>\u001b[39m \u001b[39m0\u001b[39m \u001b[39mand\u001b[39;00m \u001b[39mnot\u001b[39;00m \u001b[39misinstance\u001b[39m(obj\u001b[39m.\u001b[39m_values, np\u001b[39m.\u001b[39mndarray):\n\u001b[0;32m    988\u001b[0m     \u001b[39m# we can preserve a little bit more aggressively with EA dtype\u001b[39;00m\n\u001b[0;32m    989\u001b[0m     \u001b[39m#  because maybe_cast_pointwise_result will do a try/except\u001b[39;00m\n\u001b[0;32m    990\u001b[0m     \u001b[39m#  with _from_sequence.  NB we are assuming here that _from_sequence\u001b[39;00m\n\u001b[0;32m    991\u001b[0m     \u001b[39m#  is sufficiently strict that it casts appropriately.\u001b[39;00m\n\u001b[0;32m    992\u001b[0m     preserve_dtype \u001b[39m=\u001b[39m \u001b[39mTrue\u001b[39;00m\n\u001b[1;32m--> 994\u001b[0m result \u001b[39m=\u001b[39m \u001b[39mself\u001b[39;49m\u001b[39m.\u001b[39;49m_aggregate_series_pure_python(obj, func)\n\u001b[0;32m    996\u001b[0m npvalues \u001b[39m=\u001b[39m lib\u001b[39m.\u001b[39mmaybe_convert_objects(result, try_float\u001b[39m=\u001b[39m\u001b[39mFalse\u001b[39;00m)\n\u001b[0;32m    997\u001b[0m \u001b[39mif\u001b[39;00m preserve_dtype:\n",
            "File \u001b[1;32mc:\\Users\\Andres\\AppData\\Local\\Programs\\Python\\Python311\\Lib\\site-packages\\pandas\\core\\groupby\\ops.py:1015\u001b[0m, in \u001b[0;36mBaseGrouper._aggregate_series_pure_python\u001b[1;34m(self, obj, func)\u001b[0m\n\u001b[0;32m   1012\u001b[0m splitter \u001b[39m=\u001b[39m \u001b[39mself\u001b[39m\u001b[39m.\u001b[39m_get_splitter(obj, axis\u001b[39m=\u001b[39m\u001b[39m0\u001b[39m)\n\u001b[0;32m   1014\u001b[0m \u001b[39mfor\u001b[39;00m i, group \u001b[39min\u001b[39;00m \u001b[39menumerate\u001b[39m(splitter):\n\u001b[1;32m-> 1015\u001b[0m     res \u001b[39m=\u001b[39m func(group)\n\u001b[0;32m   1016\u001b[0m     res \u001b[39m=\u001b[39m libreduction\u001b[39m.\u001b[39mextract_result(res)\n\u001b[0;32m   1018\u001b[0m     \u001b[39mif\u001b[39;00m \u001b[39mnot\u001b[39;00m initialized:\n\u001b[0;32m   1019\u001b[0m         \u001b[39m# We only do this validation on the first iteration\u001b[39;00m\n",
            "File \u001b[1;32mc:\\Users\\Andres\\AppData\\Local\\Programs\\Python\\Python311\\Lib\\site-packages\\pandas\\core\\groupby\\groupby.py:1857\u001b[0m, in \u001b[0;36mGroupBy.mean.<locals>.<lambda>\u001b[1;34m(x)\u001b[0m\n\u001b[0;32m   1853\u001b[0m     \u001b[39mreturn\u001b[39;00m \u001b[39mself\u001b[39m\u001b[39m.\u001b[39m_numba_agg_general(sliding_mean, engine_kwargs)\n\u001b[0;32m   1854\u001b[0m \u001b[39melse\u001b[39;00m:\n\u001b[0;32m   1855\u001b[0m     result \u001b[39m=\u001b[39m \u001b[39mself\u001b[39m\u001b[39m.\u001b[39m_cython_agg_general(\n\u001b[0;32m   1856\u001b[0m         \u001b[39m\"\u001b[39m\u001b[39mmean\u001b[39m\u001b[39m\"\u001b[39m,\n\u001b[1;32m-> 1857\u001b[0m         alt\u001b[39m=\u001b[39m\u001b[39mlambda\u001b[39;00m x: Series(x)\u001b[39m.\u001b[39;49mmean(numeric_only\u001b[39m=\u001b[39;49mnumeric_only),\n\u001b[0;32m   1858\u001b[0m         numeric_only\u001b[39m=\u001b[39mnumeric_only,\n\u001b[0;32m   1859\u001b[0m     )\n\u001b[0;32m   1860\u001b[0m     \u001b[39mreturn\u001b[39;00m result\u001b[39m.\u001b[39m__finalize__(\u001b[39mself\u001b[39m\u001b[39m.\u001b[39mobj, method\u001b[39m=\u001b[39m\u001b[39m\"\u001b[39m\u001b[39mgroupby\u001b[39m\u001b[39m\"\u001b[39m)\n",
            "File \u001b[1;32mc:\\Users\\Andres\\AppData\\Local\\Programs\\Python\\Python311\\Lib\\site-packages\\pandas\\core\\generic.py:11556\u001b[0m, in \u001b[0;36mNDFrame._add_numeric_operations.<locals>.mean\u001b[1;34m(self, axis, skipna, numeric_only, **kwargs)\u001b[0m\n\u001b[0;32m  11539\u001b[0m \u001b[39m@doc\u001b[39m(\n\u001b[0;32m  11540\u001b[0m     _num_doc,\n\u001b[0;32m  11541\u001b[0m     desc\u001b[39m=\u001b[39m\u001b[39m\"\u001b[39m\u001b[39mReturn the mean of the values over the requested axis.\u001b[39m\u001b[39m\"\u001b[39m,\n\u001b[1;32m   (...)\u001b[0m\n\u001b[0;32m  11554\u001b[0m     \u001b[39m*\u001b[39m\u001b[39m*\u001b[39mkwargs,\n\u001b[0;32m  11555\u001b[0m ):\n\u001b[1;32m> 11556\u001b[0m     \u001b[39mreturn\u001b[39;00m NDFrame\u001b[39m.\u001b[39;49mmean(\u001b[39mself\u001b[39;49m, axis, skipna, numeric_only, \u001b[39m*\u001b[39;49m\u001b[39m*\u001b[39;49mkwargs)\n",
            "File \u001b[1;32mc:\\Users\\Andres\\AppData\\Local\\Programs\\Python\\Python311\\Lib\\site-packages\\pandas\\core\\generic.py:11201\u001b[0m, in \u001b[0;36mNDFrame.mean\u001b[1;34m(self, axis, skipna, numeric_only, **kwargs)\u001b[0m\n\u001b[0;32m  11194\u001b[0m \u001b[39mdef\u001b[39;00m \u001b[39mmean\u001b[39m(\n\u001b[0;32m  11195\u001b[0m     \u001b[39mself\u001b[39m,\n\u001b[0;32m  11196\u001b[0m     axis: Axis \u001b[39m|\u001b[39m \u001b[39mNone\u001b[39;00m \u001b[39m=\u001b[39m \u001b[39m0\u001b[39m,\n\u001b[1;32m   (...)\u001b[0m\n\u001b[0;32m  11199\u001b[0m     \u001b[39m*\u001b[39m\u001b[39m*\u001b[39mkwargs,\n\u001b[0;32m  11200\u001b[0m ) \u001b[39m-\u001b[39m\u001b[39m>\u001b[39m Series \u001b[39m|\u001b[39m \u001b[39mfloat\u001b[39m:\n\u001b[1;32m> 11201\u001b[0m     \u001b[39mreturn\u001b[39;00m \u001b[39mself\u001b[39;49m\u001b[39m.\u001b[39;49m_stat_function(\n\u001b[0;32m  11202\u001b[0m         \u001b[39m\"\u001b[39;49m\u001b[39mmean\u001b[39;49m\u001b[39m\"\u001b[39;49m, nanops\u001b[39m.\u001b[39;49mnanmean, axis, skipna, numeric_only, \u001b[39m*\u001b[39;49m\u001b[39m*\u001b[39;49mkwargs\n\u001b[0;32m  11203\u001b[0m     )\n",
            "File \u001b[1;32mc:\\Users\\Andres\\AppData\\Local\\Programs\\Python\\Python311\\Lib\\site-packages\\pandas\\core\\generic.py:11158\u001b[0m, in \u001b[0;36mNDFrame._stat_function\u001b[1;34m(self, name, func, axis, skipna, numeric_only, **kwargs)\u001b[0m\n\u001b[0;32m  11154\u001b[0m     nv\u001b[39m.\u001b[39mvalidate_stat_func((), kwargs, fname\u001b[39m=\u001b[39mname)\n\u001b[0;32m  11156\u001b[0m validate_bool_kwarg(skipna, \u001b[39m\"\u001b[39m\u001b[39mskipna\u001b[39m\u001b[39m\"\u001b[39m, none_allowed\u001b[39m=\u001b[39m\u001b[39mFalse\u001b[39;00m)\n\u001b[1;32m> 11158\u001b[0m \u001b[39mreturn\u001b[39;00m \u001b[39mself\u001b[39;49m\u001b[39m.\u001b[39;49m_reduce(\n\u001b[0;32m  11159\u001b[0m     func, name\u001b[39m=\u001b[39;49mname, axis\u001b[39m=\u001b[39;49maxis, skipna\u001b[39m=\u001b[39;49mskipna, numeric_only\u001b[39m=\u001b[39;49mnumeric_only\n\u001b[0;32m  11160\u001b[0m )\n",
            "File \u001b[1;32mc:\\Users\\Andres\\AppData\\Local\\Programs\\Python\\Python311\\Lib\\site-packages\\pandas\\core\\series.py:4670\u001b[0m, in \u001b[0;36mSeries._reduce\u001b[1;34m(self, op, name, axis, skipna, numeric_only, filter_type, **kwds)\u001b[0m\n\u001b[0;32m   4665\u001b[0m     \u001b[39mraise\u001b[39;00m \u001b[39mTypeError\u001b[39;00m(\n\u001b[0;32m   4666\u001b[0m         \u001b[39mf\u001b[39m\u001b[39m\"\u001b[39m\u001b[39mSeries.\u001b[39m\u001b[39m{\u001b[39;00mname\u001b[39m}\u001b[39;00m\u001b[39m does not allow \u001b[39m\u001b[39m{\u001b[39;00mkwd_name\u001b[39m}\u001b[39;00m\u001b[39m=\u001b[39m\u001b[39m{\u001b[39;00mnumeric_only\u001b[39m}\u001b[39;00m\u001b[39m \u001b[39m\u001b[39m\"\u001b[39m\n\u001b[0;32m   4667\u001b[0m         \u001b[39m\"\u001b[39m\u001b[39mwith non-numeric dtypes.\u001b[39m\u001b[39m\"\u001b[39m\n\u001b[0;32m   4668\u001b[0m     )\n\u001b[0;32m   4669\u001b[0m \u001b[39mwith\u001b[39;00m np\u001b[39m.\u001b[39merrstate(\u001b[39mall\u001b[39m\u001b[39m=\u001b[39m\u001b[39m\"\u001b[39m\u001b[39mignore\u001b[39m\u001b[39m\"\u001b[39m):\n\u001b[1;32m-> 4670\u001b[0m     \u001b[39mreturn\u001b[39;00m op(delegate, skipna\u001b[39m=\u001b[39;49mskipna, \u001b[39m*\u001b[39;49m\u001b[39m*\u001b[39;49mkwds)\n",
            "File \u001b[1;32mc:\\Users\\Andres\\AppData\\Local\\Programs\\Python\\Python311\\Lib\\site-packages\\pandas\\core\\nanops.py:96\u001b[0m, in \u001b[0;36mdisallow.__call__.<locals>._f\u001b[1;34m(*args, **kwargs)\u001b[0m\n\u001b[0;32m     94\u001b[0m \u001b[39mtry\u001b[39;00m:\n\u001b[0;32m     95\u001b[0m     \u001b[39mwith\u001b[39;00m np\u001b[39m.\u001b[39merrstate(invalid\u001b[39m=\u001b[39m\u001b[39m\"\u001b[39m\u001b[39mignore\u001b[39m\u001b[39m\"\u001b[39m):\n\u001b[1;32m---> 96\u001b[0m         \u001b[39mreturn\u001b[39;00m f(\u001b[39m*\u001b[39;49margs, \u001b[39m*\u001b[39;49m\u001b[39m*\u001b[39;49mkwargs)\n\u001b[0;32m     97\u001b[0m \u001b[39mexcept\u001b[39;00m \u001b[39mValueError\u001b[39;00m \u001b[39mas\u001b[39;00m e:\n\u001b[0;32m     98\u001b[0m     \u001b[39m# we want to transform an object array\u001b[39;00m\n\u001b[0;32m     99\u001b[0m     \u001b[39m# ValueError message to the more typical TypeError\u001b[39;00m\n\u001b[0;32m    100\u001b[0m     \u001b[39m# e.g. this is normally a disallowed function on\u001b[39;00m\n\u001b[0;32m    101\u001b[0m     \u001b[39m# object arrays that contain strings\u001b[39;00m\n\u001b[0;32m    102\u001b[0m     \u001b[39mif\u001b[39;00m is_object_dtype(args[\u001b[39m0\u001b[39m]):\n",
            "File \u001b[1;32mc:\\Users\\Andres\\AppData\\Local\\Programs\\Python\\Python311\\Lib\\site-packages\\pandas\\core\\nanops.py:158\u001b[0m, in \u001b[0;36mbottleneck_switch.__call__.<locals>.f\u001b[1;34m(values, axis, skipna, **kwds)\u001b[0m\n\u001b[0;32m    156\u001b[0m         result \u001b[39m=\u001b[39m alt(values, axis\u001b[39m=\u001b[39maxis, skipna\u001b[39m=\u001b[39mskipna, \u001b[39m*\u001b[39m\u001b[39m*\u001b[39mkwds)\n\u001b[0;32m    157\u001b[0m \u001b[39melse\u001b[39;00m:\n\u001b[1;32m--> 158\u001b[0m     result \u001b[39m=\u001b[39m alt(values, axis\u001b[39m=\u001b[39;49maxis, skipna\u001b[39m=\u001b[39;49mskipna, \u001b[39m*\u001b[39;49m\u001b[39m*\u001b[39;49mkwds)\n\u001b[0;32m    160\u001b[0m \u001b[39mreturn\u001b[39;00m result\n",
            "File \u001b[1;32mc:\\Users\\Andres\\AppData\\Local\\Programs\\Python\\Python311\\Lib\\site-packages\\pandas\\core\\nanops.py:421\u001b[0m, in \u001b[0;36m_datetimelike_compat.<locals>.new_func\u001b[1;34m(values, axis, skipna, mask, **kwargs)\u001b[0m\n\u001b[0;32m    418\u001b[0m \u001b[39mif\u001b[39;00m datetimelike \u001b[39mand\u001b[39;00m mask \u001b[39mis\u001b[39;00m \u001b[39mNone\u001b[39;00m:\n\u001b[0;32m    419\u001b[0m     mask \u001b[39m=\u001b[39m isna(values)\n\u001b[1;32m--> 421\u001b[0m result \u001b[39m=\u001b[39m func(values, axis\u001b[39m=\u001b[39;49maxis, skipna\u001b[39m=\u001b[39;49mskipna, mask\u001b[39m=\u001b[39;49mmask, \u001b[39m*\u001b[39;49m\u001b[39m*\u001b[39;49mkwargs)\n\u001b[0;32m    423\u001b[0m \u001b[39mif\u001b[39;00m datetimelike:\n\u001b[0;32m    424\u001b[0m     result \u001b[39m=\u001b[39m _wrap_results(result, orig_values\u001b[39m.\u001b[39mdtype, fill_value\u001b[39m=\u001b[39miNaT)\n",
            "File \u001b[1;32mc:\\Users\\Andres\\AppData\\Local\\Programs\\Python\\Python311\\Lib\\site-packages\\pandas\\core\\nanops.py:727\u001b[0m, in \u001b[0;36mnanmean\u001b[1;34m(values, axis, skipna, mask)\u001b[0m\n\u001b[0;32m    724\u001b[0m     dtype_count \u001b[39m=\u001b[39m dtype\n\u001b[0;32m    726\u001b[0m count \u001b[39m=\u001b[39m _get_counts(values\u001b[39m.\u001b[39mshape, mask, axis, dtype\u001b[39m=\u001b[39mdtype_count)\n\u001b[1;32m--> 727\u001b[0m the_sum \u001b[39m=\u001b[39m _ensure_numeric(values\u001b[39m.\u001b[39;49msum(axis, dtype\u001b[39m=\u001b[39;49mdtype_sum))\n\u001b[0;32m    729\u001b[0m \u001b[39mif\u001b[39;00m axis \u001b[39mis\u001b[39;00m \u001b[39mnot\u001b[39;00m \u001b[39mNone\u001b[39;00m \u001b[39mand\u001b[39;00m \u001b[39mgetattr\u001b[39m(the_sum, \u001b[39m\"\u001b[39m\u001b[39mndim\u001b[39m\u001b[39m\"\u001b[39m, \u001b[39mFalse\u001b[39;00m):\n\u001b[0;32m    730\u001b[0m     count \u001b[39m=\u001b[39m cast(np\u001b[39m.\u001b[39mndarray, count)\n",
            "File \u001b[1;32mc:\\Users\\Andres\\AppData\\Local\\Programs\\Python\\Python311\\Lib\\site-packages\\pandas\\core\\nanops.py:1699\u001b[0m, in \u001b[0;36m_ensure_numeric\u001b[1;34m(x)\u001b[0m\n\u001b[0;32m   1696\u001b[0m             x \u001b[39m=\u001b[39m \u001b[39mcomplex\u001b[39m(x)\n\u001b[0;32m   1697\u001b[0m         \u001b[39mexcept\u001b[39;00m \u001b[39mValueError\u001b[39;00m \u001b[39mas\u001b[39;00m err:\n\u001b[0;32m   1698\u001b[0m             \u001b[39m# e.g. \"foo\"\u001b[39;00m\n\u001b[1;32m-> 1699\u001b[0m             \u001b[39mraise\u001b[39;00m \u001b[39mTypeError\u001b[39;00m(\u001b[39mf\u001b[39m\u001b[39m\"\u001b[39m\u001b[39mCould not convert \u001b[39m\u001b[39m{\u001b[39;00mx\u001b[39m}\u001b[39;00m\u001b[39m to numeric\u001b[39m\u001b[39m\"\u001b[39m) \u001b[39mfrom\u001b[39;00m \u001b[39merr\u001b[39;00m\n\u001b[0;32m   1700\u001b[0m \u001b[39mreturn\u001b[39;00m x\n",
            "\u001b[1;31mTypeError\u001b[0m: Could not convert sedanhatchbacksedansedanwagonwagonwagonwagon to numeric"
          ]
        }
      ],
      "source": [
        "# grouping results\n",
        "df_group_one = df_group_one.groupby(['drive-wheels'],as_index=False).mean()\n",
        "df_group_one"
      ]
    },
    {
      "cell_type": "markdown",
      "metadata": {},
      "source": [
        "<p>From our data, it seems rear-wheel drive vehicles are, on average, the most expensive, while 4-wheel and front-wheel are approximately the same in price.</p>\n",
        "\n",
        "<p>You can also group by multiple variables. For example, let's group by both 'drive-wheels' and 'body-style'. This groups the dataframe by the unique combination of 'drive-wheels' and 'body-style'. We can store the results in the variable 'grouped_test1'.</p>\n"
      ]
    },
    {
      "cell_type": "code",
      "execution_count": 34,
      "metadata": {},
      "outputs": [
        {
          "data": {
            "text/html": [
              "<div>\n",
              "<style scoped>\n",
              "    .dataframe tbody tr th:only-of-type {\n",
              "        vertical-align: middle;\n",
              "    }\n",
              "\n",
              "    .dataframe tbody tr th {\n",
              "        vertical-align: top;\n",
              "    }\n",
              "\n",
              "    .dataframe thead th {\n",
              "        text-align: right;\n",
              "    }\n",
              "</style>\n",
              "<table border=\"1\" class=\"dataframe\">\n",
              "  <thead>\n",
              "    <tr style=\"text-align: right;\">\n",
              "      <th></th>\n",
              "      <th>drive-wheels</th>\n",
              "      <th>body-style</th>\n",
              "      <th>price</th>\n",
              "    </tr>\n",
              "  </thead>\n",
              "  <tbody>\n",
              "    <tr>\n",
              "      <th>0</th>\n",
              "      <td>4wd</td>\n",
              "      <td>hatchback</td>\n",
              "      <td>7603.000000</td>\n",
              "    </tr>\n",
              "    <tr>\n",
              "      <th>1</th>\n",
              "      <td>4wd</td>\n",
              "      <td>sedan</td>\n",
              "      <td>12647.333333</td>\n",
              "    </tr>\n",
              "    <tr>\n",
              "      <th>2</th>\n",
              "      <td>4wd</td>\n",
              "      <td>wagon</td>\n",
              "      <td>9095.750000</td>\n",
              "    </tr>\n",
              "    <tr>\n",
              "      <th>3</th>\n",
              "      <td>fwd</td>\n",
              "      <td>convertible</td>\n",
              "      <td>11595.000000</td>\n",
              "    </tr>\n",
              "    <tr>\n",
              "      <th>4</th>\n",
              "      <td>fwd</td>\n",
              "      <td>hardtop</td>\n",
              "      <td>8249.000000</td>\n",
              "    </tr>\n",
              "    <tr>\n",
              "      <th>5</th>\n",
              "      <td>fwd</td>\n",
              "      <td>hatchback</td>\n",
              "      <td>8396.387755</td>\n",
              "    </tr>\n",
              "    <tr>\n",
              "      <th>6</th>\n",
              "      <td>fwd</td>\n",
              "      <td>sedan</td>\n",
              "      <td>9811.800000</td>\n",
              "    </tr>\n",
              "    <tr>\n",
              "      <th>7</th>\n",
              "      <td>fwd</td>\n",
              "      <td>wagon</td>\n",
              "      <td>9997.333333</td>\n",
              "    </tr>\n",
              "    <tr>\n",
              "      <th>8</th>\n",
              "      <td>rwd</td>\n",
              "      <td>convertible</td>\n",
              "      <td>23949.600000</td>\n",
              "    </tr>\n",
              "    <tr>\n",
              "      <th>9</th>\n",
              "      <td>rwd</td>\n",
              "      <td>hardtop</td>\n",
              "      <td>24202.714286</td>\n",
              "    </tr>\n",
              "    <tr>\n",
              "      <th>10</th>\n",
              "      <td>rwd</td>\n",
              "      <td>hatchback</td>\n",
              "      <td>14337.777778</td>\n",
              "    </tr>\n",
              "    <tr>\n",
              "      <th>11</th>\n",
              "      <td>rwd</td>\n",
              "      <td>sedan</td>\n",
              "      <td>21711.833333</td>\n",
              "    </tr>\n",
              "    <tr>\n",
              "      <th>12</th>\n",
              "      <td>rwd</td>\n",
              "      <td>wagon</td>\n",
              "      <td>16994.222222</td>\n",
              "    </tr>\n",
              "  </tbody>\n",
              "</table>\n",
              "</div>"
            ],
            "text/plain": [
              "   drive-wheels   body-style         price\n",
              "0           4wd    hatchback   7603.000000\n",
              "1           4wd        sedan  12647.333333\n",
              "2           4wd        wagon   9095.750000\n",
              "3           fwd  convertible  11595.000000\n",
              "4           fwd      hardtop   8249.000000\n",
              "5           fwd    hatchback   8396.387755\n",
              "6           fwd        sedan   9811.800000\n",
              "7           fwd        wagon   9997.333333\n",
              "8           rwd  convertible  23949.600000\n",
              "9           rwd      hardtop  24202.714286\n",
              "10          rwd    hatchback  14337.777778\n",
              "11          rwd        sedan  21711.833333\n",
              "12          rwd        wagon  16994.222222"
            ]
          },
          "execution_count": 34,
          "metadata": {},
          "output_type": "execute_result"
        }
      ],
      "source": [
        "# grouping results\n",
        "df_gptest = df[['drive-wheels','body-style','price']]\n",
        "grouped_test1 = df_gptest.groupby(['drive-wheels','body-style'],as_index=False).mean()\n",
        "grouped_test1"
      ]
    },
    {
      "cell_type": "markdown",
      "metadata": {},
      "source": [
        "<p>This grouped data is much easier to visualize when it is made into a pivot table. A pivot table is like an Excel spreadsheet, with one variable along the column and another along the row. We can convert the dataframe to a pivot table using the method \"pivot\" to create a pivot table from the groups.</p>\n",
        "\n",
        "<p>In this case, we will leave the drive-wheels variable as the rows of the table, and pivot body-style to become the columns of the table:</p>\n"
      ]
    },
    {
      "cell_type": "code",
      "execution_count": 35,
      "metadata": {},
      "outputs": [
        {
          "data": {
            "text/html": [
              "<div>\n",
              "<style scoped>\n",
              "    .dataframe tbody tr th:only-of-type {\n",
              "        vertical-align: middle;\n",
              "    }\n",
              "\n",
              "    .dataframe tbody tr th {\n",
              "        vertical-align: top;\n",
              "    }\n",
              "\n",
              "    .dataframe thead tr th {\n",
              "        text-align: left;\n",
              "    }\n",
              "\n",
              "    .dataframe thead tr:last-of-type th {\n",
              "        text-align: right;\n",
              "    }\n",
              "</style>\n",
              "<table border=\"1\" class=\"dataframe\">\n",
              "  <thead>\n",
              "    <tr>\n",
              "      <th></th>\n",
              "      <th colspan=\"5\" halign=\"left\">price</th>\n",
              "    </tr>\n",
              "    <tr>\n",
              "      <th>body-style</th>\n",
              "      <th>convertible</th>\n",
              "      <th>hardtop</th>\n",
              "      <th>hatchback</th>\n",
              "      <th>sedan</th>\n",
              "      <th>wagon</th>\n",
              "    </tr>\n",
              "    <tr>\n",
              "      <th>drive-wheels</th>\n",
              "      <th></th>\n",
              "      <th></th>\n",
              "      <th></th>\n",
              "      <th></th>\n",
              "      <th></th>\n",
              "    </tr>\n",
              "  </thead>\n",
              "  <tbody>\n",
              "    <tr>\n",
              "      <th>4wd</th>\n",
              "      <td>NaN</td>\n",
              "      <td>NaN</td>\n",
              "      <td>7603.000000</td>\n",
              "      <td>12647.333333</td>\n",
              "      <td>9095.750000</td>\n",
              "    </tr>\n",
              "    <tr>\n",
              "      <th>fwd</th>\n",
              "      <td>11595.0</td>\n",
              "      <td>8249.000000</td>\n",
              "      <td>8396.387755</td>\n",
              "      <td>9811.800000</td>\n",
              "      <td>9997.333333</td>\n",
              "    </tr>\n",
              "    <tr>\n",
              "      <th>rwd</th>\n",
              "      <td>23949.6</td>\n",
              "      <td>24202.714286</td>\n",
              "      <td>14337.777778</td>\n",
              "      <td>21711.833333</td>\n",
              "      <td>16994.222222</td>\n",
              "    </tr>\n",
              "  </tbody>\n",
              "</table>\n",
              "</div>"
            ],
            "text/plain": [
              "                   price                                            \\\n",
              "body-style   convertible       hardtop     hatchback         sedan   \n",
              "drive-wheels                                                         \n",
              "4wd                  NaN           NaN   7603.000000  12647.333333   \n",
              "fwd              11595.0   8249.000000   8396.387755   9811.800000   \n",
              "rwd              23949.6  24202.714286  14337.777778  21711.833333   \n",
              "\n",
              "                            \n",
              "body-style           wagon  \n",
              "drive-wheels                \n",
              "4wd            9095.750000  \n",
              "fwd            9997.333333  \n",
              "rwd           16994.222222  "
            ]
          },
          "execution_count": 35,
          "metadata": {},
          "output_type": "execute_result"
        }
      ],
      "source": [
        "grouped_pivot = grouped_test1.pivot(index='drive-wheels',columns='body-style')\n",
        "grouped_pivot"
      ]
    },
    {
      "cell_type": "markdown",
      "metadata": {},
      "source": [
        "<p>Often, we won't have data for some of the pivot cells. We can fill these missing cells with the value 0, but any other value could potentially be used as well. It should be mentioned that missing data is quite a complex subject and is an entire course on its own.</p>\n"
      ]
    },
    {
      "cell_type": "code",
      "execution_count": 36,
      "metadata": {},
      "outputs": [
        {
          "data": {
            "text/html": [
              "<div>\n",
              "<style scoped>\n",
              "    .dataframe tbody tr th:only-of-type {\n",
              "        vertical-align: middle;\n",
              "    }\n",
              "\n",
              "    .dataframe tbody tr th {\n",
              "        vertical-align: top;\n",
              "    }\n",
              "\n",
              "    .dataframe thead tr th {\n",
              "        text-align: left;\n",
              "    }\n",
              "\n",
              "    .dataframe thead tr:last-of-type th {\n",
              "        text-align: right;\n",
              "    }\n",
              "</style>\n",
              "<table border=\"1\" class=\"dataframe\">\n",
              "  <thead>\n",
              "    <tr>\n",
              "      <th></th>\n",
              "      <th colspan=\"5\" halign=\"left\">price</th>\n",
              "    </tr>\n",
              "    <tr>\n",
              "      <th>body-style</th>\n",
              "      <th>convertible</th>\n",
              "      <th>hardtop</th>\n",
              "      <th>hatchback</th>\n",
              "      <th>sedan</th>\n",
              "      <th>wagon</th>\n",
              "    </tr>\n",
              "    <tr>\n",
              "      <th>drive-wheels</th>\n",
              "      <th></th>\n",
              "      <th></th>\n",
              "      <th></th>\n",
              "      <th></th>\n",
              "      <th></th>\n",
              "    </tr>\n",
              "  </thead>\n",
              "  <tbody>\n",
              "    <tr>\n",
              "      <th>4wd</th>\n",
              "      <td>0.0</td>\n",
              "      <td>0.000000</td>\n",
              "      <td>7603.000000</td>\n",
              "      <td>12647.333333</td>\n",
              "      <td>9095.750000</td>\n",
              "    </tr>\n",
              "    <tr>\n",
              "      <th>fwd</th>\n",
              "      <td>11595.0</td>\n",
              "      <td>8249.000000</td>\n",
              "      <td>8396.387755</td>\n",
              "      <td>9811.800000</td>\n",
              "      <td>9997.333333</td>\n",
              "    </tr>\n",
              "    <tr>\n",
              "      <th>rwd</th>\n",
              "      <td>23949.6</td>\n",
              "      <td>24202.714286</td>\n",
              "      <td>14337.777778</td>\n",
              "      <td>21711.833333</td>\n",
              "      <td>16994.222222</td>\n",
              "    </tr>\n",
              "  </tbody>\n",
              "</table>\n",
              "</div>"
            ],
            "text/plain": [
              "                   price                                            \\\n",
              "body-style   convertible       hardtop     hatchback         sedan   \n",
              "drive-wheels                                                         \n",
              "4wd                  0.0      0.000000   7603.000000  12647.333333   \n",
              "fwd              11595.0   8249.000000   8396.387755   9811.800000   \n",
              "rwd              23949.6  24202.714286  14337.777778  21711.833333   \n",
              "\n",
              "                            \n",
              "body-style           wagon  \n",
              "drive-wheels                \n",
              "4wd            9095.750000  \n",
              "fwd            9997.333333  \n",
              "rwd           16994.222222  "
            ]
          },
          "execution_count": 36,
          "metadata": {},
          "output_type": "execute_result"
        }
      ],
      "source": [
        "grouped_pivot = grouped_pivot.fillna(0) #fill missing values with 0\n",
        "grouped_pivot"
      ]
    },
    {
      "cell_type": "markdown",
      "metadata": {},
      "source": [
        "<div class=\"alert alert-danger alertdanger\" style=\"margin-top: 20px\">\n",
        "<h1>Question 4:</h1>\n",
        "\n",
        "<p>Use the \"groupby\" function to find the average \"price\" of each car based on \"body-style\".</p>\n",
        "</div>\n"
      ]
    },
    {
      "cell_type": "code",
      "execution_count": 37,
      "metadata": {},
      "outputs": [
        {
          "data": {
            "text/html": [
              "<div>\n",
              "<style scoped>\n",
              "    .dataframe tbody tr th:only-of-type {\n",
              "        vertical-align: middle;\n",
              "    }\n",
              "\n",
              "    .dataframe tbody tr th {\n",
              "        vertical-align: top;\n",
              "    }\n",
              "\n",
              "    .dataframe thead th {\n",
              "        text-align: right;\n",
              "    }\n",
              "</style>\n",
              "<table border=\"1\" class=\"dataframe\">\n",
              "  <thead>\n",
              "    <tr style=\"text-align: right;\">\n",
              "      <th></th>\n",
              "      <th>body-style</th>\n",
              "      <th>price</th>\n",
              "    </tr>\n",
              "  </thead>\n",
              "  <tbody>\n",
              "    <tr>\n",
              "      <th>0</th>\n",
              "      <td>convertible</td>\n",
              "      <td>21890.500000</td>\n",
              "    </tr>\n",
              "    <tr>\n",
              "      <th>1</th>\n",
              "      <td>hardtop</td>\n",
              "      <td>22208.500000</td>\n",
              "    </tr>\n",
              "    <tr>\n",
              "      <th>2</th>\n",
              "      <td>hatchback</td>\n",
              "      <td>9957.441176</td>\n",
              "    </tr>\n",
              "    <tr>\n",
              "      <th>3</th>\n",
              "      <td>sedan</td>\n",
              "      <td>14459.755319</td>\n",
              "    </tr>\n",
              "    <tr>\n",
              "      <th>4</th>\n",
              "      <td>wagon</td>\n",
              "      <td>12371.960000</td>\n",
              "    </tr>\n",
              "  </tbody>\n",
              "</table>\n",
              "</div>"
            ],
            "text/plain": [
              "    body-style         price\n",
              "0  convertible  21890.500000\n",
              "1      hardtop  22208.500000\n",
              "2    hatchback   9957.441176\n",
              "3        sedan  14459.755319\n",
              "4        wagon  12371.960000"
            ]
          },
          "execution_count": 37,
          "metadata": {},
          "output_type": "execute_result"
        }
      ],
      "source": [
        "# Write your code below and press Shift+Enter to execute \n",
        "# grouping results\n",
        "\n",
        "data = df[['body-style','price']]\n",
        "pricebybody = data.groupby(['body-style'],as_index=False).mean()\n",
        "pricebybody"
      ]
    },
    {
      "cell_type": "markdown",
      "metadata": {},
      "source": [
        "<details><summary>Click here for the solution</summary>\n",
        "\n",
        "```python\n",
        "# grouping results\n",
        "df_gptest2 = df[['body-style','price']]\n",
        "grouped_test_bodystyle = df_gptest2.groupby(['body-style'],as_index= False).mean()\n",
        "grouped_test_bodystyle\n",
        "\n",
        "```\n",
        "\n",
        "</details>\n"
      ]
    },
    {
      "cell_type": "markdown",
      "metadata": {},
      "source": [
        "If you did not import \"pyplot\", let's do it again.\n"
      ]
    },
    {
      "cell_type": "code",
      "execution_count": 38,
      "metadata": {},
      "outputs": [],
      "source": [
        "import matplotlib.pyplot as plt\n",
        "%matplotlib inline "
      ]
    },
    {
      "cell_type": "markdown",
      "metadata": {},
      "source": [
        "<h4>Variables: Drive Wheels and Body Style vs. Price</h4>\n"
      ]
    },
    {
      "cell_type": "markdown",
      "metadata": {},
      "source": [
        "Let's use a heat map to visualize the relationship between Body Style vs Price.\n"
      ]
    },
    {
      "cell_type": "code",
      "execution_count": 39,
      "metadata": {},
      "outputs": [
        {
          "data": {
            "image/png": "[encoded data removed]",
            "text/plain": [
              "<Figure size 640x480 with 2 Axes>"
            ]
          },
          "metadata": {},
          "output_type": "display_data"
        }
      ],
      "source": [
        "#use the grouped results\n",
        "plt.pcolor(grouped_pivot, cmap='RdBu')\n",
        "plt.colorbar()\n",
        "plt.show()"
      ]
    },
    {
      "cell_type": "markdown",
      "metadata": {},
      "source": [
        "<p>The heatmap plots the target variable (price) proportional to colour with respect to the variables 'drive-wheel' and 'body-style' on the vertical and horizontal axis, respectively. This allows us to visualize how the price is related to 'drive-wheel' and 'body-style'.</p>\n",
        "\n",
        "<p>The default labels convey no useful information to us. Let's change that:</p>\n"
      ]
    },
    {
      "cell_type": "code",
      "execution_count": 40,
      "metadata": {},
      "outputs": [
        {
          "data": {
            "image/png": "[encoded data removed]",
            "text/plain": [
              "<Figure size 640x480 with 2 Axes>"
            ]
          },
          "metadata": {},
          "output_type": "display_data"
        }
      ],
      "source": [
        "fig, ax = plt.subplots()\n",
        "im = ax.pcolor(grouped_pivot, cmap='RdBu')\n",
        "\n",
        "#label names\n",
        "row_labels = grouped_pivot.columns.levels[1]\n",
        "col_labels = grouped_pivot.index\n",
        "\n",
        "#move ticks and labels to the center\n",
        "ax.set_xticks(np.arange(grouped_pivot.shape[1]) + 0.5, minor=False)\n",
        "ax.set_yticks(np.arange(grouped_pivot.shape[0]) + 0.5, minor=False)\n",
        "\n",
        "#insert labels\n",
        "ax.set_xticklabels(row_labels, minor=False)\n",
        "ax.set_yticklabels(col_labels, minor=False)\n",
        "\n",
        "#rotate label if too long\n",
        "plt.xticks(rotation=90)\n",
        "\n",
        "fig.colorbar(im)\n",
        "plt.show()"
      ]
    },
    {
      "cell_type": "markdown",
      "metadata": {},
      "source": [
        "<p>Visualization is very important in data science, and Python visualization packages provide great freedom. We will go more in-depth in a separate Python visualizations course.</p>\n",
        "\n",
        "<p>The main question we want to answer in this module is, \"What are the main characteristics which have the most impact on the car price?\".</p>\n",
        "\n",
        "<p>To get a better measure of the important characteristics, we look at the correlation of these variables with the car price. In other words: how is the car price dependent on this variable?</p>\n"
      ]
    },
    {
      "cell_type": "markdown",
      "metadata": {},
      "source": [
        "<h2 id=\"correlation_causation\">5. Correlation and Causation</h2>\n"
      ]
    },
    {
      "cell_type": "markdown",
      "metadata": {},
      "source": [
        "<p><b>Correlation</b>: a measure of the extent of interdependence between variables.</p>\n",
        "\n",
        "<p><b>Causation</b>: the relationship between cause and effect between two variables.</p>\n",
        "\n",
        "<p>It is important to know the difference between these two. Correlation does not imply causation. Determining correlation is much simpler  the determining causation as causation may require independent experimentation.</p>\n"
      ]
    },
    {
      "cell_type": "markdown",
      "metadata": {},
      "source": [
        "<p><b>Pearson Correlation</b></p>\n",
        "<p>The Pearson Correlation measures the linear dependence between two variables X and Y.</p>\n",
        "<p>The resulting coefficient is a value between -1 and 1 inclusive, where:</p>\n",
        "<ul>\n",
        "    <li><b>1</b>: Perfect positive linear correlation.</li>\n",
        "    <li><b>0</b>: No linear correlation, the two variables most likely do not affect each other.</li>\n",
        "    <li><b>-1</b>: Perfect negative linear correlation.</li>\n",
        "</ul>\n"
      ]
    },
    {
      "cell_type": "markdown",
      "metadata": {},
      "source": [
        "<p>Pearson Correlation is the default method of the function \"corr\". Like before, we can calculate the Pearson Correlation of the of the 'int64' or 'float64'  variables.</p>\n"
      ]
    },
    {
      "cell_type": "code",
      "execution_count": null,
      "metadata": {},
      "outputs": [],
      "source": [
        "df.corr()"
      ]
    },
    {
      "cell_type": "markdown",
      "metadata": {},
      "source": [
        "Sometimes we would like to know the significant of the correlation estimate.\n"
      ]
    },
    {
      "cell_type": "markdown",
      "metadata": {},
      "source": [
        "<b>P-value</b>\n",
        "\n",
        "<p>What is this P-value? The P-value is the probability value that the correlation between these two variables is statistically significant. Normally, we choose a significance level of 0.05, which means that we are 95% confident that the correlation between the variables is significant.</p>\n",
        "\n",
        "By convention, when the\n",
        "\n",
        "<ul>\n",
        "    <li>p-value is $<$ 0.001: we say there is strong evidence that the correlation is significant.</li>\n",
        "    <li>the p-value is $<$ 0.05: there is moderate evidence that the correlation is significant.</li>\n",
        "    <li>the p-value is $<$ 0.1: there is weak evidence that the correlation is significant.</li>\n",
        "    <li>the p-value is $>$ 0.1: there is no evidence that the correlation is significant.</li>\n",
        "</ul>\n"
      ]
    },
    {
      "cell_type": "markdown",
      "metadata": {},
      "source": [
        "We can obtain this information using  \"stats\" module in the \"scipy\"  library.\n"
      ]
    },
    {
      "cell_type": "code",
      "execution_count": 42,
      "metadata": {},
      "outputs": [
        {
          "name": "stdout",
          "output_type": "stream",
          "text": [
            "Collecting scipy\n",
            "  Obtaining dependency information for scipy from https://files.pythonhosted.org/packages/06/15/e73734f9170b66c6a84a0bd7e03586e87e77404e2eb8e34749fc49fa43f7/scipy-1.11.2-cp311-cp311-win_amd64.whl.metadata\n",
            "  Downloading scipy-1.11.2-cp311-cp311-win_amd64.whl.metadata (59 kB)\n",
            "     ---------------------------------------- 0.0/59.1 kB ? eta -:--:--\n",
            "     ------ --------------------------------- 10.2/59.1 kB ? eta -:--:--\n",
            "     -------------------------- ----------- 41.0/59.1 kB 960.0 kB/s eta 0:00:01\n",
            "     -------------------------- ----------- 41.0/59.1 kB 960.0 kB/s eta 0:00:01\n",
            "     -------------------------- ----------- 41.0/59.1 kB 960.0 kB/s eta 0:00:01\n",
            "     -------------------------------------- 59.1/59.1 kB 259.9 kB/s eta 0:00:00\n",
            "Requirement already satisfied: numpy<1.28.0,>=1.21.6 in c:\\users\\andres\\appdata\\local\\programs\\python\\python311\\lib\\site-packages (from scipy) (1.25.2)\n",
            "Downloading scipy-1.11.2-cp311-cp311-win_amd64.whl (44.0 MB)\n",
            "   ---------------------------------------- 0.0/44.0 MB ? eta -:--:--\n",
            "   ---------------------------------------- 0.0/44.0 MB ? eta -:--:--\n",
            "   ---------------------------------------- 0.0/44.0 MB ? eta -:--:--\n",
            "   ---------------------------------------- 0.0/44.0 MB ? eta -:--:--\n",
            "   ---------------------------------------- 0.0/44.0 MB ? eta -:--:--\n",
            "   ---------------------------------------- 0.0/44.0 MB ? eta -:--:--\n",
            "   ---------------------------------------- 0.0/44.0 MB ? eta -:--:--\n",
            "   ---------------------------------------- 0.0/44.0 MB ? eta -:--:--\n",
            "   ---------------------------------------- 0.1/44.0 MB ? eta -:--:--\n",
            "   ---------------------------------------- 0.1/44.0 MB 787.7 kB/s eta 0:00:56\n",
            "   ---------------------------------------- 0.1/44.0 MB 655.4 kB/s eta 0:01:07\n",
            "   ---------------------------------------- 0.1/44.0 MB 599.1 kB/s eta 0:01:14\n",
            "   ---------------------------------------- 0.2/44.0 MB 654.6 kB/s eta 0:01:07\n",
            "   ---------------------------------------- 0.2/44.0 MB 692.9 kB/s eta 0:01:04\n",
            "   ---------------------------------------- 0.2/44.0 MB 687.0 kB/s eta 0:01:04\n",
            "   ---------------------------------------- 0.3/44.0 MB 655.4 kB/s eta 0:01:07\n",
            "   ---------------------------------------- 0.3/44.0 MB 655.2 kB/s eta 0:01:07\n",
            "   ---------------------------------------- 0.3/44.0 MB 678.1 kB/s eta 0:01:05\n",
            "   ---------------------------------------- 0.4/44.0 MB 696.3 kB/s eta 0:01:03\n",
            "   ---------------------------------------- 0.4/44.0 MB 673.0 kB/s eta 0:01:05\n",
            "   ---------------------------------------- 0.4/44.0 MB 690.9 kB/s eta 0:01:04\n",
            "   ---------------------------------------- 0.5/44.0 MB 686.8 kB/s eta 0:01:04\n",
            "   ---------------------------------------- 0.5/44.0 MB 701.0 kB/s eta 0:01:03\n",
            "   ---------------------------------------- 0.5/44.0 MB 701.0 kB/s eta 0:01:03\n",
            "   ---------------------------------------- 0.5/44.0 MB 641.7 kB/s eta 0:01:08\n",
            "   ---------------------------------------- 0.5/44.0 MB 630.7 kB/s eta 0:01:09\n",
            "   ---------------------------------------- 0.5/44.0 MB 619.9 kB/s eta 0:01:11\n",
            "    --------------------------------------- 0.6/44.0 MB 633.1 kB/s eta 0:01:09\n",
            "    --------------------------------------- 0.6/44.0 MB 634.0 kB/s eta 0:01:09\n",
            "    --------------------------------------- 0.6/44.0 MB 614.4 kB/s eta 0:01:11\n",
            "    --------------------------------------- 0.6/44.0 MB 614.4 kB/s eta 0:01:11\n",
            "    --------------------------------------- 0.6/44.0 MB 614.4 kB/s eta 0:01:11\n",
            "    --------------------------------------- 0.7/44.0 MB 558.1 kB/s eta 0:01:18\n",
            "    --------------------------------------- 0.7/44.0 MB 553.3 kB/s eta 0:01:19\n",
            "    --------------------------------------- 0.7/44.0 MB 550.0 kB/s eta 0:01:19\n",
            "    --------------------------------------- 0.7/44.0 MB 545.9 kB/s eta 0:01:20\n",
            "    --------------------------------------- 0.8/44.0 MB 571.4 kB/s eta 0:01:16\n",
            "    --------------------------------------- 0.8/44.0 MB 571.4 kB/s eta 0:01:16\n",
            "    --------------------------------------- 0.8/44.0 MB 571.4 kB/s eta 0:01:16\n",
            "    --------------------------------------- 0.8/44.0 MB 538.2 kB/s eta 0:01:21\n",
            "    --------------------------------------- 0.8/44.0 MB 541.8 kB/s eta 0:01:20\n",
            "    --------------------------------------- 0.9/44.0 MB 549.4 kB/s eta 0:01:19\n",
            "    --------------------------------------- 0.9/44.0 MB 549.4 kB/s eta 0:01:19\n",
            "    --------------------------------------- 0.9/44.0 MB 527.8 kB/s eta 0:01:22\n",
            "    --------------------------------------- 0.9/44.0 MB 542.1 kB/s eta 0:01:20\n",
            "    --------------------------------------- 1.0/44.0 MB 533.5 kB/s eta 0:01:21\n",
            "    --------------------------------------- 1.0/44.0 MB 536.6 kB/s eta 0:01:21\n",
            "    --------------------------------------- 1.0/44.0 MB 533.1 kB/s eta 0:01:21\n",
            "    --------------------------------------- 1.0/44.0 MB 537.2 kB/s eta 0:01:20\n",
            "    --------------------------------------- 1.1/44.0 MB 544.2 kB/s eta 0:01:19\n",
            "   - -------------------------------------- 1.1/44.0 MB 548.6 kB/s eta 0:01:19\n",
            "   - -------------------------------------- 1.1/44.0 MB 555.3 kB/s eta 0:01:18\n",
            "   - -------------------------------------- 1.2/44.0 MB 561.8 kB/s eta 0:01:17\n",
            "   - -------------------------------------- 1.2/44.0 MB 559.0 kB/s eta 0:01:17\n",
            "   - -------------------------------------- 1.2/44.0 MB 561.6 kB/s eta 0:01:17\n",
            "   - -------------------------------------- 1.3/44.0 MB 568.4 kB/s eta 0:01:16\n",
            "   - -------------------------------------- 1.3/44.0 MB 574.6 kB/s eta 0:01:15\n",
            "   - -------------------------------------- 1.4/44.0 MB 580.6 kB/s eta 0:01:14\n",
            "   - -------------------------------------- 1.4/44.0 MB 577.3 kB/s eta 0:01:14\n",
            "   - -------------------------------------- 1.4/44.0 MB 578.8 kB/s eta 0:01:14\n",
            "   - -------------------------------------- 1.5/44.0 MB 584.8 kB/s eta 0:01:13\n",
            "   - -------------------------------------- 1.5/44.0 MB 590.1 kB/s eta 0:01:12\n",
            "   - -------------------------------------- 1.5/44.0 MB 599.3 kB/s eta 0:01:11\n",
            "   - -------------------------------------- 1.6/44.0 MB 608.4 kB/s eta 0:01:10\n",
            "   - -------------------------------------- 1.6/44.0 MB 612.4 kB/s eta 0:01:10\n",
            "   - -------------------------------------- 1.6/44.0 MB 612.4 kB/s eta 0:01:10\n",
            "   - -------------------------------------- 1.6/44.0 MB 588.3 kB/s eta 0:01:12\n",
            "   - -------------------------------------- 1.7/44.0 MB 589.4 kB/s eta 0:01:12\n",
            "   - -------------------------------------- 1.7/44.0 MB 597.5 kB/s eta 0:01:11\n",
            "   - -------------------------------------- 1.7/44.0 MB 601.9 kB/s eta 0:01:11\n",
            "   - -------------------------------------- 1.8/44.0 MB 606.1 kB/s eta 0:01:10\n",
            "   - -------------------------------------- 1.8/44.0 MB 600.1 kB/s eta 0:01:11\n",
            "   - -------------------------------------- 1.8/44.0 MB 601.0 kB/s eta 0:01:11\n",
            "   - -------------------------------------- 1.9/44.0 MB 598.8 kB/s eta 0:01:11\n",
            "   - -------------------------------------- 1.9/44.0 MB 602.4 kB/s eta 0:01:10\n",
            "   - -------------------------------------- 1.9/44.0 MB 606.7 kB/s eta 0:01:10\n",
            "   - -------------------------------------- 1.9/44.0 MB 598.0 kB/s eta 0:01:11\n",
            "   - -------------------------------------- 2.0/44.0 MB 598.8 kB/s eta 0:01:11\n",
            "   - -------------------------------------- 2.0/44.0 MB 602.7 kB/s eta 0:01:10\n",
            "   - -------------------------------------- 2.0/44.0 MB 606.3 kB/s eta 0:01:10\n",
            "   - -------------------------------------- 2.1/44.0 MB 607.0 kB/s eta 0:01:10\n",
            "   - -------------------------------------- 2.1/44.0 MB 607.6 kB/s eta 0:01:09\n",
            "   - -------------------------------------- 2.1/44.0 MB 605.6 kB/s eta 0:01:10\n",
            "   - -------------------------------------- 2.2/44.0 MB 609.1 kB/s eta 0:01:09\n",
            "   -- ------------------------------------- 2.2/44.0 MB 609.7 kB/s eta 0:01:09\n",
            "   -- ------------------------------------- 2.2/44.0 MB 610.3 kB/s eta 0:01:09\n",
            "   -- ------------------------------------- 2.3/44.0 MB 613.6 kB/s eta 0:01:08\n",
            "   -- ------------------------------------- 2.3/44.0 MB 619.8 kB/s eta 0:01:08\n",
            "   -- ------------------------------------- 2.3/44.0 MB 617.5 kB/s eta 0:01:08\n",
            "   -- ------------------------------------- 2.4/44.0 MB 620.6 kB/s eta 0:01:07\n",
            "   -- ------------------------------------- 2.4/44.0 MB 628.9 kB/s eta 0:01:07\n",
            "   -- ------------------------------------- 2.5/44.0 MB 634.5 kB/s eta 0:01:06\n",
            "   -- ------------------------------------- 2.5/44.0 MB 629.5 kB/s eta 0:01:06\n",
            "   -- ------------------------------------- 2.5/44.0 MB 629.8 kB/s eta 0:01:06\n",
            "   -- ------------------------------------- 2.6/44.0 MB 632.5 kB/s eta 0:01:06\n",
            "   -- ------------------------------------- 2.6/44.0 MB 632.8 kB/s eta 0:01:06\n",
            "   -- ------------------------------------- 2.6/44.0 MB 633.0 kB/s eta 0:01:06\n",
            "   -- ------------------------------------- 2.7/44.0 MB 635.7 kB/s eta 0:01:05\n",
            "   -- ------------------------------------- 2.7/44.0 MB 635.9 kB/s eta 0:01:05\n",
            "   -- ------------------------------------- 2.8/44.0 MB 641.0 kB/s eta 0:01:05\n",
            "   -- ------------------------------------- 2.8/44.0 MB 643.5 kB/s eta 0:01:04\n",
            "   -- ------------------------------------- 2.8/44.0 MB 648.3 kB/s eta 0:01:04\n",
            "   -- ------------------------------------- 2.9/44.0 MB 650.6 kB/s eta 0:01:04\n",
            "   -- ------------------------------------- 2.9/44.0 MB 650.7 kB/s eta 0:01:04\n",
            "   -- ------------------------------------- 2.9/44.0 MB 650.8 kB/s eta 0:01:04\n",
            "   -- ------------------------------------- 3.0/44.0 MB 650.9 kB/s eta 0:01:03\n",
            "   -- ------------------------------------- 3.0/44.0 MB 655.4 kB/s eta 0:01:03\n",
            "   -- ------------------------------------- 3.0/44.0 MB 655.4 kB/s eta 0:01:03\n",
            "   -- ------------------------------------- 3.0/44.0 MB 644.5 kB/s eta 0:01:04\n",
            "   -- ------------------------------------- 3.1/44.0 MB 646.6 kB/s eta 0:01:04\n",
            "   -- ------------------------------------- 3.1/44.0 MB 642.5 kB/s eta 0:01:04\n",
            "   -- ------------------------------------- 3.1/44.0 MB 642.6 kB/s eta 0:01:04\n",
            "   -- ------------------------------------- 3.1/44.0 MB 640.7 kB/s eta 0:01:04\n",
            "   -- ------------------------------------- 3.1/44.0 MB 640.7 kB/s eta 0:01:04\n",
            "   -- ------------------------------------- 3.2/44.0 MB 634.7 kB/s eta 0:01:05\n",
            "   -- ------------------------------------- 3.2/44.0 MB 634.9 kB/s eta 0:01:05\n",
            "   -- ------------------------------------- 3.2/44.0 MB 634.9 kB/s eta 0:01:05\n",
            "   -- ------------------------------------- 3.2/44.0 MB 634.9 kB/s eta 0:01:05\n",
            "   -- ------------------------------------- 3.2/44.0 MB 634.9 kB/s eta 0:01:05\n",
            "   -- ------------------------------------- 3.2/44.0 MB 634.9 kB/s eta 0:01:05\n",
            "   -- ------------------------------------- 3.2/44.0 MB 634.9 kB/s eta 0:01:05\n",
            "   -- ------------------------------------- 3.2/44.0 MB 634.9 kB/s eta 0:01:05\n",
            "   -- ------------------------------------- 3.2/44.0 MB 603.5 kB/s eta 0:01:08\n",
            "   -- ------------------------------------- 3.2/44.0 MB 602.0 kB/s eta 0:01:08\n",
            "   -- ------------------------------------- 3.3/44.0 MB 600.7 kB/s eta 0:01:08\n",
            "   -- ------------------------------------- 3.3/44.0 MB 597.5 kB/s eta 0:01:09\n",
            "   --- ------------------------------------ 3.3/44.0 MB 599.8 kB/s eta 0:01:08\n",
            "   --- ------------------------------------ 3.3/44.0 MB 598.2 kB/s eta 0:01:08\n",
            "   --- ------------------------------------ 3.4/44.0 MB 599.0 kB/s eta 0:01:08\n",
            "   --- ------------------------------------ 3.4/44.0 MB 599.5 kB/s eta 0:01:08\n",
            "   --- ------------------------------------ 3.5/44.0 MB 603.6 kB/s eta 0:01:08\n",
            "   --- ------------------------------------ 3.5/44.0 MB 607.3 kB/s eta 0:01:07\n",
            "   --- ------------------------------------ 3.6/44.0 MB 609.5 kB/s eta 0:01:07\n",
            "   --- ------------------------------------ 3.6/44.0 MB 604.8 kB/s eta 0:01:07\n",
            "   --- ------------------------------------ 3.6/44.0 MB 608.7 kB/s eta 0:01:07\n",
            "   --- ------------------------------------ 3.7/44.0 MB 614.1 kB/s eta 0:01:06\n",
            "   --- ------------------------------------ 3.7/44.0 MB 617.9 kB/s eta 0:01:06\n",
            "   --- ------------------------------------ 3.8/44.0 MB 621.5 kB/s eta 0:01:05\n",
            "   --- ------------------------------------ 3.8/44.0 MB 625.0 kB/s eta 0:01:05\n",
            "   --- ------------------------------------ 3.8/44.0 MB 621.9 kB/s eta 0:01:05\n",
            "   --- ------------------------------------ 3.9/44.0 MB 622.4 kB/s eta 0:01:05\n",
            "   --- ------------------------------------ 3.9/44.0 MB 621.0 kB/s eta 0:01:05\n",
            "   --- ------------------------------------ 3.9/44.0 MB 624.4 kB/s eta 0:01:05\n",
            "   --- ------------------------------------ 4.0/44.0 MB 624.7 kB/s eta 0:01:05\n",
            "   --- ------------------------------------ 4.0/44.0 MB 623.2 kB/s eta 0:01:05\n",
            "   --- ------------------------------------ 4.0/44.0 MB 623.4 kB/s eta 0:01:05\n",
            "   --- ------------------------------------ 4.1/44.0 MB 626.8 kB/s eta 0:01:04\n",
            "   --- ------------------------------------ 4.1/44.0 MB 627.0 kB/s eta 0:01:04\n",
            "   --- ------------------------------------ 4.1/44.0 MB 630.3 kB/s eta 0:01:04\n",
            "   --- ------------------------------------ 4.2/44.0 MB 629.1 kB/s eta 0:01:04\n",
            "   --- ------------------------------------ 4.2/44.0 MB 630.7 kB/s eta 0:01:04\n",
            "   --- ------------------------------------ 4.2/44.0 MB 632.5 kB/s eta 0:01:03\n",
            "   --- ------------------------------------ 4.3/44.0 MB 632.6 kB/s eta 0:01:03\n",
            "   --- ------------------------------------ 4.3/44.0 MB 632.7 kB/s eta 0:01:03\n",
            "   --- ------------------------------------ 4.4/44.0 MB 637.3 kB/s eta 0:01:03\n",
            "   ---- ----------------------------------- 4.4/44.0 MB 639.0 kB/s eta 0:01:02\n",
            "   ---- ----------------------------------- 4.4/44.0 MB 637.6 kB/s eta 0:01:03\n",
            "   ---- ----------------------------------- 4.5/44.0 MB 637.7 kB/s eta 0:01:02\n",
            "   ---- ----------------------------------- 4.5/44.0 MB 637.8 kB/s eta 0:01:02\n",
            "   ---- ----------------------------------- 4.5/44.0 MB 639.5 kB/s eta 0:01:02\n",
            "   ---- ----------------------------------- 4.6/44.0 MB 639.5 kB/s eta 0:01:02\n",
            "   ---- ----------------------------------- 4.6/44.0 MB 636.8 kB/s eta 0:01:02\n",
            "   ---- ----------------------------------- 4.6/44.0 MB 641.2 kB/s eta 0:01:02\n",
            "   ---- ----------------------------------- 4.7/44.0 MB 642.6 kB/s eta 0:01:02\n",
            "   ---- ----------------------------------- 4.7/44.0 MB 644.1 kB/s eta 0:01:01\n",
            "   ---- ----------------------------------- 4.8/44.0 MB 648.4 kB/s eta 0:01:01\n",
            "   ---- ----------------------------------- 4.8/44.0 MB 651.2 kB/s eta 0:01:01\n",
            "   ---- ----------------------------------- 4.9/44.0 MB 655.4 kB/s eta 0:01:00\n",
            "   ---- ----------------------------------- 5.0/44.0 MB 659.4 kB/s eta 0:01:00\n",
            "   ---- ----------------------------------- 5.0/44.0 MB 662.2 kB/s eta 0:00:59\n",
            "   ---- ----------------------------------- 5.1/44.0 MB 666.2 kB/s eta 0:00:59\n",
            "   ---- ----------------------------------- 5.1/44.0 MB 666.2 kB/s eta 0:00:59\n",
            "   ---- ----------------------------------- 5.1/44.0 MB 667.4 kB/s eta 0:00:59\n",
            "   ---- ----------------------------------- 5.2/44.0 MB 665.9 kB/s eta 0:00:59\n",
            "   ---- ----------------------------------- 5.2/44.0 MB 671.1 kB/s eta 0:00:58\n",
            "   ---- ----------------------------------- 5.3/44.0 MB 674.9 kB/s eta 0:00:58\n",
            "   ---- ----------------------------------- 5.3/44.0 MB 674.8 kB/s eta 0:00:58\n",
            "   ---- ----------------------------------- 5.4/44.0 MB 679.8 kB/s eta 0:00:57\n",
            "   ---- ----------------------------------- 5.4/44.0 MB 681.1 kB/s eta 0:00:57\n",
            "   ---- ----------------------------------- 5.5/44.0 MB 683.4 kB/s eta 0:00:57\n",
            "   ----- ---------------------------------- 5.5/44.0 MB 684.5 kB/s eta 0:00:57\n",
            "   ----- ---------------------------------- 5.6/44.0 MB 689.5 kB/s eta 0:00:56\n",
            "   ----- ---------------------------------- 5.6/44.0 MB 689.4 kB/s eta 0:00:56\n",
            "   ----- ---------------------------------- 5.6/44.0 MB 689.4 kB/s eta 0:00:56\n",
            "   ----- ---------------------------------- 5.6/44.0 MB 689.4 kB/s eta 0:00:56\n",
            "   ----- ---------------------------------- 5.6/44.0 MB 689.4 kB/s eta 0:00:56\n",
            "   ----- ---------------------------------- 5.7/44.0 MB 679.9 kB/s eta 0:00:57\n",
            "   ----- ---------------------------------- 5.7/44.0 MB 679.9 kB/s eta 0:00:57\n",
            "   ----- ---------------------------------- 5.7/44.0 MB 679.7 kB/s eta 0:00:57\n",
            "   ----- ---------------------------------- 5.8/44.0 MB 679.5 kB/s eta 0:00:57\n",
            "   ----- ---------------------------------- 5.8/44.0 MB 681.8 kB/s eta 0:00:56\n",
            "   ----- ---------------------------------- 5.9/44.0 MB 685.2 kB/s eta 0:00:56\n",
            "   ----- ---------------------------------- 5.9/44.0 MB 686.3 kB/s eta 0:00:56\n",
            "   ----- ---------------------------------- 5.9/44.0 MB 684.9 kB/s eta 0:00:56\n",
            "   ----- ---------------------------------- 6.0/44.0 MB 688.3 kB/s eta 0:00:56\n",
            "   ----- ---------------------------------- 6.0/44.0 MB 686.9 kB/s eta 0:00:56\n",
            "   ----- ---------------------------------- 6.1/44.0 MB 692.5 kB/s eta 0:00:55\n",
            "   ----- ---------------------------------- 6.1/44.0 MB 691.2 kB/s eta 0:00:55\n",
            "   ----- ---------------------------------- 6.2/44.0 MB 692.2 kB/s eta 0:00:55\n",
            "   ----- ---------------------------------- 6.2/44.0 MB 692.2 kB/s eta 0:00:55\n",
            "   ----- ---------------------------------- 6.2/44.0 MB 692.2 kB/s eta 0:00:55\n",
            "   ----- ---------------------------------- 6.2/44.0 MB 692.2 kB/s eta 0:00:55\n",
            "   ----- ---------------------------------- 6.2/44.0 MB 692.2 kB/s eta 0:00:55\n",
            "   ----- ---------------------------------- 6.2/44.0 MB 692.2 kB/s eta 0:00:55\n",
            "   ----- ---------------------------------- 6.2/44.0 MB 674.3 kB/s eta 0:00:56\n",
            "   ----- ---------------------------------- 6.2/44.0 MB 675.3 kB/s eta 0:00:56\n",
            "   ----- ---------------------------------- 6.3/44.0 MB 676.3 kB/s eta 0:00:56\n",
            "   ----- ---------------------------------- 6.3/44.0 MB 675.2 kB/s eta 0:00:56\n",
            "   ----- ---------------------------------- 6.3/44.0 MB 675.1 kB/s eta 0:00:56\n",
            "   ----- ---------------------------------- 6.4/44.0 MB 678.2 kB/s eta 0:00:56\n",
            "   ----- ---------------------------------- 6.4/44.0 MB 678.2 kB/s eta 0:00:56\n",
            "   ----- ---------------------------------- 6.4/44.0 MB 678.2 kB/s eta 0:00:56\n",
            "   ----- ---------------------------------- 6.4/44.0 MB 678.2 kB/s eta 0:00:56\n",
            "   ----- ---------------------------------- 6.4/44.0 MB 678.2 kB/s eta 0:00:56\n",
            "   ----- ---------------------------------- 6.4/44.0 MB 678.2 kB/s eta 0:00:56\n",
            "   ----- ---------------------------------- 6.4/44.0 MB 661.7 kB/s eta 0:00:57\n",
            "   ----- ---------------------------------- 6.5/44.0 MB 660.6 kB/s eta 0:00:57\n",
            "   ----- ---------------------------------- 6.5/44.0 MB 663.7 kB/s eta 0:00:57\n",
            "   ----- ---------------------------------- 6.6/44.0 MB 664.7 kB/s eta 0:00:57\n",
            "   ------ --------------------------------- 6.6/44.0 MB 667.8 kB/s eta 0:00:56\n",
            "   ------ --------------------------------- 6.7/44.0 MB 668.7 kB/s eta 0:00:56\n",
            "   ------ --------------------------------- 6.7/44.0 MB 672.8 kB/s eta 0:00:56\n",
            "   ------ --------------------------------- 6.7/44.0 MB 670.7 kB/s eta 0:00:56\n",
            "   ------ --------------------------------- 6.8/44.0 MB 674.7 kB/s eta 0:00:56\n",
            "   ------ --------------------------------- 6.9/44.0 MB 676.6 kB/s eta 0:00:55\n",
            "   ------ --------------------------------- 6.9/44.0 MB 676.4 kB/s eta 0:00:55\n",
            "   ------ --------------------------------- 7.0/44.0 MB 678.4 kB/s eta 0:00:55\n",
            "   ------ --------------------------------- 7.0/44.0 MB 683.3 kB/s eta 0:00:55\n",
            "   ------ --------------------------------- 7.1/44.0 MB 687.1 kB/s eta 0:00:54\n",
            "   ------ --------------------------------- 7.1/44.0 MB 689.0 kB/s eta 0:00:54\n",
            "   ------ --------------------------------- 7.2/44.0 MB 692.7 kB/s eta 0:00:54\n",
            "   ------ --------------------------------- 7.2/44.0 MB 692.7 kB/s eta 0:00:54\n",
            "   ------ --------------------------------- 7.2/44.0 MB 692.7 kB/s eta 0:00:54\n",
            "   ------ --------------------------------- 7.3/44.0 MB 687.3 kB/s eta 0:00:54\n",
            "   ------ --------------------------------- 7.3/44.0 MB 691.2 kB/s eta 0:00:54\n",
            "   ------ --------------------------------- 7.4/44.0 MB 693.8 kB/s eta 0:00:53\n",
            "   ------ --------------------------------- 7.5/44.0 MB 695.5 kB/s eta 0:00:53\n",
            "   ------ --------------------------------- 7.5/44.0 MB 696.3 kB/s eta 0:00:53\n",
            "   ------ --------------------------------- 7.6/44.0 MB 699.9 kB/s eta 0:00:52\n",
            "   ------ --------------------------------- 7.6/44.0 MB 703.6 kB/s eta 0:00:52\n",
            "   ------- -------------------------------- 7.7/44.0 MB 707.1 kB/s eta 0:00:52\n",
            "   ------- -------------------------------- 7.8/44.0 MB 711.5 kB/s eta 0:00:51\n",
            "   ------- -------------------------------- 7.8/44.0 MB 714.2 kB/s eta 0:00:51\n",
            "   ------- -------------------------------- 7.9/44.0 MB 716.8 kB/s eta 0:00:51\n",
            "   ------- -------------------------------- 8.0/44.0 MB 720.1 kB/s eta 0:00:50\n",
            "   ------- -------------------------------- 8.0/44.0 MB 722.7 kB/s eta 0:00:50\n",
            "   ------- -------------------------------- 8.1/44.0 MB 725.9 kB/s eta 0:00:50\n",
            "   ------- -------------------------------- 8.2/44.0 MB 725.6 kB/s eta 0:00:50\n",
            "   ------- -------------------------------- 8.2/44.0 MB 730.0 kB/s eta 0:00:49\n",
            "   ------- -------------------------------- 8.3/44.0 MB 732.3 kB/s eta 0:00:49\n",
            "   ------- -------------------------------- 8.3/44.0 MB 733.9 kB/s eta 0:00:49\n",
            "   ------- -------------------------------- 8.3/44.0 MB 733.9 kB/s eta 0:00:49\n",
            "   ------- -------------------------------- 8.4/44.0 MB 736.7 kB/s eta 0:00:49\n",
            "   ------- -------------------------------- 8.4/44.0 MB 736.7 kB/s eta 0:00:49\n",
            "   ------- -------------------------------- 8.4/44.0 MB 736.7 kB/s eta 0:00:49\n",
            "   ------- -------------------------------- 8.4/44.0 MB 736.7 kB/s eta 0:00:49\n",
            "   ------- -------------------------------- 8.4/44.0 MB 736.7 kB/s eta 0:00:49\n",
            "   ------- -------------------------------- 8.4/44.0 MB 736.7 kB/s eta 0:00:49\n",
            "   ------- -------------------------------- 8.4/44.0 MB 736.7 kB/s eta 0:00:49\n",
            "   ------- -------------------------------- 8.4/44.0 MB 736.7 kB/s eta 0:00:49\n",
            "   ------- -------------------------------- 8.5/44.0 MB 717.0 kB/s eta 0:00:50\n",
            "   ------- -------------------------------- 8.5/44.0 MB 717.0 kB/s eta 0:00:50\n",
            "   ------- -------------------------------- 8.5/44.0 MB 713.1 kB/s eta 0:00:50\n",
            "   ------- -------------------------------- 8.5/44.0 MB 710.2 kB/s eta 0:00:50\n",
            "   ------- -------------------------------- 8.5/44.0 MB 709.2 kB/s eta 0:00:50\n",
            "   ------- -------------------------------- 8.6/44.0 MB 709.8 kB/s eta 0:00:50\n",
            "   ------- -------------------------------- 8.6/44.0 MB 708.8 kB/s eta 0:00:50\n",
            "   ------- -------------------------------- 8.6/44.0 MB 708.8 kB/s eta 0:00:50\n",
            "   ------- -------------------------------- 8.6/44.0 MB 708.4 kB/s eta 0:00:50\n",
            "   ------- -------------------------------- 8.7/44.0 MB 707.3 kB/s eta 0:00:50\n",
            "   ------- -------------------------------- 8.7/44.0 MB 708.6 kB/s eta 0:00:50\n",
            "   -------- ------------------------------- 8.8/44.0 MB 711.8 kB/s eta 0:00:50\n",
            "   -------- ------------------------------- 8.8/44.0 MB 713.3 kB/s eta 0:00:50\n",
            "   -------- ------------------------------- 8.9/44.0 MB 714.8 kB/s eta 0:00:50\n",
            "   -------- ------------------------------- 8.9/44.0 MB 716.1 kB/s eta 0:00:49\n",
            "   -------- ------------------------------- 9.0/44.0 MB 717.5 kB/s eta 0:00:49\n",
            "   -------- ------------------------------- 9.1/44.0 MB 720.5 kB/s eta 0:00:49\n",
            "   -------- ------------------------------- 9.2/44.0 MB 725.2 kB/s eta 0:00:48\n",
            "   -------- ------------------------------- 9.2/44.0 MB 727.4 kB/s eta 0:00:48\n",
            "   -------- ------------------------------- 9.2/44.0 MB 727.1 kB/s eta 0:00:48\n",
            "   -------- ------------------------------- 9.3/44.0 MB 731.0 kB/s eta 0:00:48\n",
            "   -------- ------------------------------- 9.4/44.0 MB 732.3 kB/s eta 0:00:48\n",
            "   -------- ------------------------------- 9.5/44.0 MB 735.9 kB/s eta 0:00:47\n",
            "   -------- ------------------------------- 9.5/44.0 MB 735.5 kB/s eta 0:00:47\n",
            "   -------- ------------------------------- 9.6/44.0 MB 737.6 kB/s eta 0:00:47\n",
            "   -------- ------------------------------- 9.6/44.0 MB 739.0 kB/s eta 0:00:47\n",
            "   -------- ------------------------------- 9.7/44.0 MB 740.2 kB/s eta 0:00:47\n",
            "   -------- ------------------------------- 9.7/44.0 MB 739.9 kB/s eta 0:00:47\n",
            "   -------- ------------------------------- 9.8/44.0 MB 743.5 kB/s eta 0:00:46\n",
            "   -------- ------------------------------- 9.8/44.0 MB 742.4 kB/s eta 0:00:47\n",
            "   -------- ------------------------------- 9.9/44.0 MB 745.2 kB/s eta 0:00:46\n",
            "   -------- ------------------------------- 9.9/44.0 MB 745.2 kB/s eta 0:00:46\n",
            "   -------- ------------------------------- 9.9/44.0 MB 745.2 kB/s eta 0:00:46\n",
            "   --------- ------------------------------ 9.9/44.0 MB 745.3 kB/s eta 0:00:46\n",
            "   --------- ------------------------------ 10.0/44.0 MB 743.2 kB/s eta 0:00:46\n",
            "   --------- ------------------------------ 10.1/44.0 MB 746.7 kB/s eta 0:00:46\n",
            "   --------- ------------------------------ 10.1/44.0 MB 749.4 kB/s eta 0:00:46\n",
            "   --------- ------------------------------ 10.2/44.0 MB 751.6 kB/s eta 0:00:45\n",
            "   --------- ------------------------------ 10.2/44.0 MB 752.5 kB/s eta 0:00:45\n",
            "   --------- ------------------------------ 10.3/44.0 MB 755.1 kB/s eta 0:00:45\n",
            "   --------- ------------------------------ 10.4/44.0 MB 759.5 kB/s eta 0:00:45\n",
            "   --------- ------------------------------ 10.5/44.0 MB 762.2 kB/s eta 0:00:44\n",
            "   --------- ------------------------------ 10.5/44.0 MB 764.0 kB/s eta 0:00:44\n",
            "   --------- ------------------------------ 10.6/44.0 MB 767.5 kB/s eta 0:00:44\n",
            "   --------- ------------------------------ 10.6/44.0 MB 769.3 kB/s eta 0:00:44\n",
            "   --------- ------------------------------ 10.7/44.0 MB 772.1 kB/s eta 0:00:44\n",
            "   --------- ------------------------------ 10.8/44.0 MB 778.5 kB/s eta 0:00:43\n",
            "   --------- ------------------------------ 10.8/44.0 MB 780.3 kB/s eta 0:00:43\n",
            "   --------- ------------------------------ 10.9/44.0 MB 783.1 kB/s eta 0:00:43\n",
            "   --------- ------------------------------ 10.9/44.0 MB 794.5 kB/s eta 0:00:42\n",
            "   --------- ------------------------------ 10.9/44.0 MB 794.5 kB/s eta 0:00:42\n",
            "   --------- ------------------------------ 10.9/44.0 MB 794.5 kB/s eta 0:00:42\n",
            "   --------- ------------------------------ 10.9/44.0 MB 794.5 kB/s eta 0:00:42\n",
            "   ---------- ----------------------------- 11.0/44.0 MB 799.4 kB/s eta 0:00:42\n",
            "   ---------- ----------------------------- 11.1/44.0 MB 798.4 kB/s eta 0:00:42\n",
            "   ---------- ----------------------------- 11.1/44.0 MB 805.3 kB/s eta 0:00:41\n",
            "   ---------- ----------------------------- 11.2/44.0 MB 805.3 kB/s eta 0:00:41\n",
            "   ---------- ----------------------------- 11.2/44.0 MB 811.3 kB/s eta 0:00:41\n",
            "   ---------- ----------------------------- 11.3/44.0 MB 814.3 kB/s eta 0:00:41\n",
            "   ---------- ----------------------------- 11.4/44.0 MB 816.3 kB/s eta 0:00:40\n",
            "   ---------- ----------------------------- 11.4/44.0 MB 816.3 kB/s eta 0:00:40\n",
            "   ---------- ----------------------------- 11.4/44.0 MB 816.4 kB/s eta 0:00:40\n",
            "   ---------- ----------------------------- 11.5/44.0 MB 816.4 kB/s eta 0:00:40\n",
            "   ---------- ----------------------------- 11.5/44.0 MB 816.4 kB/s eta 0:00:40\n",
            "   ---------- ----------------------------- 11.5/44.0 MB 816.4 kB/s eta 0:00:40\n",
            "   ---------- ----------------------------- 11.6/44.0 MB 816.4 kB/s eta 0:00:40\n",
            "   ---------- ----------------------------- 11.6/44.0 MB 814.3 kB/s eta 0:00:40\n",
            "   ---------- ----------------------------- 11.6/44.0 MB 813.2 kB/s eta 0:00:40\n",
            "   ---------- ----------------------------- 11.6/44.0 MB 812.3 kB/s eta 0:00:40\n",
            "   ---------- ----------------------------- 11.7/44.0 MB 811.3 kB/s eta 0:00:40\n",
            "   ---------- ----------------------------- 11.7/44.0 MB 810.3 kB/s eta 0:00:40\n",
            "   ---------- ----------------------------- 11.7/44.0 MB 809.3 kB/s eta 0:00:40\n",
            "   ---------- ----------------------------- 11.7/44.0 MB 809.3 kB/s eta 0:00:40\n",
            "   ---------- ----------------------------- 11.7/44.0 MB 807.3 kB/s eta 0:00:40\n",
            "   ---------- ----------------------------- 11.8/44.0 MB 807.3 kB/s eta 0:00:40\n",
            "   ---------- ----------------------------- 11.8/44.0 MB 806.3 kB/s eta 0:00:40\n",
            "   ---------- ----------------------------- 11.9/44.0 MB 813.3 kB/s eta 0:00:40\n",
            "   ---------- ----------------------------- 11.9/44.0 MB 812.3 kB/s eta 0:00:40\n",
            "   ---------- ----------------------------- 11.9/44.0 MB 811.2 kB/s eta 0:00:40\n",
            "   ---------- ----------------------------- 11.9/44.0 MB 810.3 kB/s eta 0:00:40\n",
            "   ---------- ----------------------------- 12.0/44.0 MB 808.2 kB/s eta 0:00:40\n",
            "   ---------- ----------------------------- 12.0/44.0 MB 809.3 kB/s eta 0:00:40\n",
            "   ---------- ----------------------------- 12.1/44.0 MB 809.3 kB/s eta 0:00:40\n",
            "   ---------- ----------------------------- 12.1/44.0 MB 810.3 kB/s eta 0:00:40\n",
            "   ----------- ---------------------------- 12.1/44.0 MB 812.3 kB/s eta 0:00:40\n",
            "   ----------- ---------------------------- 12.2/44.0 MB 815.3 kB/s eta 0:00:39\n",
            "   ----------- ---------------------------- 12.2/44.0 MB 817.3 kB/s eta 0:00:39\n",
            "   ----------- ---------------------------- 12.3/44.0 MB 816.4 kB/s eta 0:00:39\n",
            "   ----------- ---------------------------- 12.3/44.0 MB 815.3 kB/s eta 0:00:39\n",
            "   ----------- ---------------------------- 12.3/44.0 MB 816.4 kB/s eta 0:00:39\n",
            "   ----------- ---------------------------- 12.4/44.0 MB 818.4 kB/s eta 0:00:39\n",
            "   ----------- ---------------------------- 12.4/44.0 MB 819.4 kB/s eta 0:00:39\n",
            "   ----------- ---------------------------- 12.5/44.0 MB 819.4 kB/s eta 0:00:39\n",
            "   ----------- ---------------------------- 12.5/44.0 MB 821.5 kB/s eta 0:00:39\n",
            "   ----------- ---------------------------- 12.5/44.0 MB 821.4 kB/s eta 0:00:39\n",
            "   ----------- ---------------------------- 12.6/44.0 MB 819.4 kB/s eta 0:00:39\n",
            "   ----------- ---------------------------- 12.6/44.0 MB 821.5 kB/s eta 0:00:39\n",
            "   ----------- ---------------------------- 12.6/44.0 MB 817.4 kB/s eta 0:00:39\n",
            "   ----------- ---------------------------- 12.7/44.0 MB 816.4 kB/s eta 0:00:39\n",
            "   ----------- ---------------------------- 12.7/44.0 MB 815.3 kB/s eta 0:00:39\n",
            "   ----------- ---------------------------- 12.7/44.0 MB 817.4 kB/s eta 0:00:39\n",
            "   ----------- ---------------------------- 12.8/44.0 MB 817.4 kB/s eta 0:00:39\n",
            "   ----------- ---------------------------- 12.8/44.0 MB 815.3 kB/s eta 0:00:39\n",
            "   ----------- ---------------------------- 12.8/44.0 MB 816.3 kB/s eta 0:00:39\n",
            "   ----------- ---------------------------- 12.9/44.0 MB 817.3 kB/s eta 0:00:39\n",
            "   ----------- ---------------------------- 12.9/44.0 MB 817.3 kB/s eta 0:00:39\n",
            "   ----------- ---------------------------- 12.9/44.0 MB 817.3 kB/s eta 0:00:38\n",
            "   ----------- ---------------------------- 13.0/44.0 MB 815.3 kB/s eta 0:00:39\n",
            "   ----------- ---------------------------- 13.0/44.0 MB 815.4 kB/s eta 0:00:38\n",
            "   ----------- ---------------------------- 13.0/44.0 MB 814.3 kB/s eta 0:00:38\n",
            "   ----------- ---------------------------- 13.0/44.0 MB 814.3 kB/s eta 0:00:38\n",
            "   ----------- ---------------------------- 13.1/44.0 MB 816.4 kB/s eta 0:00:38\n",
            "   ----------- ---------------------------- 13.1/44.0 MB 813.3 kB/s eta 0:00:38\n",
            "   ----------- ---------------------------- 13.2/44.0 MB 813.3 kB/s eta 0:00:38\n",
            "   ------------ --------------------------- 13.2/44.0 MB 815.3 kB/s eta 0:00:38\n",
            "   ------------ --------------------------- 13.2/44.0 MB 813.2 kB/s eta 0:00:38\n",
            "   ------------ --------------------------- 13.3/44.0 MB 817.4 kB/s eta 0:00:38\n",
            "   ------------ --------------------------- 13.3/44.0 MB 821.5 kB/s eta 0:00:38\n",
            "   ------------ --------------------------- 13.4/44.0 MB 822.5 kB/s eta 0:00:38\n",
            "   ------------ --------------------------- 13.4/44.0 MB 825.6 kB/s eta 0:00:38\n",
            "   ------------ --------------------------- 13.4/44.0 MB 845.9 kB/s eta 0:00:37\n",
            "   ------------ --------------------------- 13.4/44.0 MB 845.9 kB/s eta 0:00:37\n",
            "   ------------ --------------------------- 13.5/44.0 MB 842.6 kB/s eta 0:00:37\n",
            "   ------------ --------------------------- 13.5/44.0 MB 842.6 kB/s eta 0:00:37\n",
            "   ------------ --------------------------- 13.5/44.0 MB 845.9 kB/s eta 0:00:36\n",
            "   ------------ --------------------------- 13.6/44.0 MB 849.2 kB/s eta 0:00:36\n",
            "   ------------ --------------------------- 13.6/44.0 MB 845.9 kB/s eta 0:00:36\n",
            "   ------------ --------------------------- 13.6/44.0 MB 847.0 kB/s eta 0:00:36\n",
            "   ------------ --------------------------- 13.7/44.0 MB 844.7 kB/s eta 0:00:36\n",
            "   ------------ --------------------------- 13.7/44.0 MB 844.8 kB/s eta 0:00:36\n",
            "   ------------ --------------------------- 13.7/44.0 MB 845.9 kB/s eta 0:00:36\n",
            "   ------------ --------------------------- 13.8/44.0 MB 847.0 kB/s eta 0:00:36\n",
            "   ------------ --------------------------- 13.8/44.0 MB 845.9 kB/s eta 0:00:36\n",
            "   ------------ --------------------------- 13.9/44.0 MB 844.8 kB/s eta 0:00:36\n",
            "   ------------ --------------------------- 13.9/44.0 MB 845.9 kB/s eta 0:00:36\n",
            "   ------------ --------------------------- 13.9/44.0 MB 845.9 kB/s eta 0:00:36\n",
            "   ------------ --------------------------- 13.9/44.0 MB 839.3 kB/s eta 0:00:36\n",
            "   ------------ --------------------------- 14.0/44.0 MB 839.4 kB/s eta 0:00:36\n",
            "   ------------ --------------------------- 14.0/44.0 MB 839.3 kB/s eta 0:00:36\n",
            "   ------------ --------------------------- 14.1/44.0 MB 842.6 kB/s eta 0:00:36\n",
            "   ------------ --------------------------- 14.1/44.0 MB 842.6 kB/s eta 0:00:36\n",
            "   ------------ --------------------------- 14.2/44.0 MB 843.7 kB/s eta 0:00:36\n",
            "   ------------ --------------------------- 14.2/44.0 MB 843.7 kB/s eta 0:00:36\n",
            "   ------------ --------------------------- 14.2/44.0 MB 847.0 kB/s eta 0:00:36\n",
            "   ------------ --------------------------- 14.3/44.0 MB 844.8 kB/s eta 0:00:36\n",
            "   ------------- -------------------------- 14.3/44.0 MB 844.8 kB/s eta 0:00:36\n",
            "   ------------- -------------------------- 14.4/44.0 MB 844.8 kB/s eta 0:00:36\n",
            "   ------------- -------------------------- 14.4/44.0 MB 848.1 kB/s eta 0:00:35\n",
            "   ------------- -------------------------- 14.4/44.0 MB 847.0 kB/s eta 0:00:35\n",
            "   ------------- -------------------------- 14.5/44.0 MB 847.0 kB/s eta 0:00:35\n",
            "   ------------- -------------------------- 14.5/44.0 MB 844.8 kB/s eta 0:00:35\n",
            "   ------------- -------------------------- 14.5/44.0 MB 848.1 kB/s eta 0:00:35\n",
            "   ------------- -------------------------- 14.6/44.0 MB 846.9 kB/s eta 0:00:35\n",
            "   ------------- -------------------------- 14.6/44.0 MB 845.9 kB/s eta 0:00:35\n",
            "   ------------- -------------------------- 14.7/44.0 MB 848.1 kB/s eta 0:00:35\n",
            "   ------------- -------------------------- 14.7/44.0 MB 849.2 kB/s eta 0:00:35\n",
            "   ------------- -------------------------- 14.8/44.0 MB 849.2 kB/s eta 0:00:35\n",
            "   ------------- -------------------------- 14.8/44.0 MB 854.8 kB/s eta 0:00:35\n",
            "   ------------- -------------------------- 14.8/44.0 MB 853.5 kB/s eta 0:00:35\n",
            "   ------------- -------------------------- 14.9/44.0 MB 853.6 kB/s eta 0:00:35\n",
            "   ------------- -------------------------- 14.9/44.0 MB 853.6 kB/s eta 0:00:34\n",
            "   ------------- -------------------------- 15.0/44.0 MB 852.5 kB/s eta 0:00:34\n",
            "   ------------- -------------------------- 15.0/44.0 MB 852.5 kB/s eta 0:00:34\n",
            "   ------------- -------------------------- 15.0/44.0 MB 848.1 kB/s eta 0:00:35\n",
            "   ------------- -------------------------- 15.0/44.0 MB 848.1 kB/s eta 0:00:35\n",
            "   ------------- -------------------------- 15.1/44.0 MB 847.0 kB/s eta 0:00:35\n",
            "   ------------- -------------------------- 15.1/44.0 MB 847.0 kB/s eta 0:00:35\n",
            "   ------------- -------------------------- 15.1/44.0 MB 840.4 kB/s eta 0:00:35\n",
            "   ------------- -------------------------- 15.2/44.0 MB 838.3 kB/s eta 0:00:35\n",
            "   ------------- -------------------------- 15.2/44.0 MB 837.2 kB/s eta 0:00:35\n",
            "   ------------- -------------------------- 15.2/44.0 MB 836.1 kB/s eta 0:00:35\n",
            "   ------------- -------------------------- 15.3/44.0 MB 835.1 kB/s eta 0:00:35\n",
            "   ------------- -------------------------- 15.3/44.0 MB 833.0 kB/s eta 0:00:35\n",
            "   ------------- -------------------------- 15.3/44.0 MB 835.1 kB/s eta 0:00:35\n",
            "   ------------- -------------------------- 15.3/44.0 MB 831.9 kB/s eta 0:00:35\n",
            "   ------------- -------------------------- 15.4/44.0 MB 833.0 kB/s eta 0:00:35\n",
            "   -------------- ------------------------- 15.4/44.0 MB 830.8 kB/s eta 0:00:35\n",
            "   -------------- ------------------------- 15.4/44.0 MB 830.8 kB/s eta 0:00:35\n",
            "   -------------- ------------------------- 15.4/44.0 MB 825.6 kB/s eta 0:00:35\n",
            "   -------------- ------------------------- 15.4/44.0 MB 826.6 kB/s eta 0:00:35\n",
            "   -------------- ------------------------- 15.5/44.0 MB 822.5 kB/s eta 0:00:35\n",
            "   -------------- ------------------------- 15.5/44.0 MB 820.5 kB/s eta 0:00:35\n",
            "   -------------- ------------------------- 15.5/44.0 MB 819.4 kB/s eta 0:00:35\n",
            "   -------------- ------------------------- 15.6/44.0 MB 817.4 kB/s eta 0:00:35\n",
            "   -------------- ------------------------- 15.6/44.0 MB 818.4 kB/s eta 0:00:35\n",
            "   -------------- ------------------------- 15.6/44.0 MB 818.4 kB/s eta 0:00:35\n",
            "   -------------- ------------------------- 15.7/44.0 MB 816.4 kB/s eta 0:00:35\n",
            "   -------------- ------------------------- 15.7/44.0 MB 816.4 kB/s eta 0:00:35\n",
            "   -------------- ------------------------- 15.7/44.0 MB 813.3 kB/s eta 0:00:35\n",
            "   -------------- ------------------------- 15.7/44.0 MB 810.3 kB/s eta 0:00:35\n",
            "   -------------- ------------------------- 15.7/44.0 MB 806.3 kB/s eta 0:00:36\n",
            "   -------------- ------------------------- 15.7/44.0 MB 806.3 kB/s eta 0:00:36\n",
            "   -------------- ------------------------- 15.7/44.0 MB 802.3 kB/s eta 0:00:36\n",
            "   -------------- ------------------------- 15.7/44.0 MB 801.4 kB/s eta 0:00:36\n",
            "   -------------- ------------------------- 15.8/44.0 MB 798.5 kB/s eta 0:00:36\n",
            "   -------------- ------------------------- 15.8/44.0 MB 796.5 kB/s eta 0:00:36\n",
            "   -------------- ------------------------- 15.8/44.0 MB 795.5 kB/s eta 0:00:36\n",
            "   -------------- ------------------------- 15.8/44.0 MB 792.6 kB/s eta 0:00:36\n",
            "   -------------- ------------------------- 15.9/44.0 MB 804.3 kB/s eta 0:00:35\n",
            "   -------------- ------------------------- 15.9/44.0 MB 800.4 kB/s eta 0:00:36\n",
            "   -------------- ------------------------- 15.9/44.0 MB 801.3 kB/s eta 0:00:35\n",
            "   -------------- ------------------------- 16.0/44.0 MB 801.3 kB/s eta 0:00:35\n",
            "   -------------- ------------------------- 16.0/44.0 MB 801.3 kB/s eta 0:00:35\n",
            "   -------------- ------------------------- 16.0/44.0 MB 799.4 kB/s eta 0:00:35\n",
            "   -------------- ------------------------- 16.1/44.0 MB 799.4 kB/s eta 0:00:35\n",
            "   -------------- ------------------------- 16.1/44.0 MB 798.4 kB/s eta 0:00:35\n",
            "   -------------- ------------------------- 16.1/44.0 MB 795.5 kB/s eta 0:00:35\n",
            "   -------------- ------------------------- 16.2/44.0 MB 795.5 kB/s eta 0:00:35\n",
            "   -------------- ------------------------- 16.2/44.0 MB 795.5 kB/s eta 0:00:35\n",
            "   -------------- ------------------------- 16.2/44.0 MB 796.5 kB/s eta 0:00:35\n",
            "   -------------- ------------------------- 16.3/44.0 MB 794.5 kB/s eta 0:00:35\n",
            "   -------------- ------------------------- 16.3/44.0 MB 792.6 kB/s eta 0:00:35\n",
            "   -------------- ------------------------- 16.3/44.0 MB 790.7 kB/s eta 0:00:35\n",
            "   -------------- ------------------------- 16.3/44.0 MB 788.8 kB/s eta 0:00:36\n",
            "   -------------- ------------------------- 16.4/44.0 MB 790.7 kB/s eta 0:00:35\n",
            "   -------------- ------------------------- 16.4/44.0 MB 805.3 kB/s eta 0:00:35\n",
            "   -------------- ------------------------- 16.5/44.0 MB 806.3 kB/s eta 0:00:35\n",
            "   --------------- ------------------------ 16.5/44.0 MB 805.3 kB/s eta 0:00:35\n",
            "   --------------- ------------------------ 16.5/44.0 MB 805.3 kB/s eta 0:00:35\n",
            "   --------------- ------------------------ 16.6/44.0 MB 805.2 kB/s eta 0:00:35\n",
            "   --------------- ------------------------ 16.6/44.0 MB 805.3 kB/s eta 0:00:34\n",
            "   --------------- ------------------------ 16.6/44.0 MB 802.3 kB/s eta 0:00:35\n",
            "   --------------- ------------------------ 16.7/44.0 MB 819.4 kB/s eta 0:00:34\n",
            "   --------------- ------------------------ 16.7/44.0 MB 819.4 kB/s eta 0:00:34\n",
            "   --------------- ------------------------ 16.7/44.0 MB 819.4 kB/s eta 0:00:34\n",
            "   --------------- ------------------------ 16.7/44.0 MB 817.4 kB/s eta 0:00:34\n",
            "   --------------- ------------------------ 16.7/44.0 MB 817.4 kB/s eta 0:00:34\n",
            "   --------------- ------------------------ 16.8/44.0 MB 814.3 kB/s eta 0:00:34\n",
            "   --------------- ------------------------ 16.8/44.0 MB 814.3 kB/s eta 0:00:34\n",
            "   --------------- ------------------------ 16.8/44.0 MB 814.3 kB/s eta 0:00:34\n",
            "   --------------- ------------------------ 16.9/44.0 MB 809.3 kB/s eta 0:00:34\n",
            "   --------------- ------------------------ 16.9/44.0 MB 808.3 kB/s eta 0:00:34\n",
            "   --------------- ------------------------ 16.9/44.0 MB 806.3 kB/s eta 0:00:34\n",
            "   --------------- ------------------------ 16.9/44.0 MB 802.3 kB/s eta 0:00:34\n",
            "   --------------- ------------------------ 17.0/44.0 MB 803.3 kB/s eta 0:00:34\n",
            "   --------------- ------------------------ 17.0/44.0 MB 801.4 kB/s eta 0:00:34\n",
            "   --------------- ------------------------ 17.0/44.0 MB 803.3 kB/s eta 0:00:34\n",
            "   --------------- ------------------------ 17.1/44.0 MB 801.3 kB/s eta 0:00:34\n",
            "   --------------- ------------------------ 17.1/44.0 MB 800.4 kB/s eta 0:00:34\n",
            "   --------------- ------------------------ 17.2/44.0 MB 800.4 kB/s eta 0:00:34\n",
            "   --------------- ------------------------ 17.2/44.0 MB 796.5 kB/s eta 0:00:34\n",
            "   --------------- ------------------------ 17.2/44.0 MB 798.4 kB/s eta 0:00:34\n",
            "   --------------- ------------------------ 17.2/44.0 MB 795.5 kB/s eta 0:00:34\n",
            "   --------------- ------------------------ 17.2/44.0 MB 793.6 kB/s eta 0:00:34\n",
            "   --------------- ------------------------ 17.3/44.0 MB 791.7 kB/s eta 0:00:34\n",
            "   --------------- ------------------------ 17.3/44.0 MB 791.7 kB/s eta 0:00:34\n",
            "   --------------- ------------------------ 17.3/44.0 MB 791.7 kB/s eta 0:00:34\n",
            "   --------------- ------------------------ 17.3/44.0 MB 784.1 kB/s eta 0:00:35\n",
            "   --------------- ------------------------ 17.3/44.0 MB 784.1 kB/s eta 0:00:35\n",
            "   --------------- ------------------------ 17.3/44.0 MB 784.1 kB/s eta 0:00:35\n",
            "   --------------- ------------------------ 17.3/44.0 MB 776.6 kB/s eta 0:00:35\n",
            "   --------------- ------------------------ 17.3/44.0 MB 776.6 kB/s eta 0:00:35\n",
            "   --------------- ------------------------ 17.3/44.0 MB 776.6 kB/s eta 0:00:35\n",
            "   --------------- ------------------------ 17.4/44.0 MB 770.3 kB/s eta 0:00:35\n",
            "   --------------- ------------------------ 17.4/44.0 MB 768.4 kB/s eta 0:00:35\n",
            "   --------------- ------------------------ 17.4/44.0 MB 764.8 kB/s eta 0:00:35\n",
            "   --------------- ------------------------ 17.4/44.0 MB 764.0 kB/s eta 0:00:35\n",
            "   --------------- ------------------------ 17.4/44.0 MB 762.2 kB/s eta 0:00:35\n",
            "   --------------- ------------------------ 17.5/44.0 MB 766.6 kB/s eta 0:00:35\n",
            "   --------------- ------------------------ 17.5/44.0 MB 766.7 kB/s eta 0:00:35\n",
            "   --------------- ------------------------ 17.5/44.0 MB 763.1 kB/s eta 0:00:35\n",
            "   --------------- ------------------------ 17.5/44.0 MB 760.4 kB/s eta 0:00:35\n",
            "   --------------- ------------------------ 17.6/44.0 MB 759.5 kB/s eta 0:00:35\n",
            "   ---------------- ----------------------- 17.6/44.0 MB 757.8 kB/s eta 0:00:35\n",
            "   ---------------- ----------------------- 17.6/44.0 MB 756.0 kB/s eta 0:00:35\n",
            "   ---------------- ----------------------- 17.6/44.0 MB 754.2 kB/s eta 0:00:35\n",
            "   ---------------- ----------------------- 17.7/44.0 MB 753.4 kB/s eta 0:00:35\n",
            "   ---------------- ----------------------- 17.7/44.0 MB 751.6 kB/s eta 0:00:35\n",
            "   ---------------- ----------------------- 17.7/44.0 MB 751.6 kB/s eta 0:00:35\n",
            "   ---------------- ----------------------- 17.7/44.0 MB 751.6 kB/s eta 0:00:35\n",
            "   ---------------- ----------------------- 17.7/44.0 MB 751.6 kB/s eta 0:00:35\n",
            "   ---------------- ----------------------- 17.7/44.0 MB 745.7 kB/s eta 0:00:36\n",
            "   ---------------- ----------------------- 17.8/44.0 MB 744.0 kB/s eta 0:00:36\n",
            "   ---------------- ----------------------- 17.8/44.0 MB 742.3 kB/s eta 0:00:36\n",
            "   ---------------- ----------------------- 17.8/44.0 MB 739.8 kB/s eta 0:00:36\n",
            "   ---------------- ----------------------- 17.8/44.0 MB 738.1 kB/s eta 0:00:36\n",
            "   ---------------- ----------------------- 17.9/44.0 MB 737.3 kB/s eta 0:00:36\n",
            "   ---------------- ----------------------- 17.9/44.0 MB 736.4 kB/s eta 0:00:36\n",
            "   ---------------- ----------------------- 18.0/44.0 MB 734.8 kB/s eta 0:00:36\n",
            "   ---------------- ----------------------- 18.0/44.0 MB 733.9 kB/s eta 0:00:36\n",
            "   ---------------- ----------------------- 18.0/44.0 MB 733.2 kB/s eta 0:00:36\n",
            "   ---------------- ----------------------- 18.0/44.0 MB 729.1 kB/s eta 0:00:36\n",
            "   ---------------- ----------------------- 18.0/44.0 MB 728.3 kB/s eta 0:00:36\n",
            "   ---------------- ----------------------- 18.1/44.0 MB 725.8 kB/s eta 0:00:36\n",
            "   ---------------- ----------------------- 18.1/44.0 MB 724.2 kB/s eta 0:00:36\n",
            "   ---------------- ----------------------- 18.1/44.0 MB 724.2 kB/s eta 0:00:36\n",
            "   ---------------- ----------------------- 18.2/44.0 MB 722.6 kB/s eta 0:00:36\n",
            "   ---------------- ----------------------- 18.2/44.0 MB 721.8 kB/s eta 0:00:36\n",
            "   ---------------- ----------------------- 18.2/44.0 MB 721.1 kB/s eta 0:00:36\n",
            "   ---------------- ----------------------- 18.3/44.0 MB 718.6 kB/s eta 0:00:36\n",
            "   ---------------- ----------------------- 18.3/44.0 MB 720.3 kB/s eta 0:00:36\n",
            "   ---------------- ----------------------- 18.3/44.0 MB 717.1 kB/s eta 0:00:36\n",
            "   ---------------- ----------------------- 18.4/44.0 MB 716.3 kB/s eta 0:00:36\n",
            "   ---------------- ----------------------- 18.4/44.0 MB 715.5 kB/s eta 0:00:36\n",
            "   ---------------- ----------------------- 18.4/44.0 MB 714.0 kB/s eta 0:00:36\n",
            "   ---------------- ----------------------- 18.4/44.0 MB 712.4 kB/s eta 0:00:36\n",
            "   ---------------- ----------------------- 18.5/44.0 MB 711.6 kB/s eta 0:00:36\n",
            "   ---------------- ----------------------- 18.5/44.0 MB 711.6 kB/s eta 0:00:36\n",
            "   ---------------- ----------------------- 18.5/44.0 MB 711.6 kB/s eta 0:00:36\n",
            "   ---------------- ----------------------- 18.5/44.0 MB 711.6 kB/s eta 0:00:36\n",
            "   ---------------- ----------------------- 18.5/44.0 MB 711.6 kB/s eta 0:00:36\n",
            "   ---------------- ----------------------- 18.5/44.0 MB 711.6 kB/s eta 0:00:36\n",
            "   ---------------- ----------------------- 18.5/44.0 MB 711.6 kB/s eta 0:00:36\n",
            "   ---------------- ----------------------- 18.5/44.0 MB 711.6 kB/s eta 0:00:36\n",
            "   ---------------- ----------------------- 18.5/44.0 MB 711.6 kB/s eta 0:00:36\n",
            "   ---------------- ----------------------- 18.5/44.0 MB 692.8 kB/s eta 0:00:37\n",
            "   ---------------- ----------------------- 18.5/44.0 MB 690.6 kB/s eta 0:00:37\n",
            "   ---------------- ----------------------- 18.6/44.0 MB 689.2 kB/s eta 0:00:37\n",
            "   ---------------- ----------------------- 18.6/44.0 MB 690.6 kB/s eta 0:00:37\n",
            "   ---------------- ----------------------- 18.6/44.0 MB 689.2 kB/s eta 0:00:37\n",
            "   ---------------- ----------------------- 18.6/44.0 MB 687.0 kB/s eta 0:00:37\n",
            "   ---------------- ----------------------- 18.6/44.0 MB 687.0 kB/s eta 0:00:37\n",
            "   ----------------- ---------------------- 18.7/44.0 MB 704.0 kB/s eta 0:00:36\n",
            "   ----------------- ---------------------- 18.7/44.0 MB 704.0 kB/s eta 0:00:36\n",
            "   ----------------- ---------------------- 18.7/44.0 MB 704.7 kB/s eta 0:00:36\n",
            "   ----------------- ---------------------- 18.8/44.0 MB 704.7 kB/s eta 0:00:36\n",
            "   ----------------- ---------------------- 18.8/44.0 MB 708.5 kB/s eta 0:00:36\n",
            "   ----------------- ---------------------- 18.8/44.0 MB 707.8 kB/s eta 0:00:36\n",
            "   ----------------- ---------------------- 18.8/44.0 MB 707.8 kB/s eta 0:00:36\n",
            "   ----------------- ---------------------- 18.9/44.0 MB 703.2 kB/s eta 0:00:36\n",
            "   ----------------- ---------------------- 18.9/44.0 MB 703.9 kB/s eta 0:00:36\n",
            "   ----------------- ---------------------- 18.9/44.0 MB 702.4 kB/s eta 0:00:36\n",
            "   ----------------- ---------------------- 18.9/44.0 MB 702.4 kB/s eta 0:00:36\n",
            "   ----------------- ---------------------- 19.0/44.0 MB 701.0 kB/s eta 0:00:36\n",
            "   ----------------- ---------------------- 19.0/44.0 MB 701.0 kB/s eta 0:00:36\n",
            "   ----------------- ---------------------- 19.0/44.0 MB 697.9 kB/s eta 0:00:36\n",
            "   ----------------- ---------------------- 19.1/44.0 MB 696.5 kB/s eta 0:00:36\n",
            "   ----------------- ---------------------- 19.1/44.0 MB 696.5 kB/s eta 0:00:36\n",
            "   ----------------- ---------------------- 19.1/44.0 MB 696.5 kB/s eta 0:00:36\n",
            "   ----------------- ---------------------- 19.1/44.0 MB 694.3 kB/s eta 0:00:36\n",
            "   ----------------- ---------------------- 19.1/44.0 MB 691.3 kB/s eta 0:00:36\n",
            "   ----------------- ---------------------- 19.2/44.0 MB 689.9 kB/s eta 0:00:36\n",
            "   ----------------- ---------------------- 19.2/44.0 MB 689.9 kB/s eta 0:00:36\n",
            "   ----------------- ---------------------- 19.2/44.0 MB 687.0 kB/s eta 0:00:37\n",
            "   ----------------- ---------------------- 19.2/44.0 MB 687.0 kB/s eta 0:00:37\n",
            "   ----------------- ---------------------- 19.2/44.0 MB 687.0 kB/s eta 0:00:37\n",
            "   ----------------- ---------------------- 19.2/44.0 MB 682.7 kB/s eta 0:00:37\n",
            "   ----------------- ---------------------- 19.2/44.0 MB 682.7 kB/s eta 0:00:37\n",
            "   ----------------- ---------------------- 19.2/44.0 MB 678.5 kB/s eta 0:00:37\n",
            "   ----------------- ---------------------- 19.3/44.0 MB 677.0 kB/s eta 0:00:37\n",
            "   ----------------- ---------------------- 19.3/44.0 MB 675.0 kB/s eta 0:00:37\n",
            "   ----------------- ---------------------- 19.3/44.0 MB 672.9 kB/s eta 0:00:37\n",
            "   ----------------- ---------------------- 19.3/44.0 MB 670.1 kB/s eta 0:00:37\n",
            "   ----------------- ---------------------- 19.3/44.0 MB 670.1 kB/s eta 0:00:37\n",
            "   ----------------- ---------------------- 19.3/44.0 MB 668.0 kB/s eta 0:00:37\n",
            "   ----------------- ---------------------- 19.3/44.0 MB 666.7 kB/s eta 0:00:37\n",
            "   ----------------- ---------------------- 19.4/44.0 MB 666.0 kB/s eta 0:00:37\n",
            "   ----------------- ---------------------- 19.4/44.0 MB 666.0 kB/s eta 0:00:37\n",
            "   ----------------- ---------------------- 19.4/44.0 MB 662.6 kB/s eta 0:00:38\n",
            "   ----------------- ---------------------- 19.4/44.0 MB 662.6 kB/s eta 0:00:38\n",
            "   ----------------- ---------------------- 19.4/44.0 MB 659.3 kB/s eta 0:00:38\n",
            "   ----------------- ---------------------- 19.5/44.0 MB 658.7 kB/s eta 0:00:38\n",
            "   ----------------- ---------------------- 19.5/44.0 MB 658.7 kB/s eta 0:00:38\n",
            "   ----------------- ---------------------- 19.5/44.0 MB 656.0 kB/s eta 0:00:38\n",
            "   ----------------- ---------------------- 19.5/44.0 MB 655.3 kB/s eta 0:00:38\n",
            "   ----------------- ---------------------- 19.5/44.0 MB 652.7 kB/s eta 0:00:38\n",
            "   ----------------- ---------------------- 19.6/44.0 MB 652.7 kB/s eta 0:00:38\n",
            "   ----------------- ---------------------- 19.6/44.0 MB 652.7 kB/s eta 0:00:38\n",
            "   ----------------- ---------------------- 19.6/44.0 MB 652.7 kB/s eta 0:00:38\n",
            "   ----------------- ---------------------- 19.6/44.0 MB 650.8 kB/s eta 0:00:38\n",
            "   ----------------- ---------------------- 19.6/44.0 MB 650.8 kB/s eta 0:00:38\n",
            "   ----------------- ---------------------- 19.7/44.0 MB 646.3 kB/s eta 0:00:38\n",
            "   ----------------- ---------------------- 19.7/44.0 MB 644.4 kB/s eta 0:00:38\n",
            "   ----------------- ---------------------- 19.7/44.0 MB 643.7 kB/s eta 0:00:38\n",
            "   ----------------- ---------------------- 19.8/44.0 MB 643.1 kB/s eta 0:00:38\n",
            "   ----------------- ---------------------- 19.8/44.0 MB 640.6 kB/s eta 0:00:38\n",
            "   ----------------- ---------------------- 19.8/44.0 MB 640.6 kB/s eta 0:00:38\n",
            "   ------------------ --------------------- 19.8/44.0 MB 640.0 kB/s eta 0:00:38\n",
            "   ------------------ --------------------- 19.8/44.0 MB 640.0 kB/s eta 0:00:38\n",
            "   ------------------ --------------------- 19.8/44.0 MB 637.5 kB/s eta 0:00:38\n",
            "   ------------------ --------------------- 19.9/44.0 MB 636.3 kB/s eta 0:00:38\n",
            "   ------------------ --------------------- 19.9/44.0 MB 635.6 kB/s eta 0:00:38\n",
            "   ------------------ --------------------- 19.9/44.0 MB 635.6 kB/s eta 0:00:38\n",
            "   ------------------ --------------------- 19.9/44.0 MB 634.4 kB/s eta 0:00:38\n",
            "   ------------------ --------------------- 20.0/44.0 MB 631.3 kB/s eta 0:00:38\n",
            "   ------------------ --------------------- 20.0/44.0 MB 630.7 kB/s eta 0:00:39\n",
            "   ------------------ --------------------- 20.0/44.0 MB 629.5 kB/s eta 0:00:39\n",
            "   ------------------ --------------------- 20.0/44.0 MB 629.5 kB/s eta 0:00:39\n",
            "   ------------------ --------------------- 20.0/44.0 MB 630.1 kB/s eta 0:00:38\n",
            "   ------------------ --------------------- 20.0/44.0 MB 628.9 kB/s eta 0:00:39\n",
            "   ------------------ --------------------- 20.1/44.0 MB 629.5 kB/s eta 0:00:38\n",
            "   ------------------ --------------------- 20.1/44.0 MB 628.3 kB/s eta 0:00:38\n",
            "   ------------------ --------------------- 20.2/44.0 MB 626.5 kB/s eta 0:00:38\n",
            "   ------------------ --------------------- 20.2/44.0 MB 627.7 kB/s eta 0:00:38\n",
            "   ------------------ --------------------- 20.2/44.0 MB 626.5 kB/s eta 0:00:38\n",
            "   ------------------ --------------------- 20.2/44.0 MB 624.7 kB/s eta 0:00:38\n",
            "   ------------------ --------------------- 20.3/44.0 MB 624.1 kB/s eta 0:00:38\n",
            "   ------------------ --------------------- 20.3/44.0 MB 623.5 kB/s eta 0:00:38\n",
            "   ------------------ --------------------- 20.4/44.0 MB 622.3 kB/s eta 0:00:38\n",
            "   ------------------ --------------------- 20.4/44.0 MB 621.8 kB/s eta 0:00:38\n",
            "   ------------------ --------------------- 20.4/44.0 MB 620.0 kB/s eta 0:00:38\n",
            "   ------------------ --------------------- 20.4/44.0 MB 620.0 kB/s eta 0:00:38\n",
            "   ------------------ --------------------- 20.5/44.0 MB 619.4 kB/s eta 0:00:38\n",
            "   ------------------ --------------------- 20.5/44.0 MB 618.2 kB/s eta 0:00:38\n",
            "   ------------------ --------------------- 20.6/44.0 MB 618.2 kB/s eta 0:00:38\n",
            "   ------------------ --------------------- 20.6/44.0 MB 616.5 kB/s eta 0:00:38\n",
            "   ------------------ --------------------- 20.6/44.0 MB 615.3 kB/s eta 0:00:38\n",
            "   ------------------ --------------------- 20.6/44.0 MB 615.3 kB/s eta 0:00:38\n",
            "   ------------------ --------------------- 20.7/44.0 MB 613.6 kB/s eta 0:00:38\n",
            "   ------------------ --------------------- 20.7/44.0 MB 613.6 kB/s eta 0:00:38\n",
            "   ------------------ --------------------- 20.7/44.0 MB 611.9 kB/s eta 0:00:38\n",
            "   ------------------ --------------------- 20.7/44.0 MB 611.9 kB/s eta 0:00:38\n",
            "   ------------------ --------------------- 20.7/44.0 MB 609.6 kB/s eta 0:00:39\n",
            "   ------------------ --------------------- 20.8/44.0 MB 607.9 kB/s eta 0:00:39\n",
            "   ------------------ --------------------- 20.8/44.0 MB 607.9 kB/s eta 0:00:39\n",
            "   ------------------ --------------------- 20.9/44.0 MB 606.8 kB/s eta 0:00:39\n",
            "   ------------------ --------------------- 20.9/44.0 MB 605.1 kB/s eta 0:00:39\n",
            "   ------------------- -------------------- 20.9/44.0 MB 605.1 kB/s eta 0:00:39\n",
            "   ------------------- -------------------- 20.9/44.0 MB 602.8 kB/s eta 0:00:39\n",
            "   ------------------- -------------------- 21.0/44.0 MB 604.0 kB/s eta 0:00:39\n",
            "   ------------------- -------------------- 21.0/44.0 MB 602.3 kB/s eta 0:00:39\n",
            "   ------------------- -------------------- 21.0/44.0 MB 602.3 kB/s eta 0:00:39\n",
            "   ------------------- -------------------- 21.1/44.0 MB 601.2 kB/s eta 0:00:39\n",
            "   ------------------- -------------------- 21.1/44.0 MB 600.1 kB/s eta 0:00:39\n",
            "   ------------------- -------------------- 21.1/44.0 MB 599.5 kB/s eta 0:00:39\n",
            "   ------------------- -------------------- 21.1/44.0 MB 598.4 kB/s eta 0:00:39\n",
            "   ------------------- -------------------- 21.1/44.0 MB 595.7 kB/s eta 0:00:39\n",
            "   ------------------- -------------------- 21.1/44.0 MB 602.3 kB/s eta 0:00:38\n",
            "   ------------------- -------------------- 21.2/44.0 MB 599.5 kB/s eta 0:00:38\n",
            "   ------------------- -------------------- 21.2/44.0 MB 598.4 kB/s eta 0:00:38\n",
            "   ------------------- -------------------- 21.2/44.0 MB 596.2 kB/s eta 0:00:39\n",
            "   ------------------- -------------------- 21.3/44.0 MB 596.8 kB/s eta 0:00:38\n",
            "   ------------------- -------------------- 21.3/44.0 MB 596.8 kB/s eta 0:00:38\n",
            "   ------------------- -------------------- 21.3/44.0 MB 595.2 kB/s eta 0:00:39\n",
            "   ------------------- -------------------- 21.3/44.0 MB 593.6 kB/s eta 0:00:39\n",
            "   ------------------- -------------------- 21.4/44.0 MB 594.1 kB/s eta 0:00:39\n",
            "   ------------------- -------------------- 21.4/44.0 MB 591.4 kB/s eta 0:00:39\n",
            "   ------------------- -------------------- 21.4/44.0 MB 590.9 kB/s eta 0:00:39\n",
            "   ------------------- -------------------- 21.5/44.0 MB 590.3 kB/s eta 0:00:39\n",
            "   ------------------- -------------------- 21.5/44.0 MB 589.8 kB/s eta 0:00:39\n",
            "   ------------------- -------------------- 21.6/44.0 MB 589.3 kB/s eta 0:00:39\n",
            "   ------------------- -------------------- 21.6/44.0 MB 588.3 kB/s eta 0:00:39\n",
            "   ------------------- -------------------- 21.6/44.0 MB 589.8 kB/s eta 0:00:38\n",
            "   ------------------- -------------------- 21.6/44.0 MB 588.8 kB/s eta 0:00:38\n",
            "   ------------------- -------------------- 21.7/44.0 MB 589.3 kB/s eta 0:00:38\n",
            "   ------------------- -------------------- 21.7/44.0 MB 592.0 kB/s eta 0:00:38\n",
            "   ------------------- -------------------- 21.8/44.0 MB 590.3 kB/s eta 0:00:38\n",
            "   ------------------- -------------------- 21.8/44.0 MB 591.5 kB/s eta 0:00:38\n",
            "   ------------------- -------------------- 21.9/44.0 MB 592.5 kB/s eta 0:00:38\n",
            "   ------------------- -------------------- 21.9/44.0 MB 594.1 kB/s eta 0:00:38\n",
            "   ------------------- -------------------- 22.0/44.0 MB 595.7 kB/s eta 0:00:37\n",
            "   ------------------- -------------------- 22.0/44.0 MB 596.8 kB/s eta 0:00:37\n",
            "   -------------------- ------------------- 22.0/44.0 MB 594.1 kB/s eta 0:00:37\n",
            "   -------------------- ------------------- 22.0/44.0 MB 594.1 kB/s eta 0:00:37\n",
            "   -------------------- ------------------- 22.0/44.0 MB 592.5 kB/s eta 0:00:37\n",
            "   -------------------- ------------------- 22.1/44.0 MB 592.5 kB/s eta 0:00:37\n",
            "   -------------------- ------------------- 22.1/44.0 MB 594.6 kB/s eta 0:00:37\n",
            "   -------------------- ------------------- 22.1/44.0 MB 591.4 kB/s eta 0:00:37\n",
            "   -------------------- ------------------- 22.1/44.0 MB 592.0 kB/s eta 0:00:37\n",
            "   -------------------- ------------------- 22.2/44.0 MB 593.6 kB/s eta 0:00:37\n",
            "   -------------------- ------------------- 22.2/44.0 MB 593.6 kB/s eta 0:00:37\n",
            "   -------------------- ------------------- 22.2/44.0 MB 592.0 kB/s eta 0:00:37\n",
            "   -------------------- ------------------- 22.3/44.0 MB 592.5 kB/s eta 0:00:37\n",
            "   -------------------- ------------------- 22.3/44.0 MB 592.5 kB/s eta 0:00:37\n",
            "   -------------------- ------------------- 22.4/44.0 MB 592.5 kB/s eta 0:00:37\n",
            "   -------------------- ------------------- 22.4/44.0 MB 592.0 kB/s eta 0:00:37\n",
            "   -------------------- ------------------- 22.4/44.0 MB 591.5 kB/s eta 0:00:37\n",
            "   -------------------- ------------------- 22.5/44.0 MB 592.5 kB/s eta 0:00:37\n",
            "   -------------------- ------------------- 22.5/44.0 MB 592.0 kB/s eta 0:00:37\n",
            "   -------------------- ------------------- 22.5/44.0 MB 591.5 kB/s eta 0:00:37\n",
            "   -------------------- ------------------- 22.5/44.0 MB 591.5 kB/s eta 0:00:37\n",
            "   -------------------- ------------------- 22.5/44.0 MB 591.5 kB/s eta 0:00:37\n",
            "   -------------------- ------------------- 22.5/44.0 MB 591.5 kB/s eta 0:00:37\n",
            "   -------------------- ------------------- 22.5/44.0 MB 591.5 kB/s eta 0:00:37\n",
            "   -------------------- ------------------- 22.5/44.0 MB 591.5 kB/s eta 0:00:37\n",
            "   -------------------- ------------------- 22.5/44.0 MB 591.5 kB/s eta 0:00:37\n",
            "   -------------------- ------------------- 22.6/44.0 MB 581.9 kB/s eta 0:00:37\n",
            "   -------------------- ------------------- 22.6/44.0 MB 581.9 kB/s eta 0:00:37\n",
            "   -------------------- ------------------- 22.6/44.0 MB 579.9 kB/s eta 0:00:37\n",
            "   -------------------- ------------------- 22.6/44.0 MB 579.4 kB/s eta 0:00:37\n",
            "   -------------------- ------------------- 22.7/44.0 MB 578.3 kB/s eta 0:00:37\n",
            "   -------------------- ------------------- 22.7/44.0 MB 578.3 kB/s eta 0:00:37\n",
            "   -------------------- ------------------- 22.7/44.0 MB 576.3 kB/s eta 0:00:37\n",
            "   -------------------- ------------------- 22.7/44.0 MB 576.3 kB/s eta 0:00:37\n",
            "   -------------------- ------------------- 22.7/44.0 MB 576.3 kB/s eta 0:00:37\n",
            "   -------------------- ------------------- 22.7/44.0 MB 573.8 kB/s eta 0:00:37\n",
            "   -------------------- ------------------- 22.8/44.0 MB 575.8 kB/s eta 0:00:37\n",
            "   -------------------- ------------------- 22.8/44.0 MB 573.8 kB/s eta 0:00:37\n",
            "   -------------------- ------------------- 22.8/44.0 MB 572.8 kB/s eta 0:00:37\n",
            "   -------------------- ------------------- 22.9/44.0 MB 573.8 kB/s eta 0:00:37\n",
            "   -------------------- ------------------- 22.9/44.0 MB 574.3 kB/s eta 0:00:37\n",
            "   -------------------- ------------------- 22.9/44.0 MB 573.8 kB/s eta 0:00:37\n",
            "   -------------------- ------------------- 23.0/44.0 MB 573.8 kB/s eta 0:00:37\n",
            "   -------------------- ------------------- 23.0/44.0 MB 574.3 kB/s eta 0:00:37\n",
            "   -------------------- ------------------- 23.0/44.0 MB 575.3 kB/s eta 0:00:37\n",
            "   -------------------- ------------------- 23.0/44.0 MB 573.3 kB/s eta 0:00:37\n",
            "   --------------------- ------------------ 23.1/44.0 MB 573.3 kB/s eta 0:00:37\n",
            "   --------------------- ------------------ 23.1/44.0 MB 573.3 kB/s eta 0:00:37\n",
            "   --------------------- ------------------ 23.1/44.0 MB 570.8 kB/s eta 0:00:37\n",
            "   --------------------- ------------------ 23.1/44.0 MB 570.8 kB/s eta 0:00:37\n",
            "   --------------------- ------------------ 23.1/44.0 MB 569.8 kB/s eta 0:00:37\n",
            "   --------------------- ------------------ 23.2/44.0 MB 569.8 kB/s eta 0:00:37\n",
            "   --------------------- ------------------ 23.2/44.0 MB 568.8 kB/s eta 0:00:37\n",
            "   --------------------- ------------------ 23.2/44.0 MB 569.3 kB/s eta 0:00:37\n",
            "   --------------------- ------------------ 23.2/44.0 MB 569.3 kB/s eta 0:00:37\n",
            "   --------------------- ------------------ 23.3/44.0 MB 569.8 kB/s eta 0:00:37\n",
            "   --------------------- ------------------ 23.3/44.0 MB 569.8 kB/s eta 0:00:37\n",
            "   --------------------- ------------------ 23.4/44.0 MB 569.3 kB/s eta 0:00:37\n",
            "   --------------------- ------------------ 23.4/44.0 MB 569.3 kB/s eta 0:00:37\n",
            "   --------------------- ------------------ 23.4/44.0 MB 568.3 kB/s eta 0:00:37\n",
            "   --------------------- ------------------ 23.4/44.0 MB 566.8 kB/s eta 0:00:37\n",
            "   --------------------- ------------------ 23.4/44.0 MB 566.8 kB/s eta 0:00:37\n",
            "   --------------------- ------------------ 23.4/44.0 MB 566.8 kB/s eta 0:00:37\n",
            "   --------------------- ------------------ 23.5/44.0 MB 566.4 kB/s eta 0:00:37\n",
            "   --------------------- ------------------ 23.5/44.0 MB 565.4 kB/s eta 0:00:37\n",
            "   --------------------- ------------------ 23.5/44.0 MB 564.9 kB/s eta 0:00:37\n",
            "   --------------------- ------------------ 23.5/44.0 MB 562.4 kB/s eta 0:00:37\n",
            "   --------------------- ------------------ 23.6/44.0 MB 561.0 kB/s eta 0:00:37\n",
            "   --------------------- ------------------ 23.6/44.0 MB 561.0 kB/s eta 0:00:37\n",
            "   --------------------- ------------------ 23.6/44.0 MB 559.1 kB/s eta 0:00:37\n",
            "   --------------------- ------------------ 23.6/44.0 MB 560.5 kB/s eta 0:00:37\n",
            "   --------------------- ------------------ 23.6/44.0 MB 559.6 kB/s eta 0:00:37\n",
            "   --------------------- ------------------ 23.6/44.0 MB 559.1 kB/s eta 0:00:37\n",
            "   --------------------- ------------------ 23.7/44.0 MB 558.1 kB/s eta 0:00:37\n",
            "   --------------------- ------------------ 23.7/44.0 MB 559.1 kB/s eta 0:00:37\n",
            "   --------------------- ------------------ 23.7/44.0 MB 559.1 kB/s eta 0:00:37\n",
            "   --------------------- ------------------ 23.7/44.0 MB 557.7 kB/s eta 0:00:37\n",
            "   --------------------- ------------------ 23.7/44.0 MB 556.7 kB/s eta 0:00:37\n",
            "   --------------------- ------------------ 23.8/44.0 MB 556.7 kB/s eta 0:00:37\n",
            "   --------------------- ------------------ 23.8/44.0 MB 555.8 kB/s eta 0:00:37\n",
            "   --------------------- ------------------ 23.8/44.0 MB 556.7 kB/s eta 0:00:37\n",
            "   --------------------- ------------------ 23.8/44.0 MB 555.3 kB/s eta 0:00:37\n",
            "   --------------------- ------------------ 23.9/44.0 MB 553.4 kB/s eta 0:00:37\n",
            "   --------------------- ------------------ 23.9/44.0 MB 555.8 kB/s eta 0:00:37\n",
            "   --------------------- ------------------ 23.9/44.0 MB 555.8 kB/s eta 0:00:37\n",
            "   --------------------- ------------------ 23.9/44.0 MB 555.8 kB/s eta 0:00:37\n",
            "   --------------------- ------------------ 23.9/44.0 MB 553.0 kB/s eta 0:00:37\n",
            "   --------------------- ------------------ 23.9/44.0 MB 553.0 kB/s eta 0:00:37\n",
            "   --------------------- ------------------ 24.0/44.0 MB 551.6 kB/s eta 0:00:37\n",
            "   --------------------- ------------------ 24.0/44.0 MB 549.7 kB/s eta 0:00:37\n",
            "   --------------------- ------------------ 24.0/44.0 MB 550.6 kB/s eta 0:00:37\n",
            "   --------------------- ------------------ 24.0/44.0 MB 548.8 kB/s eta 0:00:37\n",
            "   --------------------- ------------------ 24.1/44.0 MB 548.8 kB/s eta 0:00:37\n",
            "   --------------------- ------------------ 24.1/44.0 MB 548.3 kB/s eta 0:00:37\n",
            "   --------------------- ------------------ 24.1/44.0 MB 547.4 kB/s eta 0:00:37\n",
            "   --------------------- ------------------ 24.1/44.0 MB 546.5 kB/s eta 0:00:37\n",
            "   --------------------- ------------------ 24.1/44.0 MB 546.5 kB/s eta 0:00:37\n",
            "   --------------------- ------------------ 24.1/44.0 MB 545.2 kB/s eta 0:00:37\n",
            "   ---------------------- ----------------- 24.2/44.0 MB 546.0 kB/s eta 0:00:37\n",
            "   ---------------------- ----------------- 24.2/44.0 MB 546.0 kB/s eta 0:00:37\n",
            "   ---------------------- ----------------- 24.2/44.0 MB 546.0 kB/s eta 0:00:37\n",
            "   ---------------------- ----------------- 24.2/44.0 MB 546.0 kB/s eta 0:00:37\n",
            "   ---------------------- ----------------- 24.2/44.0 MB 546.0 kB/s eta 0:00:37\n",
            "   ---------------------- ----------------- 24.2/44.0 MB 546.0 kB/s eta 0:00:37\n",
            "   ---------------------- ----------------- 24.2/44.0 MB 538.0 kB/s eta 0:00:37\n",
            "   ---------------------- ----------------- 24.2/44.0 MB 538.0 kB/s eta 0:00:37\n",
            "   ---------------------- ----------------- 24.2/44.0 MB 537.1 kB/s eta 0:00:37\n",
            "   ---------------------- ----------------- 24.3/44.0 MB 537.1 kB/s eta 0:00:37\n",
            "   ---------------------- ----------------- 24.3/44.0 MB 535.3 kB/s eta 0:00:37\n",
            "   ---------------------- ----------------- 24.3/44.0 MB 536.2 kB/s eta 0:00:37\n",
            "   ---------------------- ----------------- 24.3/44.0 MB 534.0 kB/s eta 0:00:37\n",
            "   ---------------------- ----------------- 24.4/44.0 MB 534.9 kB/s eta 0:00:37\n",
            "   ---------------------- ----------------- 24.4/44.0 MB 534.0 kB/s eta 0:00:37\n",
            "   ---------------------- ----------------- 24.4/44.0 MB 533.6 kB/s eta 0:00:37\n",
            "   ---------------------- ----------------- 24.4/44.0 MB 532.7 kB/s eta 0:00:37\n",
            "   ---------------------- ----------------- 24.5/44.0 MB 532.7 kB/s eta 0:00:37\n",
            "   ---------------------- ----------------- 24.5/44.0 MB 532.7 kB/s eta 0:00:37\n",
            "   ---------------------- ----------------- 24.5/44.0 MB 531.4 kB/s eta 0:00:37\n",
            "   ---------------------- ----------------- 24.5/44.0 MB 530.6 kB/s eta 0:00:37\n",
            "   ---------------------- ----------------- 24.6/44.0 MB 530.1 kB/s eta 0:00:37\n",
            "   ---------------------- ----------------- 24.6/44.0 MB 530.5 kB/s eta 0:00:37\n",
            "   ---------------------- ----------------- 24.6/44.0 MB 528.8 kB/s eta 0:00:37\n",
            "   ---------------------- ----------------- 24.6/44.0 MB 528.8 kB/s eta 0:00:37\n",
            "   ---------------------- ----------------- 24.6/44.0 MB 528.8 kB/s eta 0:00:37\n",
            "   ---------------------- ----------------- 24.6/44.0 MB 528.8 kB/s eta 0:00:37\n",
            "   ---------------------- ----------------- 24.7/44.0 MB 528.4 kB/s eta 0:00:37\n",
            "   ---------------------- ----------------- 24.7/44.0 MB 527.1 kB/s eta 0:00:37\n",
            "   ---------------------- ----------------- 24.7/44.0 MB 527.1 kB/s eta 0:00:37\n",
            "   ---------------------- ----------------- 24.8/44.0 MB 525.4 kB/s eta 0:00:37\n",
            "   ---------------------- ----------------- 24.8/44.0 MB 525.4 kB/s eta 0:00:37\n",
            "   ---------------------- ----------------- 24.8/44.0 MB 524.2 kB/s eta 0:00:37\n",
            "   ---------------------- ----------------- 24.8/44.0 MB 524.2 kB/s eta 0:00:37\n",
            "   ---------------------- ----------------- 24.8/44.0 MB 524.2 kB/s eta 0:00:37\n",
            "   ---------------------- ----------------- 24.8/44.0 MB 524.2 kB/s eta 0:00:37\n",
            "   ---------------------- ----------------- 24.8/44.0 MB 524.2 kB/s eta 0:00:37\n",
            "   ---------------------- ----------------- 24.8/44.0 MB 524.2 kB/s eta 0:00:37\n",
            "   ---------------------- ----------------- 24.9/44.0 MB 519.2 kB/s eta 0:00:37\n",
            "   ---------------------- ----------------- 24.9/44.0 MB 519.2 kB/s eta 0:00:37\n",
            "   ---------------------- ----------------- 24.9/44.0 MB 517.5 kB/s eta 0:00:37\n",
            "   ---------------------- ----------------- 24.9/44.0 MB 516.3 kB/s eta 0:00:37\n",
            "   ---------------------- ----------------- 24.9/44.0 MB 515.1 kB/s eta 0:00:37\n",
            "   ---------------------- ----------------- 24.9/44.0 MB 515.1 kB/s eta 0:00:37\n",
            "   ---------------------- ----------------- 25.0/44.0 MB 513.9 kB/s eta 0:00:37\n",
            "   ---------------------- ----------------- 25.0/44.0 MB 513.9 kB/s eta 0:00:37\n",
            "   ---------------------- ----------------- 25.0/44.0 MB 513.1 kB/s eta 0:00:37\n",
            "   ---------------------- ----------------- 25.0/44.0 MB 512.3 kB/s eta 0:00:37\n",
            "   ---------------------- ----------------- 25.1/44.0 MB 511.5 kB/s eta 0:00:37\n",
            "   ---------------------- ----------------- 25.1/44.0 MB 511.5 kB/s eta 0:00:37\n",
            "   ---------------------- ----------------- 25.1/44.0 MB 510.7 kB/s eta 0:00:37\n",
            "   ---------------------- ----------------- 25.1/44.0 MB 509.9 kB/s eta 0:00:37\n",
            "   ---------------------- ----------------- 25.1/44.0 MB 508.7 kB/s eta 0:00:37\n",
            "   ---------------------- ----------------- 25.1/44.0 MB 508.7 kB/s eta 0:00:37\n",
            "   ---------------------- ----------------- 25.2/44.0 MB 507.5 kB/s eta 0:00:38\n",
            "   ---------------------- ----------------- 25.2/44.0 MB 507.5 kB/s eta 0:00:38\n",
            "   ---------------------- ----------------- 25.2/44.0 MB 507.5 kB/s eta 0:00:38\n",
            "   ---------------------- ----------------- 25.2/44.0 MB 507.5 kB/s eta 0:00:38\n",
            "   ---------------------- ----------------- 25.2/44.0 MB 507.5 kB/s eta 0:00:38\n",
            "   ---------------------- ----------------- 25.2/44.0 MB 507.5 kB/s eta 0:00:38\n",
            "   ---------------------- ----------------- 25.2/44.0 MB 502.1 kB/s eta 0:00:38\n",
            "   ---------------------- ----------------- 25.2/44.0 MB 500.9 kB/s eta 0:00:38\n",
            "   ---------------------- ----------------- 25.2/44.0 MB 499.8 kB/s eta 0:00:38\n",
            "   ---------------------- ----------------- 25.2/44.0 MB 499.8 kB/s eta 0:00:38\n",
            "   ---------------------- ----------------- 25.3/44.0 MB 499.4 kB/s eta 0:00:38\n",
            "   ---------------------- ----------------- 25.3/44.0 MB 499.4 kB/s eta 0:00:38\n",
            "   ---------------------- ----------------- 25.3/44.0 MB 497.9 kB/s eta 0:00:38\n",
            "   ----------------------- ---------------- 25.3/44.0 MB 497.9 kB/s eta 0:00:38\n",
            "   ----------------------- ---------------- 25.3/44.0 MB 496.4 kB/s eta 0:00:38\n",
            "   ----------------------- ---------------- 25.3/44.0 MB 496.4 kB/s eta 0:00:38\n",
            "   ----------------------- ---------------- 25.4/44.0 MB 496.7 kB/s eta 0:00:38\n",
            "   ----------------------- ---------------- 25.4/44.0 MB 496.7 kB/s eta 0:00:38\n",
            "   ----------------------- ---------------- 25.4/44.0 MB 496.0 kB/s eta 0:00:38\n",
            "   ----------------------- ---------------- 25.4/44.0 MB 496.0 kB/s eta 0:00:38\n",
            "   ----------------------- ---------------- 25.4/44.0 MB 495.6 kB/s eta 0:00:38\n",
            "   ----------------------- ---------------- 25.5/44.0 MB 496.0 kB/s eta 0:00:38\n",
            "   ----------------------- ---------------- 25.5/44.0 MB 496.0 kB/s eta 0:00:38\n",
            "   ----------------------- ---------------- 25.5/44.0 MB 494.9 kB/s eta 0:00:38\n",
            "   ----------------------- ---------------- 25.5/44.0 MB 493.7 kB/s eta 0:00:38\n",
            "   ----------------------- ---------------- 25.5/44.0 MB 493.4 kB/s eta 0:00:38\n",
            "   ----------------------- ---------------- 25.6/44.0 MB 493.4 kB/s eta 0:00:38\n",
            "   ----------------------- ---------------- 25.6/44.0 MB 493.4 kB/s eta 0:00:38\n",
            "   ----------------------- ---------------- 25.6/44.0 MB 493.4 kB/s eta 0:00:38\n",
            "   ----------------------- ---------------- 25.6/44.0 MB 494.5 kB/s eta 0:00:38\n",
            "   ----------------------- ---------------- 25.7/44.0 MB 494.1 kB/s eta 0:00:38\n",
            "   ----------------------- ---------------- 25.7/44.0 MB 494.9 kB/s eta 0:00:37\n",
            "   ----------------------- ---------------- 25.7/44.0 MB 494.5 kB/s eta 0:00:37\n",
            "   ----------------------- ---------------- 25.7/44.0 MB 494.1 kB/s eta 0:00:37\n",
            "   ----------------------- ---------------- 25.7/44.0 MB 493.8 kB/s eta 0:00:37\n",
            "   ----------------------- ---------------- 25.8/44.0 MB 493.0 kB/s eta 0:00:37\n",
            "   ----------------------- ---------------- 25.8/44.0 MB 493.0 kB/s eta 0:00:37\n",
            "   ----------------------- ---------------- 25.8/44.0 MB 492.6 kB/s eta 0:00:37\n",
            "   ----------------------- ---------------- 25.8/44.0 MB 492.6 kB/s eta 0:00:37\n",
            "   ----------------------- ---------------- 25.8/44.0 MB 492.6 kB/s eta 0:00:37\n",
            "   ----------------------- ---------------- 25.8/44.0 MB 492.6 kB/s eta 0:00:37\n",
            "   ----------------------- ---------------- 25.8/44.0 MB 492.6 kB/s eta 0:00:37\n",
            "   ----------------------- ---------------- 25.8/44.0 MB 489.7 kB/s eta 0:00:37\n",
            "   ----------------------- ---------------- 25.8/44.0 MB 489.7 kB/s eta 0:00:37\n",
            "   ----------------------- ---------------- 25.9/44.0 MB 487.9 kB/s eta 0:00:38\n",
            "   ----------------------- ---------------- 25.9/44.0 MB 487.9 kB/s eta 0:00:38\n",
            "   ----------------------- ---------------- 25.9/44.0 MB 487.5 kB/s eta 0:00:37\n",
            "   ----------------------- ---------------- 25.9/44.0 MB 488.6 kB/s eta 0:00:37\n",
            "   ----------------------- ---------------- 26.0/44.0 MB 490.0 kB/s eta 0:00:37\n",
            "   ----------------------- ---------------- 26.0/44.0 MB 490.0 kB/s eta 0:00:37\n",
            "   ----------------------- ---------------- 26.0/44.0 MB 490.8 kB/s eta 0:00:37\n",
            "   ----------------------- ---------------- 26.0/44.0 MB 490.4 kB/s eta 0:00:37\n",
            "   ----------------------- ---------------- 26.0/44.0 MB 490.4 kB/s eta 0:00:37\n",
            "   ----------------------- ---------------- 26.0/44.0 MB 490.4 kB/s eta 0:00:37\n",
            "   ----------------------- ---------------- 26.0/44.0 MB 490.4 kB/s eta 0:00:37\n",
            "   ----------------------- ---------------- 26.1/44.0 MB 488.9 kB/s eta 0:00:37\n",
            "   ----------------------- ---------------- 26.1/44.0 MB 488.9 kB/s eta 0:00:37\n",
            "   ----------------------- ---------------- 26.1/44.0 MB 486.8 kB/s eta 0:00:37\n",
            "   ----------------------- ---------------- 26.1/44.0 MB 486.8 kB/s eta 0:00:37\n",
            "   ----------------------- ---------------- 26.1/44.0 MB 486.8 kB/s eta 0:00:37\n",
            "   ----------------------- ---------------- 26.1/44.0 MB 486.8 kB/s eta 0:00:37\n",
            "   ----------------------- ---------------- 26.1/44.0 MB 486.8 kB/s eta 0:00:37\n",
            "   ----------------------- ---------------- 26.1/44.0 MB 486.8 kB/s eta 0:00:37\n",
            "   ----------------------- ---------------- 26.2/44.0 MB 481.4 kB/s eta 0:00:37\n",
            "   ----------------------- ---------------- 26.2/44.0 MB 481.4 kB/s eta 0:00:37\n",
            "   ----------------------- ---------------- 26.2/44.0 MB 480.0 kB/s eta 0:00:38\n",
            "   ----------------------- ---------------- 26.2/44.0 MB 479.3 kB/s eta 0:00:38\n",
            "   ----------------------- ---------------- 26.2/44.0 MB 479.3 kB/s eta 0:00:38\n",
            "   ----------------------- ---------------- 26.2/44.0 MB 478.6 kB/s eta 0:00:38\n",
            "   ----------------------- ---------------- 26.3/44.0 MB 478.6 kB/s eta 0:00:37\n",
            "   ----------------------- ---------------- 26.3/44.0 MB 477.9 kB/s eta 0:00:37\n",
            "   ----------------------- ---------------- 26.3/44.0 MB 477.2 kB/s eta 0:00:37\n",
            "   ----------------------- ---------------- 26.3/44.0 MB 478.9 kB/s eta 0:00:37\n",
            "   ------------------------ --------------- 26.4/44.0 MB 478.6 kB/s eta 0:00:37\n",
            "   ------------------------ --------------- 26.4/44.0 MB 478.6 kB/s eta 0:00:37\n",
            "   ------------------------ --------------- 26.4/44.0 MB 478.6 kB/s eta 0:00:37\n",
            "   ------------------------ --------------- 26.5/44.0 MB 477.2 kB/s eta 0:00:37\n",
            "   ------------------------ --------------- 26.5/44.0 MB 477.5 kB/s eta 0:00:37\n",
            "   ------------------------ --------------- 26.5/44.0 MB 477.6 kB/s eta 0:00:37\n",
            "   ------------------------ --------------- 26.5/44.0 MB 477.9 kB/s eta 0:00:37\n",
            "   ------------------------ --------------- 26.6/44.0 MB 477.2 kB/s eta 0:00:37\n",
            "   ------------------------ --------------- 26.6/44.0 MB 477.2 kB/s eta 0:00:37\n",
            "   ------------------------ --------------- 26.6/44.0 MB 477.2 kB/s eta 0:00:37\n",
            "   ------------------------ --------------- 26.7/44.0 MB 476.8 kB/s eta 0:00:37\n",
            "   ------------------------ --------------- 26.7/44.0 MB 476.8 kB/s eta 0:00:37\n",
            "   ------------------------ --------------- 26.7/44.0 MB 476.1 kB/s eta 0:00:37\n",
            "   ------------------------ --------------- 26.8/44.0 MB 477.2 kB/s eta 0:00:37\n",
            "   ------------------------ --------------- 26.8/44.0 MB 476.8 kB/s eta 0:00:37\n",
            "   ------------------------ --------------- 26.8/44.0 MB 477.2 kB/s eta 0:00:36\n",
            "   ------------------------ --------------- 26.8/44.0 MB 476.8 kB/s eta 0:00:36\n",
            "   ------------------------ --------------- 26.9/44.0 MB 476.8 kB/s eta 0:00:36\n",
            "   ------------------------ --------------- 26.9/44.0 MB 476.2 kB/s eta 0:00:36\n",
            "   ------------------------ --------------- 26.9/44.0 MB 475.4 kB/s eta 0:00:36\n",
            "   ------------------------ --------------- 27.0/44.0 MB 476.5 kB/s eta 0:00:36\n",
            "   ------------------------ --------------- 27.0/44.0 MB 477.5 kB/s eta 0:00:36\n",
            "   ------------------------ --------------- 27.0/44.0 MB 477.5 kB/s eta 0:00:36\n",
            "   ------------------------ --------------- 27.0/44.0 MB 475.8 kB/s eta 0:00:36\n",
            "   ------------------------ --------------- 27.0/44.0 MB 474.4 kB/s eta 0:00:36\n",
            "   ------------------------ --------------- 27.1/44.0 MB 476.8 kB/s eta 0:00:36\n",
            "   ------------------------ --------------- 27.1/44.0 MB 475.8 kB/s eta 0:00:36\n",
            "   ------------------------ --------------- 27.1/44.0 MB 475.8 kB/s eta 0:00:36\n",
            "   ------------------------ --------------- 27.1/44.0 MB 474.1 kB/s eta 0:00:36\n",
            "   ------------------------ --------------- 27.1/44.0 MB 474.1 kB/s eta 0:00:36\n",
            "   ------------------------ --------------- 27.1/44.0 MB 474.1 kB/s eta 0:00:36\n",
            "   ------------------------ --------------- 27.2/44.0 MB 473.4 kB/s eta 0:00:36\n",
            "   ------------------------ --------------- 27.2/44.0 MB 473.4 kB/s eta 0:00:36\n",
            "   ------------------------ --------------- 27.2/44.0 MB 473.4 kB/s eta 0:00:36\n",
            "   ------------------------ --------------- 27.2/44.0 MB 473.1 kB/s eta 0:00:36\n",
            "   ------------------------ --------------- 27.3/44.0 MB 472.4 kB/s eta 0:00:36\n",
            "   ------------------------ --------------- 27.3/44.0 MB 472.7 kB/s eta 0:00:36\n",
            "   ------------------------ --------------- 27.3/44.0 MB 472.7 kB/s eta 0:00:36\n",
            "   ------------------------ --------------- 27.4/44.0 MB 472.4 kB/s eta 0:00:36\n",
            "   ------------------------ --------------- 27.4/44.0 MB 472.4 kB/s eta 0:00:36\n",
            "   ------------------------ --------------- 27.4/44.0 MB 471.7 kB/s eta 0:00:36\n",
            "   ------------------------ --------------- 27.4/44.0 MB 471.7 kB/s eta 0:00:36\n",
            "   ------------------------- -------------- 27.5/44.0 MB 472.0 kB/s eta 0:00:35\n",
            "   ------------------------- -------------- 27.5/44.0 MB 475.4 kB/s eta 0:00:35\n",
            "   ------------------------- -------------- 27.6/44.0 MB 477.2 kB/s eta 0:00:35\n",
            "   ------------------------- -------------- 27.6/44.0 MB 479.3 kB/s eta 0:00:35\n",
            "   ------------------------- -------------- 27.6/44.0 MB 479.3 kB/s eta 0:00:35\n",
            "   ------------------------- -------------- 27.6/44.0 MB 479.3 kB/s eta 0:00:35\n",
            "   ------------------------- -------------- 27.7/44.0 MB 479.3 kB/s eta 0:00:35\n",
            "   ------------------------- -------------- 27.7/44.0 MB 479.3 kB/s eta 0:00:35\n",
            "   ------------------------- -------------- 27.7/44.0 MB 479.6 kB/s eta 0:00:34\n",
            "   ------------------------- -------------- 27.7/44.0 MB 480.0 kB/s eta 0:00:34\n",
            "   ------------------------- -------------- 27.7/44.0 MB 479.6 kB/s eta 0:00:34\n",
            "   ------------------------- -------------- 27.8/44.0 MB 479.3 kB/s eta 0:00:34\n",
            "   ------------------------- -------------- 27.8/44.0 MB 480.7 kB/s eta 0:00:34\n",
            "   ------------------------- -------------- 27.8/44.0 MB 480.0 kB/s eta 0:00:34\n",
            "   ------------------------- -------------- 27.9/44.0 MB 481.4 kB/s eta 0:00:34\n",
            "   ------------------------- -------------- 27.9/44.0 MB 481.8 kB/s eta 0:00:34\n",
            "   ------------------------- -------------- 27.9/44.0 MB 481.8 kB/s eta 0:00:34\n",
            "   ------------------------- -------------- 28.0/44.0 MB 483.9 kB/s eta 0:00:34\n",
            "   ------------------------- -------------- 28.0/44.0 MB 484.6 kB/s eta 0:00:33\n",
            "   ------------------------- -------------- 28.0/44.0 MB 484.2 kB/s eta 0:00:33\n",
            "   ------------------------- -------------- 28.0/44.0 MB 484.6 kB/s eta 0:00:33\n",
            "   ------------------------- -------------- 28.1/44.0 MB 484.2 kB/s eta 0:00:33\n",
            "   ------------------------- -------------- 28.1/44.0 MB 484.6 kB/s eta 0:00:33\n",
            "   ------------------------- -------------- 28.2/44.0 MB 484.6 kB/s eta 0:00:33\n",
            "   ------------------------- -------------- 28.2/44.0 MB 485.0 kB/s eta 0:00:33\n",
            "   ------------------------- -------------- 28.2/44.0 MB 485.0 kB/s eta 0:00:33\n",
            "   ------------------------- -------------- 28.3/44.0 MB 485.7 kB/s eta 0:00:33\n",
            "   ------------------------- -------------- 28.3/44.0 MB 486.8 kB/s eta 0:00:33\n",
            "   ------------------------- -------------- 28.3/44.0 MB 486.0 kB/s eta 0:00:33\n",
            "   ------------------------- -------------- 28.3/44.0 MB 486.0 kB/s eta 0:00:33\n",
            "   ------------------------- -------------- 28.4/44.0 MB 485.7 kB/s eta 0:00:33\n",
            "   ------------------------- -------------- 28.4/44.0 MB 484.2 kB/s eta 0:00:33\n",
            "   ------------------------- -------------- 28.4/44.0 MB 484.6 kB/s eta 0:00:33\n",
            "   ------------------------- -------------- 28.4/44.0 MB 484.2 kB/s eta 0:00:33\n",
            "   ------------------------- -------------- 28.5/44.0 MB 483.5 kB/s eta 0:00:33\n",
            "   ------------------------- -------------- 28.5/44.0 MB 483.2 kB/s eta 0:00:33\n",
            "   ------------------------- -------------- 28.5/44.0 MB 483.2 kB/s eta 0:00:32\n",
            "   ------------------------- -------------- 28.6/44.0 MB 483.5 kB/s eta 0:00:32\n",
            "   -------------------------- ------------- 28.6/44.0 MB 485.0 kB/s eta 0:00:32\n",
            "   -------------------------- ------------- 28.6/44.0 MB 484.2 kB/s eta 0:00:32\n",
            "   -------------------------- ------------- 28.7/44.0 MB 485.0 kB/s eta 0:00:32\n",
            "   -------------------------- ------------- 28.7/44.0 MB 495.2 kB/s eta 0:00:31\n",
            "   -------------------------- ------------- 28.8/44.0 MB 495.6 kB/s eta 0:00:31\n",
            "   -------------------------- ------------- 28.8/44.0 MB 496.0 kB/s eta 0:00:31\n",
            "   -------------------------- ------------- 28.8/44.0 MB 495.2 kB/s eta 0:00:31\n",
            "   -------------------------- ------------- 28.8/44.0 MB 495.2 kB/s eta 0:00:31\n",
            "   -------------------------- ------------- 28.8/44.0 MB 494.1 kB/s eta 0:00:31\n",
            "   -------------------------- ------------- 28.9/44.0 MB 496.0 kB/s eta 0:00:31\n",
            "   -------------------------- ------------- 28.9/44.0 MB 494.5 kB/s eta 0:00:31\n",
            "   -------------------------- ------------- 29.0/44.0 MB 495.6 kB/s eta 0:00:31\n",
            "   -------------------------- ------------- 29.0/44.0 MB 496.3 kB/s eta 0:00:31\n",
            "   -------------------------- ------------- 29.1/44.0 MB 496.7 kB/s eta 0:00:31\n",
            "   -------------------------- ------------- 29.1/44.0 MB 499.0 kB/s eta 0:00:30\n",
            "   -------------------------- ------------- 29.1/44.0 MB 499.4 kB/s eta 0:00:30\n",
            "   -------------------------- ------------- 29.2/44.0 MB 499.8 kB/s eta 0:00:30\n",
            "   -------------------------- ------------- 29.2/44.0 MB 500.9 kB/s eta 0:00:30\n",
            "   -------------------------- ------------- 29.3/44.0 MB 501.7 kB/s eta 0:00:30\n",
            "   -------------------------- ------------- 29.3/44.0 MB 502.5 kB/s eta 0:00:30\n",
            "   -------------------------- ------------- 29.4/44.0 MB 502.1 kB/s eta 0:00:30\n",
            "   -------------------------- ------------- 29.4/44.0 MB 508.3 kB/s eta 0:00:29\n",
            "   -------------------------- ------------- 29.5/44.0 MB 510.3 kB/s eta 0:00:29\n",
            "   -------------------------- ------------- 29.5/44.0 MB 511.9 kB/s eta 0:00:29\n",
            "   -------------------------- ------------- 29.5/44.0 MB 514.3 kB/s eta 0:00:29\n",
            "   -------------------------- ------------- 29.6/44.0 MB 515.5 kB/s eta 0:00:28\n",
            "   -------------------------- ------------- 29.6/44.0 MB 517.5 kB/s eta 0:00:28\n",
            "   -------------------------- ------------- 29.6/44.0 MB 518.4 kB/s eta 0:00:28\n",
            "   --------------------------- ------------ 29.7/44.0 MB 520.8 kB/s eta 0:00:28\n",
            "   --------------------------- ------------ 29.7/44.0 MB 520.4 kB/s eta 0:00:28\n",
            "   --------------------------- ------------ 29.8/44.0 MB 521.3 kB/s eta 0:00:28\n",
            "   --------------------------- ------------ 29.8/44.0 MB 522.9 kB/s eta 0:00:28\n",
            "   --------------------------- ------------ 29.9/44.0 MB 525.5 kB/s eta 0:00:27\n",
            "   --------------------------- ------------ 29.9/44.0 MB 526.3 kB/s eta 0:00:27\n",
            "   --------------------------- ------------ 29.9/44.0 MB 526.3 kB/s eta 0:00:27\n",
            "   --------------------------- ------------ 30.0/44.0 MB 526.3 kB/s eta 0:00:27\n",
            "   --------------------------- ------------ 30.0/44.0 MB 529.3 kB/s eta 0:00:27\n",
            "   --------------------------- ------------ 30.1/44.0 MB 530.6 kB/s eta 0:00:27\n",
            "   --------------------------- ------------ 30.1/44.0 MB 533.1 kB/s eta 0:00:26\n",
            "   --------------------------- ------------ 30.2/44.0 MB 533.1 kB/s eta 0:00:26\n",
            "   --------------------------- ------------ 30.2/44.0 MB 534.0 kB/s eta 0:00:26\n",
            "   --------------------------- ------------ 30.3/44.0 MB 537.1 kB/s eta 0:00:26\n",
            "   --------------------------- ------------ 30.3/44.0 MB 537.1 kB/s eta 0:00:26\n",
            "   --------------------------- ------------ 30.3/44.0 MB 537.1 kB/s eta 0:00:26\n",
            "   --------------------------- ------------ 30.3/44.0 MB 537.1 kB/s eta 0:00:26\n",
            "   --------------------------- ------------ 30.3/44.0 MB 537.1 kB/s eta 0:00:26\n",
            "   --------------------------- ------------ 30.3/44.0 MB 537.1 kB/s eta 0:00:26\n",
            "   --------------------------- ------------ 30.3/44.0 MB 530.6 kB/s eta 0:00:26\n",
            "   --------------------------- ------------ 30.3/44.0 MB 531.4 kB/s eta 0:00:26\n",
            "   --------------------------- ------------ 30.4/44.0 MB 531.4 kB/s eta 0:00:26\n",
            "   --------------------------- ------------ 30.4/44.0 MB 531.0 kB/s eta 0:00:26\n",
            "   --------------------------- ------------ 30.5/44.0 MB 532.3 kB/s eta 0:00:26\n",
            "   --------------------------- ------------ 30.5/44.0 MB 533.6 kB/s eta 0:00:26\n",
            "   --------------------------- ------------ 30.5/44.0 MB 532.7 kB/s eta 0:00:26\n",
            "   --------------------------- ------------ 30.6/44.0 MB 532.7 kB/s eta 0:00:26\n",
            "   --------------------------- ------------ 30.6/44.0 MB 534.4 kB/s eta 0:00:25\n",
            "   --------------------------- ------------ 30.7/44.0 MB 534.9 kB/s eta 0:00:25\n",
            "   --------------------------- ------------ 30.8/44.0 MB 535.3 kB/s eta 0:00:25\n",
            "   ---------------------------- ----------- 30.9/44.0 MB 538.9 kB/s eta 0:00:25\n",
            "   ---------------------------- ----------- 30.9/44.0 MB 538.9 kB/s eta 0:00:25\n",
            "   ---------------------------- ----------- 30.9/44.0 MB 538.9 kB/s eta 0:00:25\n",
            "   ---------------------------- ----------- 30.9/44.0 MB 536.2 kB/s eta 0:00:25\n",
            "   ---------------------------- ----------- 30.9/44.0 MB 538.0 kB/s eta 0:00:25\n",
            "   ---------------------------- ----------- 31.0/44.0 MB 538.0 kB/s eta 0:00:25\n",
            "   ---------------------------- ----------- 31.0/44.0 MB 540.2 kB/s eta 0:00:24\n",
            "   ---------------------------- ----------- 31.1/44.0 MB 539.3 kB/s eta 0:00:24\n",
            "   ---------------------------- ----------- 31.1/44.0 MB 538.8 kB/s eta 0:00:24\n",
            "   ---------------------------- ----------- 31.1/44.0 MB 538.8 kB/s eta 0:00:24\n",
            "   ---------------------------- ----------- 31.1/44.0 MB 539.3 kB/s eta 0:00:24\n",
            "   ---------------------------- ----------- 31.2/44.0 MB 540.7 kB/s eta 0:00:24\n",
            "   ---------------------------- ----------- 31.2/44.0 MB 540.2 kB/s eta 0:00:24\n",
            "   ---------------------------- ----------- 31.2/44.0 MB 540.2 kB/s eta 0:00:24\n",
            "   ---------------------------- ----------- 31.2/44.0 MB 537.5 kB/s eta 0:00:24\n",
            "   ---------------------------- ----------- 31.3/44.0 MB 538.4 kB/s eta 0:00:24\n",
            "   ---------------------------- ----------- 31.3/44.0 MB 539.7 kB/s eta 0:00:24\n",
            "   ---------------------------- ----------- 31.4/44.0 MB 542.0 kB/s eta 0:00:24\n",
            "   ---------------------------- ----------- 31.4/44.0 MB 542.9 kB/s eta 0:00:24\n",
            "   ---------------------------- ----------- 31.4/44.0 MB 542.9 kB/s eta 0:00:24\n",
            "   ---------------------------- ----------- 31.5/44.0 MB 546.5 kB/s eta 0:00:23\n",
            "   ---------------------------- ----------- 31.5/44.0 MB 545.2 kB/s eta 0:00:23\n",
            "   ---------------------------- ----------- 31.6/44.0 MB 547.4 kB/s eta 0:00:23\n",
            "   ---------------------------- ----------- 31.7/44.0 MB 547.9 kB/s eta 0:00:23\n",
            "   ---------------------------- ----------- 31.7/44.0 MB 548.8 kB/s eta 0:00:23\n",
            "   ---------------------------- ----------- 31.8/44.0 MB 549.7 kB/s eta 0:00:23\n",
            "   ---------------------------- ----------- 31.8/44.0 MB 550.2 kB/s eta 0:00:23\n",
            "   ----------------------------- ---------- 31.9/44.0 MB 551.6 kB/s eta 0:00:22\n",
            "   ----------------------------- ---------- 31.9/44.0 MB 551.6 kB/s eta 0:00:22\n",
            "   ----------------------------- ---------- 31.9/44.0 MB 549.7 kB/s eta 0:00:22\n",
            "   ----------------------------- ---------- 32.0/44.0 MB 550.6 kB/s eta 0:00:22\n",
            "   ----------------------------- ---------- 32.0/44.0 MB 550.2 kB/s eta 0:00:22\n",
            "   ----------------------------- ---------- 32.1/44.0 MB 551.1 kB/s eta 0:00:22\n",
            "   ----------------------------- ---------- 32.2/44.0 MB 552.5 kB/s eta 0:00:22\n",
            "   ----------------------------- ---------- 32.2/44.0 MB 553.4 kB/s eta 0:00:22\n",
            "   ----------------------------- ---------- 32.2/44.0 MB 553.4 kB/s eta 0:00:22\n",
            "   ----------------------------- ---------- 32.2/44.0 MB 553.0 kB/s eta 0:00:22\n",
            "   ----------------------------- ---------- 32.3/44.0 MB 553.4 kB/s eta 0:00:22\n",
            "   ----------------------------- ---------- 32.3/44.0 MB 552.0 kB/s eta 0:00:22\n",
            "   ----------------------------- ---------- 32.3/44.0 MB 552.0 kB/s eta 0:00:22\n",
            "   ----------------------------- ---------- 32.4/44.0 MB 554.8 kB/s eta 0:00:21\n",
            "   ----------------------------- ---------- 32.4/44.0 MB 553.4 kB/s eta 0:00:21\n",
            "   ----------------------------- ---------- 32.5/44.0 MB 554.8 kB/s eta 0:00:21\n",
            "   ----------------------------- ---------- 32.5/44.0 MB 554.8 kB/s eta 0:00:21\n",
            "   ----------------------------- ---------- 32.5/44.0 MB 554.8 kB/s eta 0:00:21\n",
            "   ----------------------------- ---------- 32.5/44.0 MB 553.9 kB/s eta 0:00:21\n",
            "   ----------------------------- ---------- 32.6/44.0 MB 553.9 kB/s eta 0:00:21\n",
            "   ----------------------------- ---------- 32.6/44.0 MB 553.0 kB/s eta 0:00:21\n",
            "   ----------------------------- ---------- 32.6/44.0 MB 553.4 kB/s eta 0:00:21\n",
            "   ----------------------------- ---------- 32.7/44.0 MB 553.0 kB/s eta 0:00:21\n",
            "   ----------------------------- ---------- 32.7/44.0 MB 552.0 kB/s eta 0:00:21\n",
            "   ----------------------------- ---------- 32.7/44.0 MB 552.0 kB/s eta 0:00:21\n",
            "   ----------------------------- ---------- 32.7/44.0 MB 552.0 kB/s eta 0:00:21\n",
            "   ----------------------------- ---------- 32.7/44.0 MB 552.0 kB/s eta 0:00:21\n",
            "   ----------------------------- ---------- 32.7/44.0 MB 552.0 kB/s eta 0:00:21\n",
            "   ----------------------------- ---------- 32.7/44.0 MB 546.5 kB/s eta 0:00:21\n",
            "   ----------------------------- ---------- 32.8/44.0 MB 556.3 kB/s eta 0:00:21\n",
            "   ----------------------------- ---------- 32.8/44.0 MB 556.3 kB/s eta 0:00:21\n",
            "   ----------------------------- ---------- 32.8/44.0 MB 553.4 kB/s eta 0:00:21\n",
            "   ----------------------------- ---------- 32.8/44.0 MB 552.0 kB/s eta 0:00:21\n",
            "   ----------------------------- ---------- 32.8/44.0 MB 554.8 kB/s eta 0:00:21\n",
            "   ----------------------------- ---------- 32.8/44.0 MB 553.0 kB/s eta 0:00:21\n",
            "   ----------------------------- ---------- 32.8/44.0 MB 553.0 kB/s eta 0:00:21\n",
            "   ----------------------------- ---------- 32.8/44.0 MB 553.0 kB/s eta 0:00:21\n",
            "   ----------------------------- ---------- 32.8/44.0 MB 553.0 kB/s eta 0:00:21\n",
            "   ----------------------------- ---------- 32.9/44.0 MB 553.9 kB/s eta 0:00:20\n",
            "   ----------------------------- ---------- 32.9/44.0 MB 553.9 kB/s eta 0:00:20\n",
            "   ----------------------------- ---------- 32.9/44.0 MB 553.9 kB/s eta 0:00:20\n",
            "   ----------------------------- ---------- 32.9/44.0 MB 553.9 kB/s eta 0:00:20\n",
            "   ----------------------------- ---------- 32.9/44.0 MB 553.9 kB/s eta 0:00:20\n",
            "   ----------------------------- ---------- 32.9/44.0 MB 553.9 kB/s eta 0:00:20\n",
            "   ----------------------------- ---------- 33.0/44.0 MB 546.1 kB/s eta 0:00:21\n",
            "   ----------------------------- ---------- 33.0/44.0 MB 545.1 kB/s eta 0:00:21\n",
            "   ------------------------------ --------- 33.0/44.0 MB 546.5 kB/s eta 0:00:21\n",
            "   ------------------------------ --------- 33.0/44.0 MB 547.0 kB/s eta 0:00:20\n",
            "   ------------------------------ --------- 33.1/44.0 MB 547.0 kB/s eta 0:00:20\n",
            "   ------------------------------ --------- 33.1/44.0 MB 548.8 kB/s eta 0:00:20\n",
            "   ------------------------------ --------- 33.2/44.0 MB 548.8 kB/s eta 0:00:20\n",
            "   ------------------------------ --------- 33.2/44.0 MB 549.2 kB/s eta 0:00:20\n",
            "   ------------------------------ --------- 33.2/44.0 MB 549.2 kB/s eta 0:00:20\n",
            "   ------------------------------ --------- 33.2/44.0 MB 547.4 kB/s eta 0:00:20\n",
            "   ------------------------------ --------- 33.3/44.0 MB 549.2 kB/s eta 0:00:20\n",
            "   ------------------------------ --------- 33.3/44.0 MB 548.3 kB/s eta 0:00:20\n",
            "   ------------------------------ --------- 33.4/44.0 MB 553.0 kB/s eta 0:00:20\n",
            "   ------------------------------ --------- 33.4/44.0 MB 553.4 kB/s eta 0:00:20\n",
            "   ------------------------------ --------- 33.5/44.0 MB 553.9 kB/s eta 0:00:19\n",
            "   ------------------------------ --------- 33.5/44.0 MB 553.9 kB/s eta 0:00:19\n",
            "   ------------------------------ --------- 33.5/44.0 MB 551.1 kB/s eta 0:00:20\n",
            "   ------------------------------ --------- 33.5/44.0 MB 551.1 kB/s eta 0:00:20\n",
            "   ------------------------------ --------- 33.5/44.0 MB 550.2 kB/s eta 0:00:20\n",
            "   ------------------------------ --------- 33.5/44.0 MB 550.2 kB/s eta 0:00:19\n",
            "   ------------------------------ --------- 33.5/44.0 MB 550.2 kB/s eta 0:00:19\n",
            "   ------------------------------ --------- 33.6/44.0 MB 550.2 kB/s eta 0:00:19\n",
            "   ------------------------------ --------- 33.6/44.0 MB 551.6 kB/s eta 0:00:19\n",
            "   ------------------------------ --------- 33.7/44.0 MB 554.8 kB/s eta 0:00:19\n",
            "   ------------------------------ --------- 33.7/44.0 MB 553.9 kB/s eta 0:00:19\n",
            "   ------------------------------ --------- 33.8/44.0 MB 560.5 kB/s eta 0:00:19\n",
            "   ------------------------------ --------- 33.8/44.0 MB 561.5 kB/s eta 0:00:19\n",
            "   ------------------------------ --------- 33.8/44.0 MB 561.5 kB/s eta 0:00:19\n",
            "   ------------------------------ --------- 33.9/44.0 MB 566.4 kB/s eta 0:00:18\n",
            "   ------------------------------ --------- 33.9/44.0 MB 566.4 kB/s eta 0:00:18\n",
            "   ------------------------------ --------- 34.0/44.0 MB 566.3 kB/s eta 0:00:18\n",
            "   ------------------------------ --------- 34.0/44.0 MB 566.3 kB/s eta 0:00:18\n",
            "   ------------------------------ --------- 34.0/44.0 MB 566.3 kB/s eta 0:00:18\n",
            "   ------------------------------- -------- 34.1/44.0 MB 566.8 kB/s eta 0:00:18\n",
            "   ------------------------------- -------- 34.1/44.0 MB 568.3 kB/s eta 0:00:18\n",
            "   ------------------------------- -------- 34.1/44.0 MB 568.3 kB/s eta 0:00:18\n",
            "   ------------------------------- -------- 34.1/44.0 MB 568.3 kB/s eta 0:00:18\n",
            "   ------------------------------- -------- 34.1/44.0 MB 568.3 kB/s eta 0:00:18\n",
            "   ------------------------------- -------- 34.2/44.0 MB 566.3 kB/s eta 0:00:18\n",
            "   ------------------------------- -------- 34.2/44.0 MB 567.8 kB/s eta 0:00:18\n",
            "   ------------------------------- -------- 34.2/44.0 MB 568.8 kB/s eta 0:00:18\n",
            "   ------------------------------- -------- 34.2/44.0 MB 566.3 kB/s eta 0:00:18\n",
            "   ------------------------------- -------- 34.2/44.0 MB 566.3 kB/s eta 0:00:18\n",
            "   ------------------------------- -------- 34.3/44.0 MB 568.3 kB/s eta 0:00:18\n",
            "   ------------------------------- -------- 34.3/44.0 MB 568.8 kB/s eta 0:00:17\n",
            "   ------------------------------- -------- 34.4/44.0 MB 569.3 kB/s eta 0:00:17\n",
            "   ------------------------------- -------- 34.4/44.0 MB 569.8 kB/s eta 0:00:17\n",
            "   ------------------------------- -------- 34.4/44.0 MB 579.9 kB/s eta 0:00:17\n",
            "   ------------------------------- -------- 34.5/44.0 MB 581.4 kB/s eta 0:00:17\n",
            "   ------------------------------- -------- 34.5/44.0 MB 583.0 kB/s eta 0:00:17\n",
            "   ------------------------------- -------- 34.5/44.0 MB 582.0 kB/s eta 0:00:17\n",
            "   ------------------------------- -------- 34.5/44.0 MB 583.5 kB/s eta 0:00:17\n",
            "   ------------------------------- -------- 34.6/44.0 MB 583.5 kB/s eta 0:00:17\n",
            "   ------------------------------- -------- 34.6/44.0 MB 583.5 kB/s eta 0:00:16\n",
            "   ------------------------------- -------- 34.6/44.0 MB 582.5 kB/s eta 0:00:17\n",
            "   ------------------------------- -------- 34.6/44.0 MB 582.5 kB/s eta 0:00:17\n",
            "   ------------------------------- -------- 34.7/44.0 MB 579.9 kB/s eta 0:00:17\n",
            "   ------------------------------- -------- 34.7/44.0 MB 579.9 kB/s eta 0:00:17\n",
            "   ------------------------------- -------- 34.7/44.0 MB 579.4 kB/s eta 0:00:16\n",
            "   ------------------------------- -------- 34.7/44.0 MB 580.9 kB/s eta 0:00:16\n",
            "   ------------------------------- -------- 34.7/44.0 MB 580.9 kB/s eta 0:00:16\n",
            "   ------------------------------- -------- 34.8/44.0 MB 580.4 kB/s eta 0:00:16\n",
            "   ------------------------------- -------- 34.8/44.0 MB 579.9 kB/s eta 0:00:16\n",
            "   ------------------------------- -------- 34.8/44.0 MB 582.0 kB/s eta 0:00:16\n",
            "   ------------------------------- -------- 34.9/44.0 MB 585.1 kB/s eta 0:00:16\n",
            "   ------------------------------- -------- 35.0/44.0 MB 585.6 kB/s eta 0:00:16\n",
            "   ------------------------------- -------- 35.0/44.0 MB 589.8 kB/s eta 0:00:16\n",
            "   ------------------------------- -------- 35.1/44.0 MB 598.5 kB/s eta 0:00:15\n",
            "   ------------------------------- -------- 35.1/44.0 MB 598.5 kB/s eta 0:00:15\n",
            "   ------------------------------- -------- 35.1/44.0 MB 598.5 kB/s eta 0:00:15\n",
            "   ------------------------------- -------- 35.1/44.0 MB 594.6 kB/s eta 0:00:15\n",
            "   ------------------------------- -------- 35.1/44.0 MB 594.6 kB/s eta 0:00:15\n",
            "   ------------------------------- -------- 35.1/44.0 MB 594.6 kB/s eta 0:00:15\n",
            "   -------------------------------- ------- 35.2/44.0 MB 598.4 kB/s eta 0:00:15\n",
            "   -------------------------------- ------- 35.2/44.0 MB 597.4 kB/s eta 0:00:15\n",
            "   -------------------------------- ------- 35.2/44.0 MB 598.5 kB/s eta 0:00:15\n",
            "   -------------------------------- ------- 35.2/44.0 MB 598.5 kB/s eta 0:00:15\n",
            "   -------------------------------- ------- 35.3/44.0 MB 598.4 kB/s eta 0:00:15\n",
            "   -------------------------------- ------- 35.3/44.0 MB 600.7 kB/s eta 0:00:15\n",
            "   -------------------------------- ------- 35.4/44.0 MB 605.1 kB/s eta 0:00:15\n",
            "   -------------------------------- ------- 35.4/44.0 MB 617.1 kB/s eta 0:00:14\n",
            "   -------------------------------- ------- 35.5/44.0 MB 622.3 kB/s eta 0:00:14\n",
            "   -------------------------------- ------- 35.6/44.0 MB 628.3 kB/s eta 0:00:14\n",
            "   -------------------------------- ------- 35.6/44.0 MB 630.1 kB/s eta 0:00:14\n",
            "   -------------------------------- ------- 35.6/44.0 MB 629.5 kB/s eta 0:00:14\n",
            "   -------------------------------- ------- 35.7/44.0 MB 634.4 kB/s eta 0:00:13\n",
            "   -------------------------------- ------- 35.7/44.0 MB 634.4 kB/s eta 0:00:13\n",
            "   -------------------------------- ------- 35.8/44.0 MB 637.5 kB/s eta 0:00:13\n",
            "   -------------------------------- ------- 35.8/44.0 MB 639.4 kB/s eta 0:00:13\n",
            "   -------------------------------- ------- 35.8/44.0 MB 639.4 kB/s eta 0:00:13\n",
            "   -------------------------------- ------- 35.8/44.0 MB 639.4 kB/s eta 0:00:13\n",
            "   -------------------------------- ------- 35.9/44.0 MB 636.9 kB/s eta 0:00:13\n",
            "   -------------------------------- ------- 35.9/44.0 MB 636.3 kB/s eta 0:00:13\n",
            "   -------------------------------- ------- 36.0/44.0 MB 638.1 kB/s eta 0:00:13\n",
            "   -------------------------------- ------- 36.0/44.0 MB 640.6 kB/s eta 0:00:13\n",
            "   -------------------------------- ------- 36.0/44.0 MB 641.2 kB/s eta 0:00:13\n",
            "   -------------------------------- ------- 36.1/44.0 MB 652.7 kB/s eta 0:00:13\n",
            "   -------------------------------- ------- 36.1/44.0 MB 652.1 kB/s eta 0:00:13\n",
            "   -------------------------------- ------- 36.2/44.0 MB 659.3 kB/s eta 0:00:12\n",
            "   -------------------------------- ------- 36.2/44.0 MB 659.3 kB/s eta 0:00:12\n",
            "   --------------------------------- ------ 36.3/44.0 MB 667.4 kB/s eta 0:00:12\n",
            "   --------------------------------- ------ 36.4/44.0 MB 670.8 kB/s eta 0:00:12\n",
            "   --------------------------------- ------ 36.4/44.0 MB 684.8 kB/s eta 0:00:12\n",
            "   --------------------------------- ------ 36.4/44.0 MB 685.5 kB/s eta 0:00:11\n",
            "   --------------------------------- ------ 36.5/44.0 MB 690.6 kB/s eta 0:00:11\n",
            "   --------------------------------- ------ 36.5/44.0 MB 688.5 kB/s eta 0:00:11\n",
            "   --------------------------------- ------ 36.6/44.0 MB 690.6 kB/s eta 0:00:11\n",
            "   --------------------------------- ------ 36.6/44.0 MB 692.8 kB/s eta 0:00:11\n",
            "   --------------------------------- ------ 36.7/44.0 MB 695.8 kB/s eta 0:00:11\n",
            "   --------------------------------- ------ 36.7/44.0 MB 695.8 kB/s eta 0:00:11\n",
            "   --------------------------------- ------ 36.7/44.0 MB 696.5 kB/s eta 0:00:11\n",
            "   --------------------------------- ------ 36.8/44.0 MB 698.8 kB/s eta 0:00:11\n",
            "   --------------------------------- ------ 36.9/44.0 MB 699.5 kB/s eta 0:00:11\n",
            "   --------------------------------- ------ 36.9/44.0 MB 703.2 kB/s eta 0:00:11\n",
            "   --------------------------------- ------ 37.0/44.0 MB 703.2 kB/s eta 0:00:10\n",
            "   --------------------------------- ------ 37.0/44.0 MB 704.8 kB/s eta 0:00:10\n",
            "   --------------------------------- ------ 37.1/44.0 MB 707.8 kB/s eta 0:00:10\n",
            "   --------------------------------- ------ 37.1/44.0 MB 709.3 kB/s eta 0:00:10\n",
            "   --------------------------------- ------ 37.2/44.0 MB 710.1 kB/s eta 0:00:10\n",
            "   --------------------------------- ------ 37.2/44.0 MB 710.1 kB/s eta 0:00:10\n",
            "   --------------------------------- ------ 37.2/44.0 MB 712.4 kB/s eta 0:00:10\n",
            "   --------------------------------- ------ 37.2/44.0 MB 710.8 kB/s eta 0:00:10\n",
            "   --------------------------------- ------ 37.3/44.0 MB 712.4 kB/s eta 0:00:10\n",
            "   --------------------------------- ------ 37.3/44.0 MB 712.4 kB/s eta 0:00:10\n",
            "   --------------------------------- ------ 37.3/44.0 MB 712.4 kB/s eta 0:00:10\n",
            "   ---------------------------------- ----- 37.4/44.0 MB 718.6 kB/s eta 0:00:10\n",
            "   ---------------------------------- ----- 37.4/44.0 MB 719.4 kB/s eta 0:00:10\n",
            "   ---------------------------------- ----- 37.4/44.0 MB 721.9 kB/s eta 0:00:10\n",
            "   ---------------------------------- ----- 37.5/44.0 MB 721.8 kB/s eta 0:00:09\n",
            "   ---------------------------------- ----- 37.5/44.0 MB 720.3 kB/s eta 0:00:09\n",
            "   ---------------------------------- ----- 37.5/44.0 MB 720.3 kB/s eta 0:00:09\n",
            "   ---------------------------------- ----- 37.6/44.0 MB 722.6 kB/s eta 0:00:09\n",
            "   ---------------------------------- ----- 37.6/44.0 MB 722.6 kB/s eta 0:00:09\n",
            "   ---------------------------------- ----- 37.7/44.0 MB 728.3 kB/s eta 0:00:09\n",
            "   ---------------------------------- ----- 37.7/44.0 MB 728.3 kB/s eta 0:00:09\n",
            "   ---------------------------------- ----- 37.7/44.0 MB 728.3 kB/s eta 0:00:09\n",
            "   ---------------------------------- ----- 37.7/44.0 MB 723.4 kB/s eta 0:00:09\n",
            "   ---------------------------------- ----- 37.8/44.0 MB 723.5 kB/s eta 0:00:09\n",
            "   ---------------------------------- ----- 37.8/44.0 MB 723.5 kB/s eta 0:00:09\n",
            "   ---------------------------------- ----- 37.8/44.0 MB 723.5 kB/s eta 0:00:09\n",
            "   ---------------------------------- ----- 37.8/44.0 MB 727.4 kB/s eta 0:00:09\n",
            "   ---------------------------------- ----- 37.8/44.0 MB 727.4 kB/s eta 0:00:09\n",
            "   ---------------------------------- ----- 37.9/44.0 MB 721.8 kB/s eta 0:00:09\n",
            "   ---------------------------------- ----- 37.9/44.0 MB 721.9 kB/s eta 0:00:09\n",
            "   ---------------------------------- ----- 37.9/44.0 MB 722.6 kB/s eta 0:00:09\n",
            "   ---------------------------------- ----- 37.9/44.0 MB 722.6 kB/s eta 0:00:09\n",
            "   ---------------------------------- ----- 37.9/44.0 MB 719.4 kB/s eta 0:00:09\n",
            "   ---------------------------------- ----- 38.0/44.0 MB 718.6 kB/s eta 0:00:09\n",
            "   ---------------------------------- ----- 38.0/44.0 MB 717.1 kB/s eta 0:00:09\n",
            "   ---------------------------------- ----- 38.0/44.0 MB 717.1 kB/s eta 0:00:09\n",
            "   ---------------------------------- ----- 38.0/44.0 MB 717.1 kB/s eta 0:00:09\n",
            "   ---------------------------------- ----- 38.1/44.0 MB 716.3 kB/s eta 0:00:09\n",
            "   ---------------------------------- ----- 38.1/44.0 MB 717.1 kB/s eta 0:00:09\n",
            "   ---------------------------------- ----- 38.1/44.0 MB 716.3 kB/s eta 0:00:09\n",
            "   ---------------------------------- ----- 38.1/44.0 MB 714.7 kB/s eta 0:00:09\n",
            "   ---------------------------------- ----- 38.2/44.0 MB 714.7 kB/s eta 0:00:09\n",
            "   ---------------------------------- ----- 38.2/44.0 MB 714.7 kB/s eta 0:00:09\n",
            "   ---------------------------------- ----- 38.2/44.0 MB 714.0 kB/s eta 0:00:09\n",
            "   ---------------------------------- ----- 38.2/44.0 MB 717.1 kB/s eta 0:00:08\n",
            "   ---------------------------------- ----- 38.3/44.0 MB 717.1 kB/s eta 0:00:08\n",
            "   ---------------------------------- ----- 38.3/44.0 MB 714.8 kB/s eta 0:00:08\n",
            "   ---------------------------------- ----- 38.3/44.0 MB 715.5 kB/s eta 0:00:08\n",
            "   ---------------------------------- ----- 38.4/44.0 MB 714.0 kB/s eta 0:00:08\n",
            "   ---------------------------------- ----- 38.4/44.0 MB 714.8 kB/s eta 0:00:08\n",
            "   ---------------------------------- ----- 38.4/44.0 MB 713.2 kB/s eta 0:00:08\n",
            "   ---------------------------------- ----- 38.5/44.0 MB 714.0 kB/s eta 0:00:08\n",
            "   ----------------------------------- ---- 38.5/44.0 MB 713.2 kB/s eta 0:00:08\n",
            "   ----------------------------------- ---- 38.5/44.0 MB 714.7 kB/s eta 0:00:08\n",
            "   ----------------------------------- ---- 38.6/44.0 MB 714.0 kB/s eta 0:00:08\n",
            "   ----------------------------------- ---- 38.6/44.0 MB 714.0 kB/s eta 0:00:08\n",
            "   ----------------------------------- ---- 38.6/44.0 MB 715.5 kB/s eta 0:00:08\n",
            "   ----------------------------------- ---- 38.7/44.0 MB 717.9 kB/s eta 0:00:08\n",
            "   ----------------------------------- ---- 38.7/44.0 MB 719.4 kB/s eta 0:00:08\n",
            "   ----------------------------------- ---- 38.7/44.0 MB 719.4 kB/s eta 0:00:08\n",
            "   ----------------------------------- ---- 38.7/44.0 MB 719.4 kB/s eta 0:00:08\n",
            "   ----------------------------------- ---- 38.7/44.0 MB 714.7 kB/s eta 0:00:08\n",
            "   ----------------------------------- ---- 38.8/44.0 MB 714.0 kB/s eta 0:00:08\n",
            "   ----------------------------------- ---- 38.8/44.0 MB 714.0 kB/s eta 0:00:08\n",
            "   ----------------------------------- ---- 38.8/44.0 MB 711.6 kB/s eta 0:00:08\n",
            "   ----------------------------------- ---- 38.8/44.0 MB 711.6 kB/s eta 0:00:08\n",
            "   ----------------------------------- ---- 38.8/44.0 MB 711.6 kB/s eta 0:00:08\n",
            "   ----------------------------------- ---- 38.9/44.0 MB 709.3 kB/s eta 0:00:08\n",
            "   ----------------------------------- ---- 38.9/44.0 MB 709.3 kB/s eta 0:00:08\n",
            "   ----------------------------------- ---- 38.9/44.0 MB 706.3 kB/s eta 0:00:08\n",
            "   ----------------------------------- ---- 38.9/44.0 MB 704.7 kB/s eta 0:00:08\n",
            "   ----------------------------------- ---- 39.0/44.0 MB 705.5 kB/s eta 0:00:08\n",
            "   ----------------------------------- ---- 39.0/44.0 MB 704.0 kB/s eta 0:00:08\n",
            "   ----------------------------------- ---- 39.0/44.0 MB 703.3 kB/s eta 0:00:08\n",
            "   ----------------------------------- ---- 39.0/44.0 MB 703.3 kB/s eta 0:00:08\n",
            "   ----------------------------------- ---- 39.0/44.0 MB 703.3 kB/s eta 0:00:08\n",
            "   ----------------------------------- ---- 39.0/44.0 MB 703.3 kB/s eta 0:00:08\n",
            "   ----------------------------------- ---- 39.0/44.0 MB 703.3 kB/s eta 0:00:08\n",
            "   ----------------------------------- ---- 39.0/44.0 MB 703.3 kB/s eta 0:00:08\n",
            "   ----------------------------------- ---- 39.0/44.0 MB 691.3 kB/s eta 0:00:08\n",
            "   ----------------------------------- ---- 39.0/44.0 MB 689.2 kB/s eta 0:00:08\n",
            "   ----------------------------------- ---- 39.1/44.0 MB 692.1 kB/s eta 0:00:08\n",
            "   ----------------------------------- ---- 39.1/44.0 MB 691.3 kB/s eta 0:00:08\n",
            "   ----------------------------------- ---- 39.1/44.0 MB 690.6 kB/s eta 0:00:08\n",
            "   ----------------------------------- ---- 39.1/44.0 MB 690.6 kB/s eta 0:00:08\n",
            "   ----------------------------------- ---- 39.1/44.0 MB 687.7 kB/s eta 0:00:08\n",
            "   ----------------------------------- ---- 39.2/44.0 MB 685.5 kB/s eta 0:00:07\n",
            "   ----------------------------------- ---- 39.2/44.0 MB 684.9 kB/s eta 0:00:07\n",
            "   ----------------------------------- ---- 39.2/44.0 MB 684.1 kB/s eta 0:00:07\n",
            "   ----------------------------------- ---- 39.2/44.0 MB 684.1 kB/s eta 0:00:07\n",
            "   ----------------------------------- ---- 39.2/44.0 MB 682.7 kB/s eta 0:00:07\n",
            "   ----------------------------------- ---- 39.3/44.0 MB 682.0 kB/s eta 0:00:07\n",
            "   ----------------------------------- ---- 39.3/44.0 MB 681.3 kB/s eta 0:00:07\n",
            "   ----------------------------------- ---- 39.3/44.0 MB 681.3 kB/s eta 0:00:07\n",
            "   ----------------------------------- ---- 39.4/44.0 MB 679.2 kB/s eta 0:00:07\n",
            "   ----------------------------------- ---- 39.4/44.0 MB 679.2 kB/s eta 0:00:07\n",
            "   ----------------------------------- ---- 39.4/44.0 MB 677.0 kB/s eta 0:00:07\n",
            "   ----------------------------------- ---- 39.4/44.0 MB 677.0 kB/s eta 0:00:07\n",
            "   ----------------------------------- ---- 39.4/44.0 MB 673.5 kB/s eta 0:00:07\n",
            "   ----------------------------------- ---- 39.4/44.0 MB 670.8 kB/s eta 0:00:07\n",
            "   ----------------------------------- ---- 39.4/44.0 MB 669.4 kB/s eta 0:00:07\n",
            "   ----------------------------------- ---- 39.4/44.0 MB 668.7 kB/s eta 0:00:07\n",
            "   ----------------------------------- ---- 39.5/44.0 MB 668.0 kB/s eta 0:00:07\n",
            "   ----------------------------------- ---- 39.5/44.0 MB 668.0 kB/s eta 0:00:07\n",
            "   ----------------------------------- ---- 39.5/44.0 MB 664.0 kB/s eta 0:00:07\n",
            "   ----------------------------------- ---- 39.5/44.0 MB 663.3 kB/s eta 0:00:07\n",
            "   ----------------------------------- ---- 39.5/44.0 MB 660.0 kB/s eta 0:00:07\n",
            "   ----------------------------------- ---- 39.5/44.0 MB 661.3 kB/s eta 0:00:07\n",
            "   ----------------------------------- ---- 39.5/44.0 MB 658.6 kB/s eta 0:00:07\n",
            "   ------------------------------------ --- 39.6/44.0 MB 659.3 kB/s eta 0:00:07\n",
            "   ------------------------------------ --- 39.6/44.0 MB 657.3 kB/s eta 0:00:07\n",
            "   ------------------------------------ --- 39.6/44.0 MB 657.4 kB/s eta 0:00:07\n",
            "   ------------------------------------ --- 39.6/44.0 MB 657.4 kB/s eta 0:00:07\n",
            "   ------------------------------------ --- 39.7/44.0 MB 653.4 kB/s eta 0:00:07\n",
            "   ------------------------------------ --- 39.7/44.0 MB 653.4 kB/s eta 0:00:07\n",
            "   ------------------------------------ --- 39.7/44.0 MB 652.1 kB/s eta 0:00:07\n",
            "   ------------------------------------ --- 39.7/44.0 MB 652.1 kB/s eta 0:00:07\n",
            "   ------------------------------------ --- 39.7/44.0 MB 650.8 kB/s eta 0:00:07\n",
            "   ------------------------------------ --- 39.7/44.0 MB 648.2 kB/s eta 0:00:07\n",
            "   ------------------------------------ --- 39.7/44.0 MB 648.2 kB/s eta 0:00:07\n",
            "   ------------------------------------ --- 39.7/44.0 MB 645.0 kB/s eta 0:00:07\n",
            "   ------------------------------------ --- 39.8/44.0 MB 646.3 kB/s eta 0:00:07\n",
            "   ------------------------------------ --- 39.8/44.0 MB 643.7 kB/s eta 0:00:07\n",
            "   ------------------------------------ --- 39.8/44.0 MB 642.5 kB/s eta 0:00:07\n",
            "   ------------------------------------ --- 39.8/44.0 MB 642.5 kB/s eta 0:00:07\n",
            "   ------------------------------------ --- 39.9/44.0 MB 642.5 kB/s eta 0:00:07\n",
            "   ------------------------------------ --- 39.9/44.0 MB 641.8 kB/s eta 0:00:07\n",
            "   ------------------------------------ --- 39.9/44.0 MB 641.8 kB/s eta 0:00:07\n",
            "   ------------------------------------ --- 39.9/44.0 MB 638.7 kB/s eta 0:00:07\n",
            "   ------------------------------------ --- 39.9/44.0 MB 636.9 kB/s eta 0:00:07\n",
            "   ------------------------------------ --- 39.9/44.0 MB 636.9 kB/s eta 0:00:07\n",
            "   ------------------------------------ --- 40.0/44.0 MB 636.3 kB/s eta 0:00:07\n",
            "   ------------------------------------ --- 40.0/44.0 MB 635.0 kB/s eta 0:00:07\n",
            "   ------------------------------------ --- 40.0/44.0 MB 634.4 kB/s eta 0:00:07\n",
            "   ------------------------------------ --- 40.0/44.0 MB 633.2 kB/s eta 0:00:07\n",
            "   ------------------------------------ --- 40.0/44.0 MB 631.3 kB/s eta 0:00:07\n",
            "   ------------------------------------ --- 40.0/44.0 MB 631.3 kB/s eta 0:00:07\n",
            "   ------------------------------------ --- 40.0/44.0 MB 628.9 kB/s eta 0:00:07\n",
            "   ------------------------------------ --- 40.1/44.0 MB 627.7 kB/s eta 0:00:07\n",
            "   ------------------------------------ --- 40.1/44.0 MB 625.9 kB/s eta 0:00:07\n",
            "   ------------------------------------ --- 40.1/44.0 MB 625.9 kB/s eta 0:00:07\n",
            "   ------------------------------------ --- 40.1/44.0 MB 623.5 kB/s eta 0:00:07\n",
            "   ------------------------------------ --- 40.2/44.0 MB 623.5 kB/s eta 0:00:07\n",
            "   ------------------------------------ --- 40.2/44.0 MB 623.5 kB/s eta 0:00:07\n",
            "   ------------------------------------ --- 40.2/44.0 MB 622.9 kB/s eta 0:00:07\n",
            "   ------------------------------------ --- 40.2/44.0 MB 621.2 kB/s eta 0:00:07\n",
            "   ------------------------------------ --- 40.2/44.0 MB 620.0 kB/s eta 0:00:07\n",
            "   ------------------------------------ --- 40.3/44.0 MB 619.4 kB/s eta 0:00:06\n",
            "   ------------------------------------ --- 40.3/44.0 MB 618.8 kB/s eta 0:00:06\n",
            "   ------------------------------------ --- 40.3/44.0 MB 617.7 kB/s eta 0:00:06\n",
            "   ------------------------------------ --- 40.4/44.0 MB 617.7 kB/s eta 0:00:06\n",
            "   ------------------------------------ --- 40.4/44.0 MB 616.5 kB/s eta 0:00:06\n",
            "   ------------------------------------ --- 40.4/44.0 MB 615.9 kB/s eta 0:00:06\n",
            "   ------------------------------------ --- 40.4/44.0 MB 614.7 kB/s eta 0:00:06\n",
            "   ------------------------------------ --- 40.5/44.0 MB 615.3 kB/s eta 0:00:06\n",
            "   ------------------------------------ --- 40.5/44.0 MB 613.6 kB/s eta 0:00:06\n",
            "   ------------------------------------ --- 40.5/44.0 MB 621.8 kB/s eta 0:00:06\n",
            "   ------------------------------------ --- 40.6/44.0 MB 621.2 kB/s eta 0:00:06\n",
            "   ------------------------------------ --- 40.6/44.0 MB 620.5 kB/s eta 0:00:06\n",
            "   ------------------------------------ --- 40.6/44.0 MB 621.2 kB/s eta 0:00:06\n",
            "   ------------------------------------ --- 40.6/44.0 MB 620.5 kB/s eta 0:00:06\n",
            "   ------------------------------------ --- 40.7/44.0 MB 620.6 kB/s eta 0:00:06\n",
            "   ------------------------------------- -- 40.7/44.0 MB 619.4 kB/s eta 0:00:06\n",
            "   ------------------------------------- -- 40.7/44.0 MB 618.8 kB/s eta 0:00:06\n",
            "   ------------------------------------- -- 40.8/44.0 MB 618.2 kB/s eta 0:00:06\n",
            "   ------------------------------------- -- 40.8/44.0 MB 618.8 kB/s eta 0:00:06\n",
            "   ------------------------------------- -- 40.8/44.0 MB 618.8 kB/s eta 0:00:06\n",
            "   ------------------------------------- -- 40.8/44.0 MB 615.9 kB/s eta 0:00:06\n",
            "   ------------------------------------- -- 40.8/44.0 MB 615.3 kB/s eta 0:00:06\n",
            "   ------------------------------------- -- 40.8/44.0 MB 615.3 kB/s eta 0:00:06\n",
            "   ------------------------------------- -- 40.8/44.0 MB 615.3 kB/s eta 0:00:06\n",
            "   ------------------------------------- -- 40.8/44.0 MB 615.3 kB/s eta 0:00:06\n",
            "   ------------------------------------- -- 40.8/44.0 MB 615.3 kB/s eta 0:00:06\n",
            "   ------------------------------------- -- 40.8/44.0 MB 615.3 kB/s eta 0:00:06\n",
            "   ------------------------------------- -- 40.8/44.0 MB 604.5 kB/s eta 0:00:06\n",
            "   ------------------------------------- -- 40.9/44.0 MB 604.0 kB/s eta 0:00:06\n",
            "   ------------------------------------- -- 40.9/44.0 MB 603.4 kB/s eta 0:00:06\n",
            "   ------------------------------------- -- 40.9/44.0 MB 602.3 kB/s eta 0:00:06\n",
            "   ------------------------------------- -- 40.9/44.0 MB 602.3 kB/s eta 0:00:06\n",
            "   ------------------------------------- -- 40.9/44.0 MB 602.3 kB/s eta 0:00:06\n",
            "   ------------------------------------- -- 41.0/44.0 MB 599.0 kB/s eta 0:00:05\n",
            "   ------------------------------------- -- 41.0/44.0 MB 598.5 kB/s eta 0:00:05\n",
            "   ------------------------------------- -- 41.0/44.0 MB 596.8 kB/s eta 0:00:05\n",
            "   ------------------------------------- -- 41.0/44.0 MB 596.8 kB/s eta 0:00:05\n",
            "   ------------------------------------- -- 41.1/44.0 MB 594.6 kB/s eta 0:00:05\n",
            "   ------------------------------------- -- 41.1/44.0 MB 594.6 kB/s eta 0:00:05\n",
            "   ------------------------------------- -- 41.1/44.0 MB 594.6 kB/s eta 0:00:05\n",
            "   ------------------------------------- -- 41.1/44.0 MB 594.6 kB/s eta 0:00:05\n",
            "   ------------------------------------- -- 41.1/44.0 MB 594.6 kB/s eta 0:00:05\n",
            "   ------------------------------------- -- 41.1/44.0 MB 590.9 kB/s eta 0:00:05\n",
            "   ------------------------------------- -- 41.1/44.0 MB 590.9 kB/s eta 0:00:05\n",
            "   ------------------------------------- -- 41.1/44.0 MB 589.3 kB/s eta 0:00:05\n",
            "   ------------------------------------- -- 41.2/44.0 MB 587.2 kB/s eta 0:00:05\n",
            "   ------------------------------------- -- 41.2/44.0 MB 587.2 kB/s eta 0:00:05\n",
            "   ------------------------------------- -- 41.2/44.0 MB 587.7 kB/s eta 0:00:05\n",
            "   ------------------------------------- -- 41.2/44.0 MB 586.6 kB/s eta 0:00:05\n",
            "   ------------------------------------- -- 41.3/44.0 MB 585.6 kB/s eta 0:00:05\n",
            "   ------------------------------------- -- 41.3/44.0 MB 587.2 kB/s eta 0:00:05\n",
            "   ------------------------------------- -- 41.3/44.0 MB 585.1 kB/s eta 0:00:05\n",
            "   ------------------------------------- -- 41.4/44.0 MB 587.2 kB/s eta 0:00:05\n",
            "   ------------------------------------- -- 41.4/44.0 MB 587.2 kB/s eta 0:00:05\n",
            "   ------------------------------------- -- 41.4/44.0 MB 585.1 kB/s eta 0:00:05\n",
            "   ------------------------------------- -- 41.4/44.0 MB 585.1 kB/s eta 0:00:05\n",
            "   ------------------------------------- -- 41.5/44.0 MB 588.2 kB/s eta 0:00:05\n",
            "   ------------------------------------- -- 41.5/44.0 MB 586.7 kB/s eta 0:00:05\n",
            "   ------------------------------------- -- 41.5/44.0 MB 586.1 kB/s eta 0:00:05\n",
            "   ------------------------------------- -- 41.6/44.0 MB 586.1 kB/s eta 0:00:05\n",
            "   ------------------------------------- -- 41.6/44.0 MB 585.6 kB/s eta 0:00:05\n",
            "   ------------------------------------- -- 41.7/44.0 MB 586.1 kB/s eta 0:00:04\n",
            "   ------------------------------------- -- 41.7/44.0 MB 586.6 kB/s eta 0:00:04\n",
            "   ------------------------------------- -- 41.7/44.0 MB 585.1 kB/s eta 0:00:04\n",
            "   ------------------------------------- -- 41.7/44.0 MB 585.1 kB/s eta 0:00:04\n",
            "   ------------------------------------- -- 41.7/44.0 MB 582.0 kB/s eta 0:00:04\n",
            "   ------------------------------------- -- 41.7/44.0 MB 582.0 kB/s eta 0:00:04\n",
            "   -------------------------------------- - 41.8/44.0 MB 581.4 kB/s eta 0:00:04\n",
            "   -------------------------------------- - 41.8/44.0 MB 580.9 kB/s eta 0:00:04\n",
            "   -------------------------------------- - 41.8/44.0 MB 579.4 kB/s eta 0:00:04\n",
            "   -------------------------------------- - 41.9/44.0 MB 578.9 kB/s eta 0:00:04\n",
            "   -------------------------------------- - 41.9/44.0 MB 577.3 kB/s eta 0:00:04\n",
            "   -------------------------------------- - 41.9/44.0 MB 577.3 kB/s eta 0:00:04\n",
            "   -------------------------------------- - 42.0/44.0 MB 577.3 kB/s eta 0:00:04\n",
            "   -------------------------------------- - 42.0/44.0 MB 576.8 kB/s eta 0:00:04\n",
            "   -------------------------------------- - 42.0/44.0 MB 575.8 kB/s eta 0:00:04\n",
            "   -------------------------------------- - 42.1/44.0 MB 574.3 kB/s eta 0:00:04\n",
            "   -------------------------------------- - 42.1/44.0 MB 573.3 kB/s eta 0:00:04\n",
            "   -------------------------------------- - 42.1/44.0 MB 575.8 kB/s eta 0:00:04\n",
            "   -------------------------------------- - 42.2/44.0 MB 574.8 kB/s eta 0:00:04\n",
            "   -------------------------------------- - 42.2/44.0 MB 574.3 kB/s eta 0:00:04\n",
            "   -------------------------------------- - 42.2/44.0 MB 574.3 kB/s eta 0:00:04\n",
            "   -------------------------------------- - 42.3/44.0 MB 573.3 kB/s eta 0:00:03\n",
            "   -------------------------------------- - 42.3/44.0 MB 572.8 kB/s eta 0:00:03\n",
            "   -------------------------------------- - 42.3/44.0 MB 571.3 kB/s eta 0:00:03\n",
            "   -------------------------------------- - 42.3/44.0 MB 571.3 kB/s eta 0:00:03\n",
            "   -------------------------------------- - 42.4/44.0 MB 569.8 kB/s eta 0:00:03\n",
            "   -------------------------------------- - 42.4/44.0 MB 568.8 kB/s eta 0:00:03\n",
            "   -------------------------------------- - 42.4/44.0 MB 568.8 kB/s eta 0:00:03\n",
            "   -------------------------------------- - 42.4/44.0 MB 567.8 kB/s eta 0:00:03\n",
            "   -------------------------------------- - 42.4/44.0 MB 567.8 kB/s eta 0:00:03\n",
            "   -------------------------------------- - 42.5/44.0 MB 566.8 kB/s eta 0:00:03\n",
            "   -------------------------------------- - 42.5/44.0 MB 565.9 kB/s eta 0:00:03\n",
            "   -------------------------------------- - 42.5/44.0 MB 565.4 kB/s eta 0:00:03\n",
            "   -------------------------------------- - 42.5/44.0 MB 565.4 kB/s eta 0:00:03\n",
            "   -------------------------------------- - 42.5/44.0 MB 565.4 kB/s eta 0:00:03\n",
            "   -------------------------------------- - 42.5/44.0 MB 562.4 kB/s eta 0:00:03\n",
            "   -------------------------------------- - 42.5/44.0 MB 562.9 kB/s eta 0:00:03\n",
            "   -------------------------------------- - 42.6/44.0 MB 562.0 kB/s eta 0:00:03\n",
            "   -------------------------------------- - 42.6/44.0 MB 561.0 kB/s eta 0:00:03\n",
            "   -------------------------------------- - 42.6/44.0 MB 560.0 kB/s eta 0:00:03\n",
            "   -------------------------------------- - 42.7/44.0 MB 560.5 kB/s eta 0:00:03\n",
            "   -------------------------------------- - 42.7/44.0 MB 559.6 kB/s eta 0:00:03\n",
            "   -------------------------------------- - 42.7/44.0 MB 560.1 kB/s eta 0:00:03\n",
            "   -------------------------------------- - 42.7/44.0 MB 560.1 kB/s eta 0:00:03\n",
            "   -------------------------------------- - 42.7/44.0 MB 557.7 kB/s eta 0:00:03\n",
            "   -------------------------------------- - 42.7/44.0 MB 557.7 kB/s eta 0:00:03\n",
            "   -------------------------------------- - 42.8/44.0 MB 557.7 kB/s eta 0:00:03\n",
            "   -------------------------------------- - 42.8/44.0 MB 556.7 kB/s eta 0:00:03\n",
            "   -------------------------------------- - 42.8/44.0 MB 557.2 kB/s eta 0:00:03\n",
            "   -------------------------------------- - 42.8/44.0 MB 555.8 kB/s eta 0:00:03\n",
            "   ---------------------------------------  42.9/44.0 MB 554.8 kB/s eta 0:00:02\n",
            "   ---------------------------------------  42.9/44.0 MB 556.2 kB/s eta 0:00:02\n",
            "   ---------------------------------------  42.9/44.0 MB 562.0 kB/s eta 0:00:02\n",
            "   ---------------------------------------  43.0/44.0 MB 562.9 kB/s eta 0:00:02\n",
            "   ---------------------------------------  43.0/44.0 MB 565.4 kB/s eta 0:00:02\n",
            "   ---------------------------------------  43.1/44.0 MB 564.4 kB/s eta 0:00:02\n",
            "   ---------------------------------------  43.1/44.0 MB 571.3 kB/s eta 0:00:02\n",
            "   ---------------------------------------  43.1/44.0 MB 570.8 kB/s eta 0:00:02\n",
            "   ---------------------------------------  43.1/44.0 MB 570.8 kB/s eta 0:00:02\n",
            "   ---------------------------------------  43.1/44.0 MB 570.8 kB/s eta 0:00:02\n",
            "   ---------------------------------------  43.1/44.0 MB 570.8 kB/s eta 0:00:02\n",
            "   ---------------------------------------  43.1/44.0 MB 570.8 kB/s eta 0:00:02\n",
            "   ---------------------------------------  43.1/44.0 MB 570.8 kB/s eta 0:00:02\n",
            "   ---------------------------------------  43.2/44.0 MB 561.0 kB/s eta 0:00:02\n",
            "   ---------------------------------------  43.2/44.0 MB 569.8 kB/s eta 0:00:02\n",
            "   ---------------------------------------  43.2/44.0 MB 570.3 kB/s eta 0:00:02\n",
            "   ---------------------------------------  43.3/44.0 MB 570.3 kB/s eta 0:00:02\n",
            "   ---------------------------------------  43.3/44.0 MB 570.8 kB/s eta 0:00:02\n",
            "   ---------------------------------------  43.4/44.0 MB 569.8 kB/s eta 0:00:02\n",
            "   ---------------------------------------  43.4/44.0 MB 570.8 kB/s eta 0:00:01\n",
            "   ---------------------------------------  43.4/44.0 MB 569.3 kB/s eta 0:00:01\n",
            "   ---------------------------------------  43.5/44.0 MB 570.3 kB/s eta 0:00:01\n",
            "   ---------------------------------------  43.5/44.0 MB 570.8 kB/s eta 0:00:01\n",
            "   ---------------------------------------  43.5/44.0 MB 571.3 kB/s eta 0:00:01\n",
            "   ---------------------------------------  43.5/44.0 MB 571.3 kB/s eta 0:00:01\n",
            "   ---------------------------------------  43.5/44.0 MB 567.8 kB/s eta 0:00:01\n",
            "   ---------------------------------------  43.5/44.0 MB 567.8 kB/s eta 0:00:01\n",
            "   ---------------------------------------  43.5/44.0 MB 566.4 kB/s eta 0:00:01\n",
            "   ---------------------------------------  43.6/44.0 MB 565.4 kB/s eta 0:00:01\n",
            "   ---------------------------------------  43.6/44.0 MB 563.9 kB/s eta 0:00:01\n",
            "   ---------------------------------------  43.6/44.0 MB 564.4 kB/s eta 0:00:01\n",
            "   ---------------------------------------  43.6/44.0 MB 562.9 kB/s eta 0:00:01\n",
            "   ---------------------------------------  43.7/44.0 MB 562.0 kB/s eta 0:00:01\n",
            "   ---------------------------------------  43.7/44.0 MB 562.0 kB/s eta 0:00:01\n",
            "   ---------------------------------------  43.7/44.0 MB 565.4 kB/s eta 0:00:01\n",
            "   ---------------------------------------  43.7/44.0 MB 563.9 kB/s eta 0:00:01\n",
            "   ---------------------------------------  43.8/44.0 MB 563.4 kB/s eta 0:00:01\n",
            "   ---------------------------------------  43.8/44.0 MB 564.4 kB/s eta 0:00:01\n",
            "   ---------------------------------------  43.8/44.0 MB 564.4 kB/s eta 0:00:01\n",
            "   ---------------------------------------  43.9/44.0 MB 564.9 kB/s eta 0:00:01\n",
            "   ---------------------------------------  43.9/44.0 MB 564.4 kB/s eta 0:00:01\n",
            "   ---------------------------------------  44.0/44.0 MB 563.9 kB/s eta 0:00:01\n",
            "   ---------------------------------------  44.0/44.0 MB 563.9 kB/s eta 0:00:01\n",
            "   ---------------------------------------  44.0/44.0 MB 563.9 kB/s eta 0:00:01\n",
            "   ---------------------------------------  44.0/44.0 MB 563.9 kB/s eta 0:00:01\n",
            "   ---------------------------------------  44.0/44.0 MB 563.9 kB/s eta 0:00:01\n",
            "   ---------------------------------------- 44.0/44.0 MB 556.0 kB/s eta 0:00:00\n",
            "Installing collected packages: scipy\n",
            "Successfully installed scipy-1.11.2\n"
          ]
        }
      ],
      "source": [
        "!pip install scipy"
      ]
    },
    {
      "cell_type": "code",
      "execution_count": 43,
      "metadata": {},
      "outputs": [],
      "source": [
        "from scipy import stats"
      ]
    },
    {
      "cell_type": "markdown",
      "metadata": {},
      "source": [
        "<h3>Wheel-Base vs. Price</h3>\n"
      ]
    },
    {
      "cell_type": "markdown",
      "metadata": {},
      "source": [
        "Let's calculate the  Pearson Correlation Coefficient and P-value of 'wheel-base' and 'price'.\n"
      ]
    },
    {
      "cell_type": "code",
      "execution_count": 44,
      "metadata": {},
      "outputs": [
        {
          "name": "stdout",
          "output_type": "stream",
          "text": [
            "The Pearson Correlation Coefficient is 0.584641822265508  with a P-value of P = 8.076488270732947e-20\n"
          ]
        }
      ],
      "source": [
        "pearson_coef, p_value = stats.pearsonr(df['wheel-base'], df['price'])\n",
        "print(\"The Pearson Correlation Coefficient is\", pearson_coef, \" with a P-value of P =\", p_value)  "
      ]
    },
    {
      "cell_type": "markdown",
      "metadata": {},
      "source": [
        "<h4>Conclusion:</h4>\n",
        "<p>Since the p-value is $<$ 0.001, the correlation between wheel-base and price is statistically significant, although the linear relationship isn't extremely strong (~0.585).</p>\n"
      ]
    },
    {
      "cell_type": "markdown",
      "metadata": {},
      "source": [
        "<h3>Horsepower vs. Price</h3>\n"
      ]
    },
    {
      "cell_type": "markdown",
      "metadata": {},
      "source": [
        "Let's calculate the  Pearson Correlation Coefficient and P-value of 'horsepower' and 'price'.\n"
      ]
    },
    {
      "cell_type": "code",
      "execution_count": 45,
      "metadata": {},
      "outputs": [
        {
          "name": "stdout",
          "output_type": "stream",
          "text": [
            "The Pearson Correlation Coefficient is 0.8095745670036559  with a P-value of P =  6.369057428259526e-48\n"
          ]
        }
      ],
      "source": [
        "pearson_coef, p_value = stats.pearsonr(df['horsepower'], df['price'])\n",
        "print(\"The Pearson Correlation Coefficient is\", pearson_coef, \" with a P-value of P = \", p_value)  "
      ]
    },
    {
      "cell_type": "markdown",
      "metadata": {},
      "source": [
        "<h4>Conclusion:</h4>\n",
        "\n",
        "<p>Since the p-value is $<$ 0.001, the correlation between horsepower and price is statistically significant, and the linear relationship is quite strong (~0.809, close to 1).</p>\n"
      ]
    },
    {
      "cell_type": "markdown",
      "metadata": {},
      "source": [
        "<h3>Length vs. Price</h3>\n",
        "\n",
        "Let's calculate the  Pearson Correlation Coefficient and P-value of 'length' and 'price'.\n"
      ]
    },
    {
      "cell_type": "code",
      "execution_count": 46,
      "metadata": {},
      "outputs": [
        {
          "name": "stdout",
          "output_type": "stream",
          "text": [
            "The Pearson Correlation Coefficient is 0.6906283804483638  with a P-value of P =  8.016477466159709e-30\n"
          ]
        }
      ],
      "source": [
        "pearson_coef, p_value = stats.pearsonr(df['length'], df['price'])\n",
        "print(\"The Pearson Correlation Coefficient is\", pearson_coef, \" with a P-value of P = \", p_value)  "
      ]
    },
    {
      "cell_type": "markdown",
      "metadata": {},
      "source": [
        "<h4>Conclusion:</h4>\n",
        "<p>Since the p-value is $<$ 0.001, the correlation between length and price is statistically significant, and the linear relationship is moderately strong (~0.691).</p>\n"
      ]
    },
    {
      "cell_type": "markdown",
      "metadata": {},
      "source": [
        "<h3>Width vs. Price</h3>\n"
      ]
    },
    {
      "cell_type": "markdown",
      "metadata": {},
      "source": [
        "Let's calculate the Pearson Correlation Coefficient and P-value of 'width' and 'price':\n"
      ]
    },
    {
      "cell_type": "code",
      "execution_count": null,
      "metadata": {},
      "outputs": [],
      "source": [
        "pearson_coef, p_value = stats.pearsonr(df['width'], df['price'])\n",
        "print(\"The Pearson Correlation Coefficient is\", pearson_coef, \" with a P-value of P =\", p_value ) "
      ]
    },
    {
      "cell_type": "markdown",
      "metadata": {},
      "source": [
        "#### Conclusion:\n",
        "\n",
        "Since the p-value is < 0.001, the correlation between width and price is statistically significant, and the linear relationship is quite strong (\\~0.751).\n"
      ]
    },
    {
      "cell_type": "markdown",
      "metadata": {},
      "source": [
        "### Curb-Weight vs. Price\n"
      ]
    },
    {
      "cell_type": "markdown",
      "metadata": {},
      "source": [
        "Let's calculate the Pearson Correlation Coefficient and P-value of 'curb-weight' and 'price':\n"
      ]
    },
    {
      "cell_type": "code",
      "execution_count": null,
      "metadata": {},
      "outputs": [],
      "source": [
        "pearson_coef, p_value = stats.pearsonr(df['curb-weight'], df['price'])\n",
        "print( \"The Pearson Correlation Coefficient is\", pearson_coef, \" with a P-value of P = \", p_value)  "
      ]
    },
    {
      "cell_type": "markdown",
      "metadata": {},
      "source": [
        "<h4>Conclusion:</h4>\n",
        "<p>Since the p-value is $<$ 0.001, the correlation between curb-weight and price is statistically significant, and the linear relationship is quite strong (~0.834).</p>\n"
      ]
    },
    {
      "cell_type": "markdown",
      "metadata": {},
      "source": [
        "<h3>Engine-Size vs. Price</h3>\n",
        "\n",
        "Let's calculate the Pearson Correlation Coefficient and P-value of 'engine-size' and 'price':\n"
      ]
    },
    {
      "cell_type": "code",
      "execution_count": null,
      "metadata": {},
      "outputs": [],
      "source": [
        "pearson_coef, p_value = stats.pearsonr(df['engine-size'], df['price'])\n",
        "print(\"The Pearson Correlation Coefficient is\", pearson_coef, \" with a P-value of P =\", p_value) "
      ]
    },
    {
      "cell_type": "markdown",
      "metadata": {},
      "source": [
        "<h4>Conclusion:</h4>\n",
        "\n",
        "<p>Since the p-value is $<$ 0.001, the correlation between engine-size and price is statistically significant, and the linear relationship is very strong (~0.872).</p>\n"
      ]
    },
    {
      "cell_type": "markdown",
      "metadata": {},
      "source": [
        "<h3>Bore vs. Price</h3>\n"
      ]
    },
    {
      "cell_type": "markdown",
      "metadata": {},
      "source": [
        "Let's calculate the  Pearson Correlation Coefficient and P-value of 'bore' and 'price':\n"
      ]
    },
    {
      "cell_type": "code",
      "execution_count": null,
      "metadata": {},
      "outputs": [],
      "source": [
        "pearson_coef, p_value = stats.pearsonr(df['bore'], df['price'])\n",
        "print(\"The Pearson Correlation Coefficient is\", pearson_coef, \" with a P-value of P =  \", p_value ) "
      ]
    },
    {
      "cell_type": "markdown",
      "metadata": {},
      "source": [
        "<h4>Conclusion:</h4>\n",
        "<p>Since the p-value is $<$ 0.001, the correlation between bore and price is statistically significant, but the linear relationship is only moderate (~0.521).</p>\n"
      ]
    },
    {
      "cell_type": "markdown",
      "metadata": {},
      "source": [
        "We can relate the process for each 'city-mpg'  and 'highway-mpg':\n"
      ]
    },
    {
      "cell_type": "markdown",
      "metadata": {},
      "source": [
        "<h3>City-mpg vs. Price</h3>\n"
      ]
    },
    {
      "cell_type": "code",
      "execution_count": 47,
      "metadata": {},
      "outputs": [
        {
          "name": "stdout",
          "output_type": "stream",
          "text": [
            "The Pearson Correlation Coefficient is -0.6865710067844678  with a P-value of P =  2.321132065567512e-29\n"
          ]
        }
      ],
      "source": [
        "pearson_coef, p_value = stats.pearsonr(df['city-mpg'], df['price'])\n",
        "print(\"The Pearson Correlation Coefficient is\", pearson_coef, \" with a P-value of P = \", p_value)  "
      ]
    },
    {
      "cell_type": "markdown",
      "metadata": {},
      "source": [
        "<h4>Conclusion:</h4>\n",
        "<p>Since the p-value is $<$ 0.001, the correlation between city-mpg and price is statistically significant, and the coefficient of about -0.687 shows that the relationship is negative and moderately strong.</p>\n"
      ]
    },
    {
      "cell_type": "markdown",
      "metadata": {},
      "source": [
        "<h3>Highway-mpg vs. Price</h3>\n"
      ]
    },
    {
      "cell_type": "code",
      "execution_count": 48,
      "metadata": {},
      "outputs": [
        {
          "name": "stdout",
          "output_type": "stream",
          "text": [
            "The Pearson Correlation Coefficient is -0.704692265058953  with a P-value of P =  1.7495471144475452e-31\n"
          ]
        }
      ],
      "source": [
        "pearson_coef, p_value = stats.pearsonr(df['highway-mpg'], df['price'])\n",
        "print( \"The Pearson Correlation Coefficient is\", pearson_coef, \" with a P-value of P = \", p_value ) "
      ]
    },
    {
      "cell_type": "markdown",
      "metadata": {},
      "source": [
        "#### Conclusion:\n",
        "\n",
        "Since the p-value is < 0.001, the correlation between highway-mpg and price is statistically significant, and the coefficient of about -0.705 shows that the relationship is negative and moderately strong.\n"
      ]
    },
    {
      "cell_type": "markdown",
      "metadata": {},
      "source": [
        "<h2 id=\"anova\">6. ANOVA</h2>\n"
      ]
    },
    {
      "cell_type": "markdown",
      "metadata": {},
      "source": [
        "<h3>ANOVA: Analysis of Variance</h3>\n",
        "<p>The Analysis of Variance  (ANOVA) is a statistical method used to test whether there are significant differences between the means of two or more groups. ANOVA returns two parameters:</p>\n",
        "\n",
        "<p><b>F-test score</b>: ANOVA assumes the means of all groups are the same, calculates how much the actual means deviate from the assumption, and reports it as the F-test score. A larger score means there is a larger difference between the means.</p>\n",
        "\n",
        "<p><b>P-value</b>:  P-value tells how statistically significant our calculated score value is.</p>\n",
        "\n",
        "<p>If our price variable is strongly correlated with the variable we are analyzing, we expect ANOVA to return a sizeable F-test score and a small p-value.</p>\n"
      ]
    },
    {
      "cell_type": "markdown",
      "metadata": {},
      "source": [
        "<h3>Drive Wheels</h3>\n"
      ]
    },
    {
      "cell_type": "markdown",
      "metadata": {},
      "source": [
        "<p>Since ANOVA analyzes the difference between different groups of the same variable, the groupby function will come in handy. Because the ANOVA algorithm averages the data automatically, we do not need to take the average before hand.</p>\n",
        "\n",
        "<p>To see if different types of 'drive-wheels' impact  'price', we group the data.</p>\n"
      ]
    },
    {
      "cell_type": "code",
      "execution_count": 49,
      "metadata": {},
      "outputs": [
        {
          "data": {
            "text/html": [
              "<div>\n",
              "<style scoped>\n",
              "    .dataframe tbody tr th:only-of-type {\n",
              "        vertical-align: middle;\n",
              "    }\n",
              "\n",
              "    .dataframe tbody tr th {\n",
              "        vertical-align: top;\n",
              "    }\n",
              "\n",
              "    .dataframe thead th {\n",
              "        text-align: right;\n",
              "    }\n",
              "</style>\n",
              "<table border=\"1\" class=\"dataframe\">\n",
              "  <thead>\n",
              "    <tr style=\"text-align: right;\">\n",
              "      <th></th>\n",
              "      <th>drive-wheels</th>\n",
              "      <th>price</th>\n",
              "    </tr>\n",
              "  </thead>\n",
              "  <tbody>\n",
              "    <tr>\n",
              "      <th>0</th>\n",
              "      <td>rwd</td>\n",
              "      <td>13495.0</td>\n",
              "    </tr>\n",
              "    <tr>\n",
              "      <th>1</th>\n",
              "      <td>rwd</td>\n",
              "      <td>16500.0</td>\n",
              "    </tr>\n",
              "    <tr>\n",
              "      <th>3</th>\n",
              "      <td>fwd</td>\n",
              "      <td>13950.0</td>\n",
              "    </tr>\n",
              "    <tr>\n",
              "      <th>4</th>\n",
              "      <td>4wd</td>\n",
              "      <td>17450.0</td>\n",
              "    </tr>\n",
              "    <tr>\n",
              "      <th>5</th>\n",
              "      <td>fwd</td>\n",
              "      <td>15250.0</td>\n",
              "    </tr>\n",
              "    <tr>\n",
              "      <th>136</th>\n",
              "      <td>4wd</td>\n",
              "      <td>7603.0</td>\n",
              "    </tr>\n",
              "  </tbody>\n",
              "</table>\n",
              "</div>"
            ],
            "text/plain": [
              "    drive-wheels    price\n",
              "0            rwd  13495.0\n",
              "1            rwd  16500.0\n",
              "3            fwd  13950.0\n",
              "4            4wd  17450.0\n",
              "5            fwd  15250.0\n",
              "136          4wd   7603.0"
            ]
          },
          "execution_count": 49,
          "metadata": {},
          "output_type": "execute_result"
        }
      ],
      "source": [
        "grouped_test2=df_gptest[['drive-wheels', 'price']].groupby(['drive-wheels'])\n",
        "grouped_test2.head(2)"
      ]
    },
    {
      "cell_type": "code",
      "execution_count": 50,
      "metadata": {},
      "outputs": [
        {
          "data": {
            "text/html": [
              "<div>\n",
              "<style scoped>\n",
              "    .dataframe tbody tr th:only-of-type {\n",
              "        vertical-align: middle;\n",
              "    }\n",
              "\n",
              "    .dataframe tbody tr th {\n",
              "        vertical-align: top;\n",
              "    }\n",
              "\n",
              "    .dataframe thead th {\n",
              "        text-align: right;\n",
              "    }\n",
              "</style>\n",
              "<table border=\"1\" class=\"dataframe\">\n",
              "  <thead>\n",
              "    <tr style=\"text-align: right;\">\n",
              "      <th></th>\n",
              "      <th>drive-wheels</th>\n",
              "      <th>body-style</th>\n",
              "      <th>price</th>\n",
              "    </tr>\n",
              "  </thead>\n",
              "  <tbody>\n",
              "    <tr>\n",
              "      <th>0</th>\n",
              "      <td>rwd</td>\n",
              "      <td>convertible</td>\n",
              "      <td>13495.0</td>\n",
              "    </tr>\n",
              "    <tr>\n",
              "      <th>1</th>\n",
              "      <td>rwd</td>\n",
              "      <td>convertible</td>\n",
              "      <td>16500.0</td>\n",
              "    </tr>\n",
              "    <tr>\n",
              "      <th>2</th>\n",
              "      <td>rwd</td>\n",
              "      <td>hatchback</td>\n",
              "      <td>16500.0</td>\n",
              "    </tr>\n",
              "    <tr>\n",
              "      <th>3</th>\n",
              "      <td>fwd</td>\n",
              "      <td>sedan</td>\n",
              "      <td>13950.0</td>\n",
              "    </tr>\n",
              "    <tr>\n",
              "      <th>4</th>\n",
              "      <td>4wd</td>\n",
              "      <td>sedan</td>\n",
              "      <td>17450.0</td>\n",
              "    </tr>\n",
              "    <tr>\n",
              "      <th>...</th>\n",
              "      <td>...</td>\n",
              "      <td>...</td>\n",
              "      <td>...</td>\n",
              "    </tr>\n",
              "    <tr>\n",
              "      <th>196</th>\n",
              "      <td>rwd</td>\n",
              "      <td>sedan</td>\n",
              "      <td>16845.0</td>\n",
              "    </tr>\n",
              "    <tr>\n",
              "      <th>197</th>\n",
              "      <td>rwd</td>\n",
              "      <td>sedan</td>\n",
              "      <td>19045.0</td>\n",
              "    </tr>\n",
              "    <tr>\n",
              "      <th>198</th>\n",
              "      <td>rwd</td>\n",
              "      <td>sedan</td>\n",
              "      <td>21485.0</td>\n",
              "    </tr>\n",
              "    <tr>\n",
              "      <th>199</th>\n",
              "      <td>rwd</td>\n",
              "      <td>sedan</td>\n",
              "      <td>22470.0</td>\n",
              "    </tr>\n",
              "    <tr>\n",
              "      <th>200</th>\n",
              "      <td>rwd</td>\n",
              "      <td>sedan</td>\n",
              "      <td>22625.0</td>\n",
              "    </tr>\n",
              "  </tbody>\n",
              "</table>\n",
              "<p>201 rows × 3 columns</p>\n",
              "</div>"
            ],
            "text/plain": [
              "    drive-wheels   body-style    price\n",
              "0            rwd  convertible  13495.0\n",
              "1            rwd  convertible  16500.0\n",
              "2            rwd    hatchback  16500.0\n",
              "3            fwd        sedan  13950.0\n",
              "4            4wd        sedan  17450.0\n",
              "..           ...          ...      ...\n",
              "196          rwd        sedan  16845.0\n",
              "197          rwd        sedan  19045.0\n",
              "198          rwd        sedan  21485.0\n",
              "199          rwd        sedan  22470.0\n",
              "200          rwd        sedan  22625.0\n",
              "\n",
              "[201 rows x 3 columns]"
            ]
          },
          "execution_count": 50,
          "metadata": {},
          "output_type": "execute_result"
        }
      ],
      "source": [
        "df_gptest"
      ]
    },
    {
      "cell_type": "markdown",
      "metadata": {},
      "source": [
        "We can obtain the values of the method group using the method \"get_group\".\n"
      ]
    },
    {
      "cell_type": "code",
      "execution_count": 51,
      "metadata": {},
      "outputs": [
        {
          "data": {
            "text/plain": [
              "4      17450.0\n",
              "136     7603.0\n",
              "140     9233.0\n",
              "141    11259.0\n",
              "144     8013.0\n",
              "145    11694.0\n",
              "150     7898.0\n",
              "151     8778.0\n",
              "Name: price, dtype: float64"
            ]
          },
          "execution_count": 51,
          "metadata": {},
          "output_type": "execute_result"
        }
      ],
      "source": [
        "grouped_test2.get_group('4wd')['price']"
      ]
    },
    {
      "cell_type": "markdown",
      "metadata": {},
      "source": [
        "We can use the function 'f_oneway' in the module 'stats' to obtain the <b>F-test score</b> and <b>P-value</b>.\n"
      ]
    },
    {
      "cell_type": "code",
      "execution_count": 53,
      "metadata": {},
      "outputs": [
        {
          "name": "stdout",
          "output_type": "stream",
          "text": [
            "ANOVA results: F= 67.95406500780399 , P = 3.3945443577149576e-23\n"
          ]
        }
      ],
      "source": [
        "# ANOVA\n",
        "f_val, p_val = stats.f_oneway(grouped_test2.get_group('fwd')['price'], grouped_test2.get_group('rwd')['price'], grouped_test2.get_group('4wd')['price'])  \n",
        " \n",
        "print( \"ANOVA results: F=\", f_val, \", P =\", p_val)   "
      ]
    },
    {
      "cell_type": "markdown",
      "metadata": {},
      "source": [
        "This is a great result with a large F-test score showing a strong correlation and a P-value of almost 0 implying almost certain statistical significance. But does this mean all three tested groups are all this highly correlated?\n",
        "\n",
        "Let's examine them separately.\n"
      ]
    },
    {
      "cell_type": "markdown",
      "metadata": {},
      "source": [
        "#### fwd and rwd\n"
      ]
    },
    {
      "cell_type": "code",
      "execution_count": 54,
      "metadata": {},
      "outputs": [
        {
          "name": "stdout",
          "output_type": "stream",
          "text": [
            "ANOVA results: F= 130.5533160959111 , P = 2.2355306355677366e-23\n"
          ]
        }
      ],
      "source": [
        "f_val, p_val = stats.f_oneway(grouped_test2.get_group('fwd')['price'], grouped_test2.get_group('rwd')['price'])  \n",
        " \n",
        "print( \"ANOVA results: F=\", f_val, \", P =\", p_val )"
      ]
    },
    {
      "cell_type": "markdown",
      "metadata": {},
      "source": [
        "Let's examine the other groups.\n"
      ]
    },
    {
      "cell_type": "markdown",
      "metadata": {},
      "source": [
        "#### 4wd and rwd\n"
      ]
    },
    {
      "cell_type": "code",
      "execution_count": 55,
      "metadata": {},
      "outputs": [
        {
          "name": "stdout",
          "output_type": "stream",
          "text": [
            "ANOVA results: F= 8.580681368924756 , P = 0.004411492211225367\n"
          ]
        }
      ],
      "source": [
        "f_val, p_val = stats.f_oneway(grouped_test2.get_group('4wd')['price'], grouped_test2.get_group('rwd')['price'])  \n",
        "   \n",
        "print( \"ANOVA results: F=\", f_val, \", P =\", p_val)   "
      ]
    },
    {
      "cell_type": "markdown",
      "metadata": {},
      "source": [
        "<h4>4wd and fwd</h4>\n"
      ]
    },
    {
      "cell_type": "code",
      "execution_count": 56,
      "metadata": {},
      "outputs": [
        {
          "name": "stdout",
          "output_type": "stream",
          "text": [
            "ANOVA results: F= 0.665465750252303 , P = 0.4162011669784502\n"
          ]
        }
      ],
      "source": [
        "f_val, p_val = stats.f_oneway(grouped_test2.get_group('4wd')['price'], grouped_test2.get_group('fwd')['price'])  \n",
        " \n",
        "print(\"ANOVA results: F=\", f_val, \", P =\", p_val)   "
      ]
    },
    {
      "cell_type": "markdown",
      "metadata": {},
      "source": [
        "<h3>Conclusion: Important Variables</h3>\n"
      ]
    },
    {
      "cell_type": "markdown",
      "metadata": {},
      "source": [
        "<p>We now have a better idea of what our data looks like and which variables are important to take into account when predicting the car price. We have narrowed it down to the following variables:</p>\n",
        "\n",
        "Continuous numerical variables:\n",
        "\n",
        "<ul>\n",
        "    <li>Length</li>\n",
        "    <li>Width</li>\n",
        "    <li>Curb-weight</li>\n",
        "    <li>Engine-size</li>\n",
        "    <li>Horsepower</li>\n",
        "    <li>City-mpg</li>\n",
        "    <li>Highway-mpg</li>\n",
        "    <li>Wheel-base</li>\n",
        "    <li>Bore</li>\n",
        "</ul>\n",
        "\n",
        "Categorical variables:\n",
        "\n",
        "<ul>\n",
        "    <li>Drive-wheels</li>\n",
        "</ul>\n",
        "\n",
        "<p>As we now move into building machine learning models to automate our analysis, feeding the model with variables that meaningfully affect our target variable will improve our model's prediction performance.</p>\n"
      ]
    },
    {
      "cell_type": "markdown",
      "metadata": {},
      "source": [
        "### Thank you for completing this lab!\n",
        "\n",
        "## Author\n",
        "\n",
        "<a href=\"https://www.linkedin.com/in/joseph-s-50398b136/?utm_medium=Exinfluencer&utm_source=Exinfluencer&utm_content=000026UJ&utm_term=10006555&utm_id=NA-SkillsNetwork-Channel-SkillsNetworkCoursesIBMDeveloperSkillsNetworkDA0101ENSkillsNetwork20235326-2021-01-01\">Joseph Santarcangelo</a>\n",
        "\n",
        "### Other Contributors\n",
        "\n",
        "<a href=\"https://www.linkedin.com/in/mahdi-noorian-58219234/?utm_medium=Exinfluencer&utm_source=Exinfluencer&utm_content=000026UJ&utm_term=10006555&utm_id=NA-SkillsNetwork-Channel-SkillsNetworkCoursesIBMDeveloperSkillsNetworkDA0101ENSkillsNetwork20235326-2021-01-01\">Mahdi Noorian PhD</a>\n",
        "\n",
        "Bahare Talayian\n",
        "\n",
        "Eric Xiao\n",
        "\n",
        "Steven Dong\n",
        "\n",
        "Parizad\n",
        "\n",
        "Hima Vasudevan\n",
        "\n",
        "<a href=\"https://www.linkedin.com/in/fiorellawever/?utm_medium=Exinfluencer&utm_source=Exinfluencer&utm_content=000026UJ&utm_term=10006555&utm_id=NA-SkillsNetwork-Channel-SkillsNetworkCoursesIBMDeveloperSkillsNetworkDA0101ENSkillsNetwork20235326-2021-01-01\">Fiorella Wenver</a>\n",
        "\n",
        "<a href=\"https:// https://www.linkedin.com/in/yi-leng-yao-84451275/ \" target=\"_blank\" >Yi Yao</a>.\n",
        "\n",
        "## Change Log\n",
        "\n",
        "| Date (YYYY-MM-DD) | Version | Changed By | Change Description                 |\n",
        "| ----------------- | ------- | ---------- | ---------------------------------- |\n",
        "| 2020-10-30        | 2.1     | Lakshmi    | changed URL of csv                 |\n",
        "| 2020-08-27        | 2.0     | Lavanya    | Moved lab to course repo in GitLab |\n",
        "\n",
        "<hr>\n",
        "\n",
        "## <h3 align=\"center\"> © IBM Corporation 2020. All rights reserved. <h3/>\n"
      ]
    },
    {
      "cell_type": "code",
      "execution_count": null,
      "metadata": {},
      "outputs": [],
      "source": []
    },
    {
      "cell_type": "code",
      "execution_count": null,
      "metadata": {},
      "outputs": [],
      "source": []
    }
  ],
  "metadata": {
    "kernelspec": {
      "display_name": "Python 3 (ipykernel)",
      "language": "python",
      "name": "python3"
    }
  },
  "nbformat": 4,
  "nbformat_minor": 4
}
